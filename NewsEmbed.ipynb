{
 "cells": [
  {
   "cell_type": "code",
   "execution_count": 65,
   "metadata": {},
   "outputs": [],
   "source": [
    "import os\n",
    "import pandas as pd\n",
    "import warnings\n",
    "warnings.filterwarnings('ignore')\n"
   ]
  },
  {
   "cell_type": "code",
   "execution_count": 29,
   "metadata": {},
   "outputs": [],
   "source": [
    "cwd = os.getcwd()\n",
    "file_name = \"MINDsmall_train/news.tsv\"\n",
    "file_path =  os.path.join(cwd, file_name)"
   ]
  },
  {
   "cell_type": "code",
   "execution_count": 30,
   "metadata": {},
   "outputs": [],
   "source": [
    "news_df = pd.read_csv(file_path, sep='\\t',header=None, names=['NewsID', 'Category', 'SubCategory', 'Title' , 'Abstract' , 'URL', 'TitleEntities', 'AbstractEntities'])"
   ]
  },
  {
   "cell_type": "code",
   "execution_count": null,
   "metadata": {},
   "outputs": [],
   "source": []
  },
  {
   "cell_type": "code",
   "execution_count": 31,
   "metadata": {},
   "outputs": [
    {
     "data": {
      "text/html": [
       "<div>\n",
       "<style scoped>\n",
       "    .dataframe tbody tr th:only-of-type {\n",
       "        vertical-align: middle;\n",
       "    }\n",
       "\n",
       "    .dataframe tbody tr th {\n",
       "        vertical-align: top;\n",
       "    }\n",
       "\n",
       "    .dataframe thead th {\n",
       "        text-align: right;\n",
       "    }\n",
       "</style>\n",
       "<table border=\"1\" class=\"dataframe\">\n",
       "  <thead>\n",
       "    <tr style=\"text-align: right;\">\n",
       "      <th></th>\n",
       "      <th>NewsID</th>\n",
       "      <th>Category</th>\n",
       "      <th>SubCategory</th>\n",
       "      <th>Title</th>\n",
       "      <th>Abstract</th>\n",
       "      <th>URL</th>\n",
       "      <th>TitleEntities</th>\n",
       "      <th>AbstractEntities</th>\n",
       "    </tr>\n",
       "  </thead>\n",
       "  <tbody>\n",
       "    <tr>\n",
       "      <th>0</th>\n",
       "      <td>N55528</td>\n",
       "      <td>lifestyle</td>\n",
       "      <td>lifestyleroyals</td>\n",
       "      <td>The Brands Queen Elizabeth, Prince Charles, an...</td>\n",
       "      <td>Shop the notebooks, jackets, and more that the...</td>\n",
       "      <td>https://assets.msn.com/labs/mind/AAGH0ET.html</td>\n",
       "      <td>[{\"Label\": \"Prince Philip, Duke of Edinburgh\",...</td>\n",
       "      <td>[]</td>\n",
       "    </tr>\n",
       "    <tr>\n",
       "      <th>1</th>\n",
       "      <td>N19639</td>\n",
       "      <td>health</td>\n",
       "      <td>weightloss</td>\n",
       "      <td>50 Worst Habits For Belly Fat</td>\n",
       "      <td>These seemingly harmless habits are holding yo...</td>\n",
       "      <td>https://assets.msn.com/labs/mind/AAB19MK.html</td>\n",
       "      <td>[{\"Label\": \"Adipose tissue\", \"Type\": \"C\", \"Wik...</td>\n",
       "      <td>[{\"Label\": \"Adipose tissue\", \"Type\": \"C\", \"Wik...</td>\n",
       "    </tr>\n",
       "    <tr>\n",
       "      <th>2</th>\n",
       "      <td>N61837</td>\n",
       "      <td>news</td>\n",
       "      <td>newsworld</td>\n",
       "      <td>The Cost of Trump's Aid Freeze in the Trenches...</td>\n",
       "      <td>Lt. Ivan Molchanets peeked over a parapet of s...</td>\n",
       "      <td>https://assets.msn.com/labs/mind/AAJgNsz.html</td>\n",
       "      <td>[]</td>\n",
       "      <td>[{\"Label\": \"Ukraine\", \"Type\": \"G\", \"WikidataId...</td>\n",
       "    </tr>\n",
       "    <tr>\n",
       "      <th>3</th>\n",
       "      <td>N53526</td>\n",
       "      <td>health</td>\n",
       "      <td>voices</td>\n",
       "      <td>I Was An NBA Wife. Here's How It Affected My M...</td>\n",
       "      <td>I felt like I was a fraud, and being an NBA wi...</td>\n",
       "      <td>https://assets.msn.com/labs/mind/AACk2N6.html</td>\n",
       "      <td>[]</td>\n",
       "      <td>[{\"Label\": \"National Basketball Association\", ...</td>\n",
       "    </tr>\n",
       "    <tr>\n",
       "      <th>4</th>\n",
       "      <td>N38324</td>\n",
       "      <td>health</td>\n",
       "      <td>medical</td>\n",
       "      <td>How to Get Rid of Skin Tags, According to a De...</td>\n",
       "      <td>They seem harmless, but there's a very good re...</td>\n",
       "      <td>https://assets.msn.com/labs/mind/AAAKEkt.html</td>\n",
       "      <td>[{\"Label\": \"Skin tag\", \"Type\": \"C\", \"WikidataI...</td>\n",
       "      <td>[{\"Label\": \"Skin tag\", \"Type\": \"C\", \"WikidataI...</td>\n",
       "    </tr>\n",
       "  </tbody>\n",
       "</table>\n",
       "</div>"
      ],
      "text/plain": [
       "   NewsID   Category      SubCategory  \\\n",
       "0  N55528  lifestyle  lifestyleroyals   \n",
       "1  N19639     health       weightloss   \n",
       "2  N61837       news        newsworld   \n",
       "3  N53526     health           voices   \n",
       "4  N38324     health          medical   \n",
       "\n",
       "                                               Title  \\\n",
       "0  The Brands Queen Elizabeth, Prince Charles, an...   \n",
       "1                      50 Worst Habits For Belly Fat   \n",
       "2  The Cost of Trump's Aid Freeze in the Trenches...   \n",
       "3  I Was An NBA Wife. Here's How It Affected My M...   \n",
       "4  How to Get Rid of Skin Tags, According to a De...   \n",
       "\n",
       "                                            Abstract  \\\n",
       "0  Shop the notebooks, jackets, and more that the...   \n",
       "1  These seemingly harmless habits are holding yo...   \n",
       "2  Lt. Ivan Molchanets peeked over a parapet of s...   \n",
       "3  I felt like I was a fraud, and being an NBA wi...   \n",
       "4  They seem harmless, but there's a very good re...   \n",
       "\n",
       "                                             URL  \\\n",
       "0  https://assets.msn.com/labs/mind/AAGH0ET.html   \n",
       "1  https://assets.msn.com/labs/mind/AAB19MK.html   \n",
       "2  https://assets.msn.com/labs/mind/AAJgNsz.html   \n",
       "3  https://assets.msn.com/labs/mind/AACk2N6.html   \n",
       "4  https://assets.msn.com/labs/mind/AAAKEkt.html   \n",
       "\n",
       "                                       TitleEntities  \\\n",
       "0  [{\"Label\": \"Prince Philip, Duke of Edinburgh\",...   \n",
       "1  [{\"Label\": \"Adipose tissue\", \"Type\": \"C\", \"Wik...   \n",
       "2                                                 []   \n",
       "3                                                 []   \n",
       "4  [{\"Label\": \"Skin tag\", \"Type\": \"C\", \"WikidataI...   \n",
       "\n",
       "                                    AbstractEntities  \n",
       "0                                                 []  \n",
       "1  [{\"Label\": \"Adipose tissue\", \"Type\": \"C\", \"Wik...  \n",
       "2  [{\"Label\": \"Ukraine\", \"Type\": \"G\", \"WikidataId...  \n",
       "3  [{\"Label\": \"National Basketball Association\", ...  \n",
       "4  [{\"Label\": \"Skin tag\", \"Type\": \"C\", \"WikidataI...  "
      ]
     },
     "execution_count": 31,
     "metadata": {},
     "output_type": "execute_result"
    }
   ],
   "source": [
    "news_df.head()"
   ]
  },
  {
   "cell_type": "code",
   "execution_count": 66,
   "metadata": {},
   "outputs": [],
   "source": [
    "news_df.drop(columns=['URL', 'TitleEntities' ,'AbstractEntities' ], inplace=True)"
   ]
  },
  {
   "cell_type": "code",
   "execution_count": 67,
   "metadata": {},
   "outputs": [
    {
     "data": {
      "text/html": [
       "<div>\n",
       "<style scoped>\n",
       "    .dataframe tbody tr th:only-of-type {\n",
       "        vertical-align: middle;\n",
       "    }\n",
       "\n",
       "    .dataframe tbody tr th {\n",
       "        vertical-align: top;\n",
       "    }\n",
       "\n",
       "    .dataframe thead th {\n",
       "        text-align: right;\n",
       "    }\n",
       "</style>\n",
       "<table border=\"1\" class=\"dataframe\">\n",
       "  <thead>\n",
       "    <tr style=\"text-align: right;\">\n",
       "      <th></th>\n",
       "      <th>NewsID</th>\n",
       "      <th>Category</th>\n",
       "      <th>SubCategory</th>\n",
       "      <th>Title</th>\n",
       "      <th>Abstract</th>\n",
       "    </tr>\n",
       "  </thead>\n",
       "  <tbody>\n",
       "    <tr>\n",
       "      <th>0</th>\n",
       "      <td>N55528</td>\n",
       "      <td>lifestyle</td>\n",
       "      <td>lifestyleroyals</td>\n",
       "      <td>The Brands Queen Elizabeth, Prince Charles, an...</td>\n",
       "      <td>Shop the notebooks, jackets, and more that the...</td>\n",
       "    </tr>\n",
       "    <tr>\n",
       "      <th>1</th>\n",
       "      <td>N19639</td>\n",
       "      <td>health</td>\n",
       "      <td>weightloss</td>\n",
       "      <td>50 Worst Habits For Belly Fat</td>\n",
       "      <td>These seemingly harmless habits are holding yo...</td>\n",
       "    </tr>\n",
       "    <tr>\n",
       "      <th>2</th>\n",
       "      <td>N61837</td>\n",
       "      <td>news</td>\n",
       "      <td>newsworld</td>\n",
       "      <td>The Cost of Trump's Aid Freeze in the Trenches...</td>\n",
       "      <td>Lt. Ivan Molchanets peeked over a parapet of s...</td>\n",
       "    </tr>\n",
       "    <tr>\n",
       "      <th>3</th>\n",
       "      <td>N53526</td>\n",
       "      <td>health</td>\n",
       "      <td>voices</td>\n",
       "      <td>I Was An NBA Wife. Here's How It Affected My M...</td>\n",
       "      <td>I felt like I was a fraud, and being an NBA wi...</td>\n",
       "    </tr>\n",
       "    <tr>\n",
       "      <th>4</th>\n",
       "      <td>N38324</td>\n",
       "      <td>health</td>\n",
       "      <td>medical</td>\n",
       "      <td>How to Get Rid of Skin Tags, According to a De...</td>\n",
       "      <td>They seem harmless, but there's a very good re...</td>\n",
       "    </tr>\n",
       "  </tbody>\n",
       "</table>\n",
       "</div>"
      ],
      "text/plain": [
       "   NewsID   Category      SubCategory  \\\n",
       "0  N55528  lifestyle  lifestyleroyals   \n",
       "1  N19639     health       weightloss   \n",
       "2  N61837       news        newsworld   \n",
       "3  N53526     health           voices   \n",
       "4  N38324     health          medical   \n",
       "\n",
       "                                               Title  \\\n",
       "0  The Brands Queen Elizabeth, Prince Charles, an...   \n",
       "1                      50 Worst Habits For Belly Fat   \n",
       "2  The Cost of Trump's Aid Freeze in the Trenches...   \n",
       "3  I Was An NBA Wife. Here's How It Affected My M...   \n",
       "4  How to Get Rid of Skin Tags, According to a De...   \n",
       "\n",
       "                                            Abstract  \n",
       "0  Shop the notebooks, jackets, and more that the...  \n",
       "1  These seemingly harmless habits are holding yo...  \n",
       "2  Lt. Ivan Molchanets peeked over a parapet of s...  \n",
       "3  I felt like I was a fraud, and being an NBA wi...  \n",
       "4  They seem harmless, but there's a very good re...  "
      ]
     },
     "execution_count": 67,
     "metadata": {},
     "output_type": "execute_result"
    }
   ],
   "source": [
    "news_df.head()"
   ]
  },
  {
   "cell_type": "code",
   "execution_count": 59,
   "metadata": {},
   "outputs": [
    {
     "name": "stderr",
     "output_type": "stream",
     "text": [
      "Python-dotenv could not parse statement starting at line 2\n"
     ]
    }
   ],
   "source": [
    "import openai as OpenAI\n",
    "from dotenv import load_dotenv, find_dotenv\n",
    "_ = load_dotenv(find_dotenv())\n",
    "\n",
    "OPENAI_API_KEY  = os.getenv('OPENAI_API_KEY')\n",
    "PINECONE_API_KEY = os.getenv('PINECONE_API_KEY')"
   ]
  },
  {
   "cell_type": "code",
   "execution_count": 60,
   "metadata": {},
   "outputs": [],
   "source": [
    "openai.api_key = OPENAI_API_KEY\n",
    "openai_client = openai.OpenAI()"
   ]
  },
  {
   "cell_type": "code",
   "execution_count": 61,
   "metadata": {},
   "outputs": [],
   "source": [
    "from pinecone import Pinecone, ServerlessSpec\n",
    "\n",
    "INDEX_NAME = 'pc-index-news'\n",
    "pinecone = Pinecone(api_key=PINECONE_API_KEY)\n",
    "\n",
    "if INDEX_NAME in [index.name for index in pinecone.list_indexes()]:\n",
    "  pinecone.delete_index(INDEX_NAME)\n",
    "\n",
    "pinecone.create_index(name=INDEX_NAME, dimension=1536, metric='cosine',\n",
    "  spec=ServerlessSpec(cloud='aws', region='us-east-1'))\n",
    "\n",
    "index = pinecone.Index(INDEX_NAME)"
   ]
  },
  {
   "cell_type": "code",
   "execution_count": 69,
   "metadata": {},
   "outputs": [],
   "source": [
    "from sentence_transformers import SentenceTransformer\n",
    "\n",
    "\n",
    "def get_embeddings(articles, model=SentenceTransformer('all-MiniLM-L6-v2')):\n",
    "   return model.encode(articles)"
   ]
  },
  {
   "cell_type": "code",
   "execution_count": 90,
   "metadata": {},
   "outputs": [
    {
     "data": {
      "text/plain": [
       "array([[ 6.76568970e-02,  6.34959415e-02,  4.87130731e-02,\n",
       "         7.93049261e-02,  3.74480411e-02,  2.65283999e-03,\n",
       "         3.93749252e-02, -7.09848013e-03,  5.93613945e-02,\n",
       "         3.15369926e-02,  6.00981116e-02, -5.29051982e-02,\n",
       "         4.06067967e-02, -2.59308629e-02,  2.98428256e-02,\n",
       "         1.12688157e-03,  7.35148713e-02, -5.03818206e-02,\n",
       "        -1.22386612e-01,  2.37028431e-02,  2.97265705e-02,\n",
       "         4.24768627e-02,  2.56337319e-02,  1.99515629e-03,\n",
       "        -5.69190457e-02, -2.71598715e-02, -3.29035260e-02,\n",
       "         6.60249069e-02,  1.19007207e-01, -4.58791517e-02,\n",
       "        -7.26214275e-02, -3.25840414e-02,  5.23413494e-02,\n",
       "         4.50553037e-02,  8.25302675e-03,  3.67024392e-02,\n",
       "        -1.39415357e-02,  6.53918609e-02, -2.64272299e-02,\n",
       "         2.06400960e-04, -1.36643723e-02, -3.62810530e-02,\n",
       "        -1.95044074e-02, -2.89737955e-02,  3.94270197e-02,\n",
       "        -8.84090513e-02,  2.62426981e-03,  1.36713330e-02,\n",
       "         4.83062863e-02, -3.11566480e-02, -1.17329210e-01,\n",
       "        -5.11690453e-02, -8.85287896e-02, -2.18962990e-02,\n",
       "         1.42986234e-02,  4.44167629e-02, -1.34815387e-02,\n",
       "         7.43392184e-02,  2.66382899e-02, -1.98762435e-02,\n",
       "         1.79191995e-02, -1.06051853e-02, -9.04263109e-02,\n",
       "         2.13269275e-02,  1.41204819e-01, -6.47179456e-03,\n",
       "        -1.40381046e-03, -1.53609775e-02, -8.73571485e-02,\n",
       "         7.22173601e-02,  2.01402791e-02,  4.25587781e-02,\n",
       "        -3.49013507e-02,  3.19497514e-04, -8.02971125e-02,\n",
       "        -3.27472240e-02,  2.85268314e-02, -5.13657853e-02,\n",
       "         1.09389178e-01,  8.19327310e-02, -9.84040573e-02,\n",
       "        -9.34096202e-02, -1.51291648e-02,  4.51249294e-02,\n",
       "         4.94172275e-02, -2.51867939e-02,  1.57077424e-02,\n",
       "        -1.29290730e-01,  5.31895971e-03,  4.02340945e-03,\n",
       "        -2.34571490e-02, -6.72982782e-02,  2.92280279e-02,\n",
       "        -2.60845497e-02,  1.30625004e-02, -3.11663393e-02,\n",
       "        -4.82713394e-02, -5.58859296e-02, -3.87504660e-02,\n",
       "         1.20010883e-01, -1.03924042e-02,  4.89704907e-02,\n",
       "         5.53537421e-02,  4.49357890e-02, -4.00978653e-03,\n",
       "        -1.02959774e-01, -2.92968936e-02, -5.83402738e-02,\n",
       "         2.70472337e-02, -2.20169406e-02, -7.22241178e-02,\n",
       "        -4.13870104e-02, -1.93297844e-02,  2.73326878e-03,\n",
       "         2.76981998e-04, -9.67589021e-02, -1.00574687e-01,\n",
       "        -1.41923083e-02, -8.07891786e-02,  4.53925207e-02,\n",
       "         2.45041326e-02,  5.97613752e-02, -7.38185197e-02,\n",
       "         1.19843949e-02, -6.63403496e-02, -7.69045129e-02,\n",
       "         3.85158285e-02, -5.59362366e-33,  2.80014072e-02,\n",
       "        -5.60785159e-02, -4.86601666e-02,  2.15569232e-02,\n",
       "         6.01980612e-02, -4.81402762e-02, -3.50247286e-02,\n",
       "         1.93314012e-02, -1.75152216e-02, -3.89210284e-02,\n",
       "        -3.81063600e-03, -1.70287862e-02,  2.82099638e-02,\n",
       "         1.28291259e-02,  4.71600406e-02,  6.21030182e-02,\n",
       "        -6.43588901e-02,  1.29285619e-01, -1.31230978e-02,\n",
       "         5.23069203e-02, -3.73680815e-02,  2.89094616e-02,\n",
       "        -1.68981366e-02, -2.37330440e-02, -3.33491825e-02,\n",
       "        -5.16762100e-02,  1.55356955e-02,  2.08802447e-02,\n",
       "        -1.25371600e-02,  4.59578857e-02,  3.72719765e-02,\n",
       "         2.80566867e-02, -5.90005144e-02, -1.16988113e-02,\n",
       "         4.92182598e-02,  4.70329002e-02,  7.35487714e-02,\n",
       "        -3.70529778e-02,  3.98458028e-03,  1.06412042e-02,\n",
       "        -1.61433287e-04, -5.27165644e-02,  2.75928080e-02,\n",
       "        -3.92921083e-02,  8.44717696e-02,  4.86860760e-02,\n",
       "        -4.85870522e-03,  1.79948844e-02, -4.28569466e-02,\n",
       "         1.23375487e-02,  6.39955839e-03,  4.04823348e-02,\n",
       "         1.48886805e-02, -1.53941298e-02,  7.62948245e-02,\n",
       "         2.37043854e-02,  4.45236824e-02,  5.08196428e-02,\n",
       "        -2.31253146e-03, -1.88736934e-02, -1.23336026e-02,\n",
       "         4.66001667e-02, -5.63438088e-02,  6.29927218e-02,\n",
       "        -3.15535590e-02,  3.24912481e-02,  2.34673209e-02,\n",
       "        -6.55438602e-02,  2.01709140e-02,  2.57082339e-02,\n",
       "        -1.23869143e-02, -8.36489908e-03, -6.64377734e-02,\n",
       "         9.43073481e-02, -3.57092880e-02, -3.42483483e-02,\n",
       "        -6.66356226e-03, -8.01526941e-03, -3.09711155e-02,\n",
       "         4.33012582e-02, -8.21404625e-03, -1.50795028e-01,\n",
       "         3.07691507e-02,  4.00719307e-02, -3.79293151e-02,\n",
       "         1.93213800e-03,  4.00531068e-02, -8.77075195e-02,\n",
       "        -3.68491076e-02,  8.57958663e-03, -3.19251902e-02,\n",
       "        -1.25257941e-02,  7.35539943e-02,  1.34737801e-03,\n",
       "         2.05918830e-02,  2.71098238e-33, -5.18577062e-02,\n",
       "         5.78361303e-02, -9.18985382e-02,  3.94421443e-02,\n",
       "         1.05576523e-01, -1.96911804e-02,  6.18402325e-02,\n",
       "        -7.63465092e-02,  2.40880735e-02,  9.40048918e-02,\n",
       "        -1.16535455e-01,  3.71198319e-02,  5.22425212e-02,\n",
       "        -3.95860197e-03,  5.72214387e-02,  5.32853743e-03,\n",
       "         1.24016866e-01,  1.39022637e-02, -1.10250246e-02,\n",
       "         3.56053300e-02, -3.30754779e-02,  8.16574246e-02,\n",
       "        -1.52003570e-02,  6.05585389e-02, -6.01397529e-02,\n",
       "         3.26102376e-02, -3.48296911e-02, -1.69881564e-02,\n",
       "        -9.74906981e-02, -2.71483976e-02,  1.74710364e-03,\n",
       "        -7.68981948e-02, -4.31858189e-02, -1.89985204e-02,\n",
       "        -2.91661341e-02,  5.77488318e-02,  2.41821520e-02,\n",
       "        -1.16902813e-02, -6.21435083e-02,  2.84351949e-02,\n",
       "        -2.37555199e-04, -2.51783617e-02,  4.39638970e-03,\n",
       "         8.12839791e-02,  3.64184268e-02, -6.04006350e-02,\n",
       "        -3.65517475e-02, -7.93748572e-02, -5.08527458e-03,\n",
       "         6.69698566e-02, -1.17784373e-01,  3.23742889e-02,\n",
       "        -4.71252576e-02, -1.34459911e-02, -9.48444754e-02,\n",
       "         8.24959204e-03, -1.06748510e-02, -6.81881532e-02,\n",
       "         1.11819513e-03,  2.48020440e-02, -6.35889098e-02,\n",
       "         2.84493230e-02, -2.61303689e-02,  8.58111158e-02,\n",
       "         1.14682302e-01, -5.35345562e-02, -5.63588962e-02,\n",
       "         4.26009484e-02,  1.09454384e-02,  2.09579282e-02,\n",
       "         1.00131102e-01,  3.26051079e-02, -1.84208781e-01,\n",
       "        -3.93208861e-02, -6.91454932e-02, -6.38104752e-02,\n",
       "        -6.56385720e-02, -6.41251961e-03, -4.79612313e-02,\n",
       "        -7.68133253e-02,  2.95385066e-02, -2.29948256e-02,\n",
       "         4.17036824e-02, -2.50047166e-02, -4.54506977e-03,\n",
       "        -4.17137034e-02, -1.32289575e-02, -6.38357326e-02,\n",
       "        -2.46475521e-03, -1.37337763e-02,  1.68976709e-02,\n",
       "        -6.30398020e-02,  8.98880735e-02,  4.18171026e-02,\n",
       "        -1.85687821e-02, -1.80442186e-08, -1.67998224e-02,\n",
       "        -3.21577415e-02,  6.30383864e-02, -4.13091816e-02,\n",
       "         4.44818921e-02,  2.02465290e-03,  6.29593134e-02,\n",
       "        -5.17374091e-03, -1.00444648e-02, -3.05640101e-02,\n",
       "         3.52672674e-02,  5.58581725e-02, -4.67124581e-02,\n",
       "         3.45102735e-02,  3.29578295e-02,  4.30114344e-02,\n",
       "         2.94360705e-02, -3.03164721e-02, -1.71107855e-02,\n",
       "         7.37484321e-02, -5.47909997e-02,  2.77514849e-02,\n",
       "         6.20169006e-03,  1.58800762e-02,  3.42978500e-02,\n",
       "        -5.15751680e-03,  2.35080048e-02,  7.53135756e-02,\n",
       "         1.92843564e-02,  3.36196758e-02,  5.09103797e-02,\n",
       "         1.52497098e-01,  1.64208040e-02,  2.70528514e-02,\n",
       "         3.75162102e-02,  2.18553469e-02,  5.66333495e-02,\n",
       "        -3.95746008e-02,  7.12313280e-02, -5.41377440e-02,\n",
       "         1.03768264e-03,  2.11853050e-02, -3.56309041e-02,\n",
       "         1.09016910e-01,  2.76533933e-03,  3.13997492e-02,\n",
       "         1.38421659e-03, -3.45738679e-02, -4.59278151e-02,\n",
       "         2.88083144e-02,  7.16901571e-03,  4.84684519e-02,\n",
       "         2.61018276e-02, -9.44069773e-03,  2.82169469e-02,\n",
       "         3.48724462e-02,  3.69098820e-02, -8.58951919e-03,\n",
       "        -3.53205465e-02, -2.47856956e-02, -1.91920903e-02,\n",
       "         3.80707905e-02,  5.99653125e-02, -4.22287062e-02],\n",
       "       [ 8.64385739e-02,  1.02762647e-01,  5.39452769e-03,\n",
       "         2.04442558e-03, -9.96336807e-03,  2.53855437e-02,\n",
       "         4.92875315e-02, -3.06265373e-02,  6.87254965e-02,\n",
       "         1.01365829e-02,  7.75397867e-02, -9.00807455e-02,\n",
       "         6.10618899e-03, -5.69898970e-02,  1.41714485e-02,\n",
       "         2.80491393e-02, -8.68465081e-02,  7.64399245e-02,\n",
       "        -1.03491336e-01, -6.77437931e-02,  6.99946880e-02,\n",
       "         8.44250992e-02, -7.24911178e-03,  1.04770707e-02,\n",
       "         1.34020625e-02,  6.77576959e-02, -9.42086428e-02,\n",
       "        -3.71689908e-02,  5.22617437e-02, -3.10853440e-02,\n",
       "        -9.63407159e-02,  1.57716963e-02,  2.57866848e-02,\n",
       "         7.85245076e-02,  7.89949149e-02,  1.91516075e-02,\n",
       "         1.64356157e-02,  3.10089556e-03,  3.81311588e-02,\n",
       "         2.37090811e-02,  1.05389701e-02, -4.40645032e-02,\n",
       "         4.41738516e-02, -2.58728154e-02,  6.15378954e-02,\n",
       "        -4.05427776e-02, -8.64140317e-02,  3.19722630e-02,\n",
       "        -8.90660216e-04, -2.44437288e-02, -9.19721127e-02,\n",
       "         2.33939514e-02, -8.30293447e-02,  4.41510826e-02,\n",
       "        -2.49693058e-02,  6.23020381e-02, -1.30354438e-03,\n",
       "         7.51395673e-02,  2.46384740e-02, -6.47244453e-02,\n",
       "        -1.17727779e-01,  3.83391939e-02, -9.11767483e-02,\n",
       "         6.35445863e-02,  7.62740076e-02, -8.80241022e-02,\n",
       "         9.54562798e-03, -4.69717681e-02, -8.41740668e-02,\n",
       "         3.88823450e-02, -1.14393547e-01,  6.28858292e-03,\n",
       "        -3.49361971e-02,  2.39750445e-02, -3.31317149e-02,\n",
       "        -1.57244038e-02, -3.78955863e-02, -8.81248619e-03,\n",
       "         7.06118941e-02,  3.28066498e-02,  2.03672494e-03,\n",
       "        -1.12279013e-01,  6.79720053e-03,  1.22765787e-02,\n",
       "         3.35303172e-02, -1.36200814e-02, -2.25490183e-02,\n",
       "        -2.25228518e-02, -2.03194767e-02,  5.04297689e-02,\n",
       "        -7.48652816e-02, -8.22822154e-02,  7.65962750e-02,\n",
       "         4.93392199e-02, -3.75553556e-02,  1.44634685e-02,\n",
       "        -5.72457761e-02, -1.79954004e-02,  1.09697945e-01,\n",
       "         1.19462773e-01,  8.09225719e-04,  6.17057383e-02,\n",
       "         3.26322243e-02, -1.30780101e-01, -1.48636624e-01,\n",
       "        -6.16232492e-02,  4.33886349e-02,  2.67129410e-02,\n",
       "         1.39786107e-02, -3.94002423e-02, -2.52711941e-02,\n",
       "         3.87744070e-03,  3.58664766e-02, -6.15419857e-02,\n",
       "         3.76660265e-02,  2.67565660e-02, -3.82658988e-02,\n",
       "        -3.54793221e-02, -2.39227656e-02,  8.67977217e-02,\n",
       "        -1.84063017e-02,  7.71039501e-02,  1.39864406e-03,\n",
       "         7.00383112e-02, -4.77877818e-02, -7.89819881e-02,\n",
       "         5.10814488e-02, -2.99868315e-33, -3.91646028e-02,\n",
       "        -2.56212126e-03,  1.65210664e-02,  9.48938448e-03,\n",
       "        -5.66219725e-02,  6.57783076e-02, -4.77003045e-02,\n",
       "         1.11661851e-02, -5.73558174e-02, -9.16259736e-03,\n",
       "        -2.17521302e-02, -5.59531935e-02, -1.11423079e-02,\n",
       "         9.32793170e-02,  1.66765563e-02, -1.36723835e-02,\n",
       "         4.34388742e-02,  1.87242555e-03,  7.29947025e-03,\n",
       "         5.16332053e-02,  4.80608307e-02,  1.35341436e-01,\n",
       "        -1.71739105e-02, -1.29698133e-02, -7.50109702e-02,\n",
       "         2.61108018e-02,  2.69801989e-02,  7.83061725e-04,\n",
       "        -4.87270243e-02,  1.17842704e-02, -4.59580719e-02,\n",
       "        -4.83213551e-02, -1.95671152e-02,  1.93889439e-02,\n",
       "         1.98807213e-02,  1.67432260e-02,  9.87801105e-02,\n",
       "        -2.74087973e-02,  2.34809127e-02,  3.70225194e-03,\n",
       "        -6.14515021e-02, -1.21228001e-03, -9.50473081e-03,\n",
       "         9.25152376e-03,  2.38443837e-02,  8.61231759e-02,\n",
       "         2.26789825e-02,  5.45130461e-04,  3.47129628e-02,\n",
       "         6.25467533e-03, -6.92775473e-03,  3.92400399e-02,\n",
       "         1.15674920e-02,  3.26280296e-02,  6.22155629e-02,\n",
       "         2.76114307e-02,  1.86883807e-02,  3.55805941e-02,\n",
       "         4.11795788e-02,  1.54782208e-02,  4.22691442e-02,\n",
       "         3.82248163e-02,  1.00313388e-02, -2.83246078e-02,\n",
       "         4.47052717e-02, -4.10458557e-02, -4.50548669e-03,\n",
       "        -5.44734262e-02,  2.62320843e-02,  1.79862212e-02,\n",
       "        -1.23118766e-01, -4.66952138e-02, -1.35913128e-02,\n",
       "         6.46710396e-02,  3.57349822e-03, -1.22234104e-02,\n",
       "        -1.79382339e-02, -2.55502295e-02,  2.37223953e-02,\n",
       "         4.08666953e-03, -6.51475713e-02,  4.43651564e-02,\n",
       "         4.68595996e-02, -3.25175263e-02,  4.02270257e-03,\n",
       "        -3.97602422e-03,  1.11939739e-02, -9.95597839e-02,\n",
       "         3.33168618e-02,  8.01060870e-02,  9.42692310e-02,\n",
       "        -6.38294145e-02,  3.23151909e-02, -5.13553321e-02,\n",
       "        -7.49878399e-03,  5.30049183e-34, -4.13195007e-02,\n",
       "         9.49647054e-02, -1.06401421e-01,  4.96590622e-02,\n",
       "        -3.41913328e-02, -3.16745564e-02, -1.71556063e-02,\n",
       "         1.70102017e-03,  5.79757765e-02, -1.21775165e-03,\n",
       "        -1.68536101e-02, -5.16912676e-02,  5.52998893e-02,\n",
       "        -3.42647731e-02,  3.08179446e-02, -3.10481079e-02,\n",
       "         9.27533284e-02,  3.72663848e-02, -2.37398129e-02,\n",
       "         4.45893742e-02,  1.46153644e-02,  1.16239332e-01,\n",
       "        -5.00112772e-02,  3.88716608e-02,  4.24743025e-03,\n",
       "         2.56976578e-02,  3.27243917e-02,  4.29907665e-02,\n",
       "        -1.36144636e-02,  2.56122034e-02,  1.06262537e-02,\n",
       "        -8.46864060e-02, -9.52982381e-02,  1.08399861e-01,\n",
       "        -7.51600415e-02, -1.37773789e-02,  6.37338236e-02,\n",
       "        -4.49668057e-03, -3.25321443e-02,  6.23614080e-02,\n",
       "         3.48052904e-02, -3.54922265e-02, -2.00222582e-02,\n",
       "         3.66608314e-02, -2.48837322e-02,  1.01818619e-02,\n",
       "        -7.01233074e-02, -4.31950949e-02,  2.95332596e-02,\n",
       "        -2.94923375e-04, -3.45386788e-02,  1.46676125e-02,\n",
       "        -9.83970165e-02, -4.70488034e-02, -8.85495637e-03,\n",
       "        -8.89914259e-02,  3.50995883e-02, -1.29601985e-01,\n",
       "        -4.98866364e-02, -6.12047389e-02, -5.97797781e-02,\n",
       "         9.46317706e-03,  4.91217747e-02, -7.75026828e-02,\n",
       "         8.09727088e-02, -4.79257293e-02,  2.34379107e-03,\n",
       "         7.57031739e-02, -2.40175761e-02, -1.52545683e-02,\n",
       "         4.86738831e-02, -3.85968611e-02, -7.04831183e-02,\n",
       "        -1.20348400e-02, -3.88790444e-02, -7.76017159e-02,\n",
       "        -1.07243853e-02,  1.04188453e-02, -2.13753525e-02,\n",
       "        -9.17386636e-02, -1.11345164e-02, -2.96066031e-02,\n",
       "         2.46458165e-02,  4.65713022e-03, -1.63449831e-02,\n",
       "        -3.95219624e-02,  7.73373917e-02, -2.84733064e-02,\n",
       "        -3.69939161e-03,  8.27665403e-02, -1.10408934e-02,\n",
       "         3.13983560e-02,  5.35094813e-02,  5.75145818e-02,\n",
       "        -3.17622311e-02, -1.52911266e-08, -7.99661577e-02,\n",
       "        -4.76796962e-02, -8.59788954e-02,  5.69617040e-02,\n",
       "        -4.08866666e-02,  2.23832838e-02, -4.64448938e-03,\n",
       "        -3.80131006e-02, -3.10671031e-02, -1.07277902e-02,\n",
       "         1.97698604e-02,  7.76999863e-03, -6.09472767e-03,\n",
       "        -3.86375971e-02,  2.80272085e-02,  6.78137839e-02,\n",
       "        -2.35351659e-02,  3.21747661e-02,  8.02538171e-03,\n",
       "        -2.39107180e-02, -1.21997541e-03,  3.14599015e-02,\n",
       "        -5.24924137e-02, -8.06815550e-03,  3.14773107e-03,\n",
       "         5.11496514e-02, -4.44104336e-02,  6.36013299e-02,\n",
       "         3.85083854e-02,  3.30433138e-02, -4.18728031e-03,\n",
       "         4.95592467e-02, -5.69605194e-02, -6.49713399e-03,\n",
       "        -2.49793008e-02, -1.60867330e-02,  6.62289411e-02,\n",
       "        -2.06310730e-02,  1.08045764e-01,  1.68547239e-02,\n",
       "         1.43812746e-02, -1.32127497e-02, -1.29387408e-01,\n",
       "         6.95216581e-02, -5.55773005e-02, -6.75413236e-02,\n",
       "        -5.45819476e-03, -6.13596151e-03,  3.90841030e-02,\n",
       "        -6.28779829e-02,  3.74063663e-02, -1.16571253e-02,\n",
       "         1.29149910e-02, -5.52495643e-02,  5.16075939e-02,\n",
       "        -4.30841558e-03,  5.80247752e-02,  1.86944939e-02,\n",
       "         2.27810647e-02,  3.21665592e-02,  5.37978970e-02,\n",
       "         7.02848732e-02,  7.49312192e-02, -8.41774940e-02]], dtype=float32)"
      ]
     },
     "execution_count": 90,
     "metadata": {},
     "output_type": "execute_result"
    }
   ],
   "source": [
    "sentences = [\"This is an example sentence\", \"Each sentence is converted\"]\n",
    "get_embeddings(sentences)"
   ]
  },
  {
   "cell_type": "code",
   "execution_count": 74,
   "metadata": {},
   "outputs": [
    {
     "data": {
      "text/plain": [
       "<pandas.io.parsers.readers.TextFileReader at 0x14bebd610>"
      ]
     },
     "execution_count": 74,
     "metadata": {},
     "output_type": "execute_result"
    }
   ],
   "source": [
    "chunks"
   ]
  },
  {
   "cell_type": "code",
   "execution_count": 93,
   "metadata": {},
   "outputs": [
    {
     "name": "stderr",
     "output_type": "stream",
     "text": [
      "100%|██████████| 100/100 [00:14<00:00,  6.81it/s]\n"
     ]
    },
    {
     "name": "stdout",
     "output_type": "stream",
     "text": [
      "['The Brands Queen Elizabeth, Prince Charles, and Prince Philip Swear By', '50 Worst Habits For Belly Fat', \"The Cost of Trump's Aid Freeze in the Trenches of Ukraine's War\", \"I Was An NBA Wife. Here's How It Affected My Mental Health.\", 'How to Get Rid of Skin Tags, According to a Dermatologist', 'Should NFL be able to fine players for criticizing officiating?', \"It's been Orlando's hottest October ever so far, but cooler temperatures on the way\", 'Chile: Three die in supermarket fire amid protests', 'Best PS5 games: top PlayStation 5 titles to look forward to', 'How to report weather-related closings, delays']\n",
      "['50 Foods You Should Never Eat, According to Health Experts', 'Trying to Make a Ram 3500 as Quick as a Viper Requires Some Disassembly', '25 Biggest Grocery Store Mistakes Making You Gain Weight', 'Instagram Filters with Plastic Surgery-Inspired Effects Could Soon Disappear', 'Michigan apple recall: Nearly 2,300 crates could be contaminated with listeria', \"Kate Middleton's Best Hairstyles Through the Years\", 'Stars who got fired from major projects', \"Newark Liberty Airport's Terminal One a $2.7 billion 'transformative' project\", 'Is This The 2021 GMC Yukon Denali?', 'John Dorsey admits talks with Washington, but it \"takes two to tango\"']\n"
     ]
    },
    {
     "name": "stderr",
     "output_type": "stream",
     "text": []
    },
    {
     "name": "stdout",
     "output_type": "stream",
     "text": [
      "['Elijah Cummings to lie in state at US Capitol Thursday', '17 Abandoned Theme Parks to Explore for Thrills, Chills, and Nostalgia', 'Ford Bronco Test Mule Spotted Flexing Its Muscles in Australia', \"Trump's Trustbusters Bring Microsoft Lessons to Big Tech Fight\", 'PGA Tour winners', '10 Things You Never Knew About Owls', '25 Last-Minute Ideas That Will Absolutely Save Your Holiday Dinner', 'Every outfit Duchess Kate has worn in 2019', 'New iPad Pro 2019 release date, price, news and leaks', 'These Simple Diet Changes Helped This Guy Lose 75 Pounds in 9 Months']\n",
      "['Without help from US, UN climate fund struggles to meet goal', 'Best PS4 games 2019: play great PlayStation 4 games', 'The 23 Best TV Reboots of All Time', 'Netflix hackers: Why they steal passwords', '20 Must-Try Gravy Recipes for Your Thanksgiving Feast', 'A little snow causes a big mess, more than 100 crashes on Minnesota roads', 'Extinction Rebellion wins court challenge against London police', 'LA rivalry takes on new meaning for fans as Lakers, Clippers in hunt for NBA championship', 'Mom with schizophrenia, 6-year-old daughter missing in Queens', \"5 Things You Probably Shouldn't Be Buying from Costco\"]\n",
      "[\"POWER RANKING: Here's who has the best chance of becoming the 2020 Democratic presidential nominee\", 'Today in History: November 2', \"25 Photos of the Royal Family at Balmoral Castle, Queen Elizabeth's Favorite Home\", \"I'm Afraid to Tell My Male Bosses I'm Pregnant\", 'These Cranberry Sauce Recipes Are Perfect for Thanksgiving Dinner', 'Phil Fulmer blasts NCAA after key Tennessee freshman denied eligibility', \"Prince George's Royal Life in Photos\", 'Can you answer these real Jeopardy questions about TV shows?', \"Randall's Rant: Is Tiger already the GOAT without 18 majors?\", 'The 25 most desirable places to live in the US in 2019']\n",
      "[\"40+ Stuffed Pasta Recipes You'll Want To Make Every Night\", \"'Bachelor's Amanda Stanton Is Dating 'Rich Kids of Beverly Hills' Star Brendan Fitzpatrick\", \"I'm Sorry, But Please Do Not Put Your Purse On My Couch\", \"It's Not All About the Corgis - Here Are the Royal Family's Other Beloved Pets\", '2020 Toyota Supra GT4 details announced, makes 429 horsepower', \"Tim Burton's Original Art Is on Display at the Neon Museum in Las Vegas\", \"16 Live-Action Disney Movies in the Works After 'Maleficent: Mistress of Evil' (Photos)\", '100 Genius Tips that Will Make Your Holidays So Much Better', \"What's new in Germany and the Low Countries for 2019\", 'Millennials are killing purse sales and replacing them with backpacks']\n"
     ]
    },
    {
     "name": "stderr",
     "output_type": "stream",
     "text": []
    },
    {
     "name": "stdout",
     "output_type": "stream",
     "text": [
      "[\"23 Things Car Dealerships Don't Want You To Know\", 'Locked On Suns Wednesday: Suns blast Kings to begin 2019-20 season', \"TV shows we're most excited about for the rest of the year\", 'The Absolute Best One-piece Bathing Suits of 2019', '40 Things I Wish I Could Tell My Younger Self', 'Why Is This Weird Chevy Colorado Test Mule Trolling Ford HQ?', '20 Words and Phrases You Had No Idea Were Coined in New York City', \"All of Kevin Harvick's Monster Energy Series victories\", 'PCC Community Markets Plans Its First Fast Casual Restaurant Inside New Ballard Store', 'Where to Find a Good, Cheap Sandwich in Every State']\n",
      "['16 major chains where you can buy plant-based versions of your fast-food favorites', 'Do You Hate Meditating? So Do These People, But They Do It Anyway', \"So far the World Series is one big reminder that you can't predict October baseball\", '40 Celebrity Mothers and Daughters at the Same Age', 'The Top 50 Fast Food Restaurants in America', 'Take heart, millennials: Investing is within your reach', 'Viral college football fan under fire for past offensive tweets', \"Watch this priest perform a 'spirited' dance at pep rally\", \"Don't Be Like These Celebrities Convicted of Tax Evasion\", 'All eyes on Drew Brees as possibility of return nears']\n",
      "['Restaurants to Satisfy Late Night Cravings in Louisville and Beyond', 'Cutest photos of the royal Cambridge kids', \"2021 Cadillac Escalade's Interior Spied for Real\", \"Veneno Roadster, One:1, One-77, LaFerrari, P1, Veyron headline 25-car Bonham's auction\", \"46 Mismatched Nail Ideas You'll Want to Copy Immediately\", 'In Photos: Flooding across the globe', 'The News In Cartoons', 'More store closings coming: The list of retailers closing locations in 2019', 'Extreme Jeep Wrangler Prototype Caught Testing in Michigan', 'Must-see biopics']\n"
     ]
    },
    {
     "name": "stderr",
     "output_type": "stream",
     "text": []
    },
    {
     "name": "stdout",
     "output_type": "stream",
     "text": [
      "['Redskins place TE Jordan Reed on injured reserve, ending his season', 'NFL Week 9 Odds: Point Spreads, Betting Lines For All 14 Football Games', '27 products you only need to buy once in your life', 'Ranking 26 fast-food fried-chicken sandwiches (including Popeyes)', '17 Surprising Ways Penny-Pinching Costs You More', \"The Fascinating Story Behind Where 'Hocus Pocus' Was Filmed\", 'Early symptoms of dementia: Be aware of subtle signs', 'Man killed in officer-involved shooting in St. Louis', '40 Etiquette Mistakes You Need to Stop Making by Age 40', 'Patriots vs. Ravens: 3 keys to the game, fun facts, prediction']\n"
     ]
    }
   ],
   "source": [
    "from tqdm.auto import tqdm, trange\n",
    "\n",
    "CHUNK_SIZE=10\n",
    "TOTAL_ROWS=100\n",
    "progress_bar = tqdm(total=TOTAL_ROWS)\n",
    "use_columns = [0,1,2,3,4]\n",
    "\n",
    "chunks = pd.read_csv(file_path, sep='\\t',header=None,usecols=use_columns , \n",
    "                     names=['NewsID', 'Category', 'SubCategory', 'Title' , 'Abstract' ]\n",
    "                     , chunksize=CHUNK_SIZE, \n",
    "                     nrows=TOTAL_ROWS)\n",
    "\n",
    "\n",
    "\n",
    "chunk_num = 0\n",
    "for chunk in chunks:\n",
    "    titles = chunk['Title'].tolist()\n",
    "    print(titles)\n",
    "    embeddings = get_embeddings(titles)\n",
    "    prepped = [{'id':str(chunk_num*CHUNK_SIZE+i), 'values':embeddings[i],\n",
    "                'metadata':{'title':titles[i]},} for i in range(0,len(titles))]\n",
    "    chunk_num = chunk_num + 1\n",
    "    if len(prepped) >= 200:\n",
    "      index.upsert(prepped)\n",
    "      prepped = []\n",
    "    progress_bar.update(len(chunk))"
   ]
  },
  {
   "cell_type": "code",
   "execution_count": 82,
   "metadata": {},
   "outputs": [],
   "source": [
    "def subarray_sum(nums, k):\n",
    "    sum_counts = {0: 1}\n",
    "    cumulative_sum = 0\n",
    "    count = 0\n",
    "\n",
    "    for num in nums:\n",
    "        print('***Start next itme***')\n",
    "        cumulative_sum += num\n",
    "        print(f'num is {num}')\n",
    "        print(f'Cumulative Sum is now: {cumulative_sum}')\n",
    "        \n",
    "        if cumulative_sum - k in sum_counts:\n",
    "            count += sum_counts[cumulative_sum - k]\n",
    "            print(f'count updated to : {count}')\n",
    "            \n",
    "        \n",
    "        if cumulative_sum in sum_counts:\n",
    "            sum_counts[cumulative_sum] += 1            \n",
    "        else:\n",
    "            sum_counts[cumulative_sum] = 1\n",
    "        \n",
    "        print(f'sum_counts updated to : {sum_counts}')\n",
    "            \n",
    "    \n",
    "    return count"
   ]
  },
  {
   "cell_type": "code",
   "execution_count": 83,
   "metadata": {},
   "outputs": [
    {
     "name": "stdout",
     "output_type": "stream",
     "text": [
      "***Start next itme***\n",
      "num is 2\n",
      "Cumulative Sum is now: 2\n",
      "sum_counts updated to : {0: 1, 2: 1}\n",
      "***Start next itme***\n",
      "num is 2\n",
      "Cumulative Sum is now: 4\n",
      "count updated to : 1\n",
      "sum_counts updated to : {0: 1, 2: 1, 4: 1}\n",
      "***Start next itme***\n",
      "num is 2\n",
      "Cumulative Sum is now: 6\n",
      "count updated to : 2\n",
      "sum_counts updated to : {0: 1, 2: 1, 4: 1, 6: 1}\n"
     ]
    },
    {
     "data": {
      "text/plain": [
       "2"
      ]
     },
     "execution_count": 83,
     "metadata": {},
     "output_type": "execute_result"
    }
   ],
   "source": [
    "subarray_sum([2, 2, 2], 4)"
   ]
  },
  {
   "cell_type": "code",
   "execution_count": 86,
   "metadata": {},
   "outputs": [
    {
     "data": {
      "text/plain": [
       "False"
      ]
     },
     "execution_count": 86,
     "metadata": {},
     "output_type": "execute_result"
    }
   ],
   "source": []
  },
  {
   "cell_type": "code",
   "execution_count": 87,
   "metadata": {},
   "outputs": [],
   "source": [
    "p_dict = {'(':0 , '[':0, '{': 0 , ')':0 , ']':0 , '}':0}"
   ]
  },
  {
   "cell_type": "code",
   "execution_count": 89,
   "metadata": {},
   "outputs": [
    {
     "data": {
      "text/plain": [
       "0"
      ]
     },
     "execution_count": 89,
     "metadata": {},
     "output_type": "execute_result"
    }
   ],
   "source": [
    "p_dict['(']"
   ]
  },
  {
   "cell_type": "code",
   "execution_count": null,
   "metadata": {},
   "outputs": [],
   "source": []
  }
 ],
 "metadata": {
  "kernelspec": {
   "display_name": "tf_env",
   "language": "python",
   "name": "python3"
  },
  "language_info": {
   "codemirror_mode": {
    "name": "ipython",
    "version": 3
   },
   "file_extension": ".py",
   "mimetype": "text/x-python",
   "name": "python",
   "nbconvert_exporter": "python",
   "pygments_lexer": "ipython3",
   "version": "3.12.3"
  }
 },
 "nbformat": 4,
 "nbformat_minor": 2
}
