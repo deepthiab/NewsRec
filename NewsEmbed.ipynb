{
 "cells": [
  {
   "cell_type": "code",
   "execution_count": 1,
   "metadata": {},
   "outputs": [],
   "source": [
    "import os\n",
    "import pandas as pd\n",
    "import numpy as np\n",
    "import warnings\n",
    "warnings.filterwarnings('ignore')"
   ]
  },
  {
   "cell_type": "code",
   "execution_count": 2,
   "metadata": {},
   "outputs": [],
   "source": [
    "cwd = os.getcwd()\n",
    "file_name = \"MINDsmall_train/news.tsv\"\n",
    "file_path =  os.path.join(cwd, file_name)"
   ]
  },
  {
   "cell_type": "code",
   "execution_count": 3,
   "metadata": {},
   "outputs": [],
   "source": [
    "news_df = pd.read_csv(file_path, sep='\\t',header=None, names=['NewsID', 'Category', 'SubCategory', 'Title' , 'Abstract' , 'URL', 'TitleEntities', 'AbstractEntities'])"
   ]
  },
  {
   "cell_type": "code",
   "execution_count": 4,
   "metadata": {},
   "outputs": [
    {
     "data": {
      "text/html": [
       "<div>\n",
       "<style scoped>\n",
       "    .dataframe tbody tr th:only-of-type {\n",
       "        vertical-align: middle;\n",
       "    }\n",
       "\n",
       "    .dataframe tbody tr th {\n",
       "        vertical-align: top;\n",
       "    }\n",
       "\n",
       "    .dataframe thead th {\n",
       "        text-align: right;\n",
       "    }\n",
       "</style>\n",
       "<table border=\"1\" class=\"dataframe\">\n",
       "  <thead>\n",
       "    <tr style=\"text-align: right;\">\n",
       "      <th></th>\n",
       "      <th>NewsID</th>\n",
       "      <th>Category</th>\n",
       "      <th>SubCategory</th>\n",
       "      <th>Title</th>\n",
       "      <th>Abstract</th>\n",
       "      <th>URL</th>\n",
       "      <th>TitleEntities</th>\n",
       "      <th>AbstractEntities</th>\n",
       "    </tr>\n",
       "  </thead>\n",
       "  <tbody>\n",
       "    <tr>\n",
       "      <th>0</th>\n",
       "      <td>N55528</td>\n",
       "      <td>lifestyle</td>\n",
       "      <td>lifestyleroyals</td>\n",
       "      <td>The Brands Queen Elizabeth, Prince Charles, an...</td>\n",
       "      <td>Shop the notebooks, jackets, and more that the...</td>\n",
       "      <td>https://assets.msn.com/labs/mind/AAGH0ET.html</td>\n",
       "      <td>[{\"Label\": \"Prince Philip, Duke of Edinburgh\",...</td>\n",
       "      <td>[]</td>\n",
       "    </tr>\n",
       "    <tr>\n",
       "      <th>1</th>\n",
       "      <td>N19639</td>\n",
       "      <td>health</td>\n",
       "      <td>weightloss</td>\n",
       "      <td>50 Worst Habits For Belly Fat</td>\n",
       "      <td>These seemingly harmless habits are holding yo...</td>\n",
       "      <td>https://assets.msn.com/labs/mind/AAB19MK.html</td>\n",
       "      <td>[{\"Label\": \"Adipose tissue\", \"Type\": \"C\", \"Wik...</td>\n",
       "      <td>[{\"Label\": \"Adipose tissue\", \"Type\": \"C\", \"Wik...</td>\n",
       "    </tr>\n",
       "    <tr>\n",
       "      <th>2</th>\n",
       "      <td>N61837</td>\n",
       "      <td>news</td>\n",
       "      <td>newsworld</td>\n",
       "      <td>The Cost of Trump's Aid Freeze in the Trenches...</td>\n",
       "      <td>Lt. Ivan Molchanets peeked over a parapet of s...</td>\n",
       "      <td>https://assets.msn.com/labs/mind/AAJgNsz.html</td>\n",
       "      <td>[]</td>\n",
       "      <td>[{\"Label\": \"Ukraine\", \"Type\": \"G\", \"WikidataId...</td>\n",
       "    </tr>\n",
       "    <tr>\n",
       "      <th>3</th>\n",
       "      <td>N53526</td>\n",
       "      <td>health</td>\n",
       "      <td>voices</td>\n",
       "      <td>I Was An NBA Wife. Here's How It Affected My M...</td>\n",
       "      <td>I felt like I was a fraud, and being an NBA wi...</td>\n",
       "      <td>https://assets.msn.com/labs/mind/AACk2N6.html</td>\n",
       "      <td>[]</td>\n",
       "      <td>[{\"Label\": \"National Basketball Association\", ...</td>\n",
       "    </tr>\n",
       "    <tr>\n",
       "      <th>4</th>\n",
       "      <td>N38324</td>\n",
       "      <td>health</td>\n",
       "      <td>medical</td>\n",
       "      <td>How to Get Rid of Skin Tags, According to a De...</td>\n",
       "      <td>They seem harmless, but there's a very good re...</td>\n",
       "      <td>https://assets.msn.com/labs/mind/AAAKEkt.html</td>\n",
       "      <td>[{\"Label\": \"Skin tag\", \"Type\": \"C\", \"WikidataI...</td>\n",
       "      <td>[{\"Label\": \"Skin tag\", \"Type\": \"C\", \"WikidataI...</td>\n",
       "    </tr>\n",
       "  </tbody>\n",
       "</table>\n",
       "</div>"
      ],
      "text/plain": [
       "   NewsID   Category      SubCategory  \\\n",
       "0  N55528  lifestyle  lifestyleroyals   \n",
       "1  N19639     health       weightloss   \n",
       "2  N61837       news        newsworld   \n",
       "3  N53526     health           voices   \n",
       "4  N38324     health          medical   \n",
       "\n",
       "                                               Title  \\\n",
       "0  The Brands Queen Elizabeth, Prince Charles, an...   \n",
       "1                      50 Worst Habits For Belly Fat   \n",
       "2  The Cost of Trump's Aid Freeze in the Trenches...   \n",
       "3  I Was An NBA Wife. Here's How It Affected My M...   \n",
       "4  How to Get Rid of Skin Tags, According to a De...   \n",
       "\n",
       "                                            Abstract  \\\n",
       "0  Shop the notebooks, jackets, and more that the...   \n",
       "1  These seemingly harmless habits are holding yo...   \n",
       "2  Lt. Ivan Molchanets peeked over a parapet of s...   \n",
       "3  I felt like I was a fraud, and being an NBA wi...   \n",
       "4  They seem harmless, but there's a very good re...   \n",
       "\n",
       "                                             URL  \\\n",
       "0  https://assets.msn.com/labs/mind/AAGH0ET.html   \n",
       "1  https://assets.msn.com/labs/mind/AAB19MK.html   \n",
       "2  https://assets.msn.com/labs/mind/AAJgNsz.html   \n",
       "3  https://assets.msn.com/labs/mind/AACk2N6.html   \n",
       "4  https://assets.msn.com/labs/mind/AAAKEkt.html   \n",
       "\n",
       "                                       TitleEntities  \\\n",
       "0  [{\"Label\": \"Prince Philip, Duke of Edinburgh\",...   \n",
       "1  [{\"Label\": \"Adipose tissue\", \"Type\": \"C\", \"Wik...   \n",
       "2                                                 []   \n",
       "3                                                 []   \n",
       "4  [{\"Label\": \"Skin tag\", \"Type\": \"C\", \"WikidataI...   \n",
       "\n",
       "                                    AbstractEntities  \n",
       "0                                                 []  \n",
       "1  [{\"Label\": \"Adipose tissue\", \"Type\": \"C\", \"Wik...  \n",
       "2  [{\"Label\": \"Ukraine\", \"Type\": \"G\", \"WikidataId...  \n",
       "3  [{\"Label\": \"National Basketball Association\", ...  \n",
       "4  [{\"Label\": \"Skin tag\", \"Type\": \"C\", \"WikidataI...  "
      ]
     },
     "execution_count": 4,
     "metadata": {},
     "output_type": "execute_result"
    }
   ],
   "source": [
    "news_df.head()"
   ]
  },
  {
   "cell_type": "code",
   "execution_count": 5,
   "metadata": {},
   "outputs": [],
   "source": [
    "news_df.drop(columns=['URL', 'TitleEntities' ,'AbstractEntities' ], inplace=True)"
   ]
  },
  {
   "cell_type": "code",
   "execution_count": 6,
   "metadata": {},
   "outputs": [
    {
     "data": {
      "text/html": [
       "<div>\n",
       "<style scoped>\n",
       "    .dataframe tbody tr th:only-of-type {\n",
       "        vertical-align: middle;\n",
       "    }\n",
       "\n",
       "    .dataframe tbody tr th {\n",
       "        vertical-align: top;\n",
       "    }\n",
       "\n",
       "    .dataframe thead th {\n",
       "        text-align: right;\n",
       "    }\n",
       "</style>\n",
       "<table border=\"1\" class=\"dataframe\">\n",
       "  <thead>\n",
       "    <tr style=\"text-align: right;\">\n",
       "      <th></th>\n",
       "      <th>NewsID</th>\n",
       "      <th>Category</th>\n",
       "      <th>SubCategory</th>\n",
       "      <th>Title</th>\n",
       "      <th>Abstract</th>\n",
       "    </tr>\n",
       "  </thead>\n",
       "  <tbody>\n",
       "    <tr>\n",
       "      <th>0</th>\n",
       "      <td>N55528</td>\n",
       "      <td>lifestyle</td>\n",
       "      <td>lifestyleroyals</td>\n",
       "      <td>The Brands Queen Elizabeth, Prince Charles, an...</td>\n",
       "      <td>Shop the notebooks, jackets, and more that the...</td>\n",
       "    </tr>\n",
       "    <tr>\n",
       "      <th>1</th>\n",
       "      <td>N19639</td>\n",
       "      <td>health</td>\n",
       "      <td>weightloss</td>\n",
       "      <td>50 Worst Habits For Belly Fat</td>\n",
       "      <td>These seemingly harmless habits are holding yo...</td>\n",
       "    </tr>\n",
       "    <tr>\n",
       "      <th>2</th>\n",
       "      <td>N61837</td>\n",
       "      <td>news</td>\n",
       "      <td>newsworld</td>\n",
       "      <td>The Cost of Trump's Aid Freeze in the Trenches...</td>\n",
       "      <td>Lt. Ivan Molchanets peeked over a parapet of s...</td>\n",
       "    </tr>\n",
       "    <tr>\n",
       "      <th>3</th>\n",
       "      <td>N53526</td>\n",
       "      <td>health</td>\n",
       "      <td>voices</td>\n",
       "      <td>I Was An NBA Wife. Here's How It Affected My M...</td>\n",
       "      <td>I felt like I was a fraud, and being an NBA wi...</td>\n",
       "    </tr>\n",
       "    <tr>\n",
       "      <th>4</th>\n",
       "      <td>N38324</td>\n",
       "      <td>health</td>\n",
       "      <td>medical</td>\n",
       "      <td>How to Get Rid of Skin Tags, According to a De...</td>\n",
       "      <td>They seem harmless, but there's a very good re...</td>\n",
       "    </tr>\n",
       "  </tbody>\n",
       "</table>\n",
       "</div>"
      ],
      "text/plain": [
       "   NewsID   Category      SubCategory  \\\n",
       "0  N55528  lifestyle  lifestyleroyals   \n",
       "1  N19639     health       weightloss   \n",
       "2  N61837       news        newsworld   \n",
       "3  N53526     health           voices   \n",
       "4  N38324     health          medical   \n",
       "\n",
       "                                               Title  \\\n",
       "0  The Brands Queen Elizabeth, Prince Charles, an...   \n",
       "1                      50 Worst Habits For Belly Fat   \n",
       "2  The Cost of Trump's Aid Freeze in the Trenches...   \n",
       "3  I Was An NBA Wife. Here's How It Affected My M...   \n",
       "4  How to Get Rid of Skin Tags, According to a De...   \n",
       "\n",
       "                                            Abstract  \n",
       "0  Shop the notebooks, jackets, and more that the...  \n",
       "1  These seemingly harmless habits are holding yo...  \n",
       "2  Lt. Ivan Molchanets peeked over a parapet of s...  \n",
       "3  I felt like I was a fraud, and being an NBA wi...  \n",
       "4  They seem harmless, but there's a very good re...  "
      ]
     },
     "execution_count": 6,
     "metadata": {},
     "output_type": "execute_result"
    }
   ],
   "source": [
    "news_df.head()"
   ]
  },
  {
   "cell_type": "code",
   "execution_count": 7,
   "metadata": {},
   "outputs": [
    {
     "data": {
      "text/plain": [
       "NewsID            0\n",
       "Category          0\n",
       "SubCategory       0\n",
       "Title             0\n",
       "Abstract       2666\n",
       "dtype: int64"
      ]
     },
     "execution_count": 7,
     "metadata": {},
     "output_type": "execute_result"
    }
   ],
   "source": [
    "news_df.isna().sum()"
   ]
  },
  {
   "cell_type": "code",
   "execution_count": 8,
   "metadata": {},
   "outputs": [],
   "source": [
    "from dotenv import load_dotenv, find_dotenv\n",
    "_ = load_dotenv(find_dotenv())\n",
    "\n",
    "PINECONE_API_KEY = os.getenv('PINECONE_API_KEY')"
   ]
  },
  {
   "cell_type": "code",
   "execution_count": 108,
   "metadata": {},
   "outputs": [],
   "source": [
    "from pinecone import Pinecone, ServerlessSpec\n",
    "\n",
    "INDEX_NAME = 'pc-index-news'\n",
    "pinecone = Pinecone(api_key=PINECONE_API_KEY)\n",
    "\n",
    "if INDEX_NAME in [index.name for index in pinecone.list_indexes()]:\n",
    "  pinecone.delete_index(INDEX_NAME)\n",
    "\n",
    "pinecone.create_index(name=INDEX_NAME, dimension=384, metric='cosine',\n",
    "  spec=ServerlessSpec(cloud='aws', region='us-east-1'))\n",
    "\n",
    "index = pinecone.Index(INDEX_NAME)"
   ]
  },
  {
   "cell_type": "code",
   "execution_count": 32,
   "metadata": {},
   "outputs": [
    {
     "data": {
      "text/plain": [
       "['pc-index-news']"
      ]
     },
     "execution_count": 32,
     "metadata": {},
     "output_type": "execute_result"
    }
   ],
   "source": [
    "# Confirm we indeed created our  index\n",
    "\n",
    "pinecone.list_indexes().names()"
   ]
  },
  {
   "cell_type": "code",
   "execution_count": 33,
   "metadata": {},
   "outputs": [
    {
     "data": {
      "text/plain": [
       "{'dimension': 384,\n",
       " 'index_fullness': 0.0,\n",
       " 'namespaces': {},\n",
       " 'total_vector_count': 0}"
      ]
     },
     "execution_count": 33,
     "metadata": {},
     "output_type": "execute_result"
    }
   ],
   "source": [
    "index.describe_index_stats()"
   ]
  },
  {
   "cell_type": "code",
   "execution_count": 12,
   "metadata": {},
   "outputs": [],
   "source": [
    "from sentence_transformers import SentenceTransformer\n",
    "\n",
    "\n",
    "def get_embeddings(articles, model=SentenceTransformer('all-MiniLM-L6-v2')):\n",
    "   return model.encode(articles)"
   ]
  },
  {
   "cell_type": "code",
   "execution_count": 14,
   "metadata": {},
   "outputs": [],
   "source": [
    "import math\n",
    "\n",
    "# Function to check if a value is NaN\n",
    "def is_nan(value):\n",
    "    try:\n",
    "        return math.isnan(value)\n",
    "    except:\n",
    "        return False"
   ]
  },
  {
   "cell_type": "code",
   "execution_count": 110,
   "metadata": {},
   "outputs": [
    {
     "name": "stderr",
     "output_type": "stream",
     "text": [
      "100%|██████████| 10000/10000 [24:10<00:00,  6.89it/s]"
     ]
    },
    {
     "name": "stderr",
     "output_type": "stream",
     "text": [
      "\n",
      "100%|██████████| 10000/10000 [07:49<00:00, 22.79it/s]"
     ]
    }
   ],
   "source": [
    "from tqdm.auto import tqdm, trange\n",
    "\n",
    "CHUNK_SIZE=200\n",
    "TOTAL_ROWS=10000\n",
    "progress_bar = tqdm(total= TOTAL_ROWS)\n",
    "use_columns = [0,1,2,3,4]\n",
    "namespace = 'NewsTitles'\n",
    "\n",
    "chunks = pd.read_csv(file_path, sep='\\t',header=None,usecols=use_columns , \n",
    "                     names=['NewsID', 'Category', 'SubCategory', 'Title' , 'Abstract' ]\n",
    "                     , chunksize=CHUNK_SIZE\n",
    "                     ,nrows=TOTAL_ROWS \n",
    "                     )\n",
    "\n",
    "\n",
    "\n",
    "chunk_num = 0\n",
    "for chunk in chunks:\n",
    "    titles = chunk['Title'].tolist()\n",
    "    newsIds = chunk['NewsID'].tolist()\n",
    "    cleaned_titles = [title if not is_nan(title) else \"\" for title in titles]\n",
    "    embeddings = get_embeddings(cleaned_titles)\n",
    "    prepped = [{'id':str(newsIds[i])\n",
    "                , 'values':embeddings[i],\n",
    "                'metadata':{'title':cleaned_titles[i] , 'NewsID':str(newsIds[i])}} \n",
    "               for i in range(0,len(titles))]\n",
    "    chunk_num = chunk_num + 1\n",
    "    if len(prepped) >= 200:\n",
    "        try:\n",
    "            index.upsert(prepped , namespace=namespace)\n",
    "        except Exception as e:\n",
    "            print(f\"Error upserting chunk {chunk_num}: {e}\")\n",
    "        prepped = []\n",
    "    progress_bar.update(len(chunk))\n",
    "\n",
    "#final\n",
    "if prepped:\n",
    "    try:\n",
    "        index.upsert(prepped,namespace=namespace)\n",
    "    except Exception as e:\n",
    "        print(f\"Error upserting final chunk: {e}\")"
   ]
  },
  {
   "cell_type": "code",
   "execution_count": 111,
   "metadata": {},
   "outputs": [
    {
     "data": {
      "text/plain": [
       "{'dimension': 384,\n",
       " 'index_fullness': 0.0,\n",
       " 'namespaces': {'NewsTitles': {'vector_count': 10000}},\n",
       " 'total_vector_count': 10000}"
      ]
     },
     "execution_count": 111,
     "metadata": {},
     "output_type": "execute_result"
    }
   ],
   "source": [
    "index.describe_index_stats()"
   ]
  },
  {
   "cell_type": "code",
   "execution_count": 40,
   "metadata": {},
   "outputs": [],
   "source": [
    "def get_recommendations(pinecone_index, search_term, namespace = 'NewsTitles' ,top_k=10 ):\n",
    "  embed = get_embeddings(search_term)\n",
    "  res = pinecone_index.query(namespace = namespace ,vector=embed.tolist(), top_k=top_k, include_metadata=True )\n",
    "  return res"
   ]
  },
  {
   "cell_type": "code",
   "execution_count": 43,
   "metadata": {},
   "outputs": [
    {
     "name": "stdout",
     "output_type": "stream",
     "text": [
      "0.547162294 : N36551-42 Strange Symptoms That Can Signal a Serious Disease\n",
      "0.482564598 : N2360-'Ebola Is Now a Disease We Can Treat.' How a Cure Emerged From a War Zone.\n",
      "0.480064034 : N688-A rare disease hardened her skin. A 'game-changing' treatment from Baptist is freeing her\n",
      "0.455787212 : N55975-What to Know About the Rare Disease That Killed Bernie Sanders' Daughter-in-Law\n",
      "0.439851612 : N13279-Worst Things For Your Health According to Doctors\n",
      "0.439211428 : N25344-12 Diseases Doctors Can Detect Through Smell\n",
      "0.433002442 : N5547-Rare Disease That Spreads from Animals to Humans Reported in Utah and Oklahoma Dogs\n",
      "0.404349446 : N63102-Hospital Creates 'Cure' For Picky-Eating Children\n",
      "0.392818481 : N35703-Her cancer surgery was a success. Then a genetic condition let a chemo drug ravage her body\n",
      "0.389198393 : N10487-9 grim facts about the vaping illness epidemic\n"
     ]
    }
   ],
   "source": [
    "reco = get_recommendations(index, 'disease', 'NewsTitles')\n",
    "for r in reco.matches:\n",
    "    print(f'{r.score} : {r.id}-{r.metadata[\"title\"]}')"
   ]
  },
  {
   "cell_type": "markdown",
   "metadata": {},
   "source": [
    "**Part2 : User Data**"
   ]
  },
  {
   "cell_type": "code",
   "execution_count": 46,
   "metadata": {},
   "outputs": [
    {
     "data": {
      "text/html": [
       "<div>\n",
       "<style scoped>\n",
       "    .dataframe tbody tr th:only-of-type {\n",
       "        vertical-align: middle;\n",
       "    }\n",
       "\n",
       "    .dataframe tbody tr th {\n",
       "        vertical-align: top;\n",
       "    }\n",
       "\n",
       "    .dataframe thead th {\n",
       "        text-align: right;\n",
       "    }\n",
       "</style>\n",
       "<table border=\"1\" class=\"dataframe\">\n",
       "  <thead>\n",
       "    <tr style=\"text-align: right;\">\n",
       "      <th></th>\n",
       "      <th>ImpressionID</th>\n",
       "      <th>UserID</th>\n",
       "      <th>Time</th>\n",
       "      <th>History</th>\n",
       "      <th>Impressions</th>\n",
       "    </tr>\n",
       "  </thead>\n",
       "  <tbody>\n",
       "    <tr>\n",
       "      <th>0</th>\n",
       "      <td>1</td>\n",
       "      <td>U13740</td>\n",
       "      <td>11/11/2019 9:05:58 AM</td>\n",
       "      <td>N55189 N42782 N34694 N45794 N18445 N63302 N104...</td>\n",
       "      <td>N55689-1 N35729-0</td>\n",
       "    </tr>\n",
       "    <tr>\n",
       "      <th>1</th>\n",
       "      <td>2</td>\n",
       "      <td>U91836</td>\n",
       "      <td>11/12/2019 6:11:30 PM</td>\n",
       "      <td>N31739 N6072 N63045 N23979 N35656 N43353 N8129...</td>\n",
       "      <td>N20678-0 N39317-0 N58114-0 N20495-0 N42977-0 N...</td>\n",
       "    </tr>\n",
       "    <tr>\n",
       "      <th>2</th>\n",
       "      <td>3</td>\n",
       "      <td>U73700</td>\n",
       "      <td>11/14/2019 7:01:48 AM</td>\n",
       "      <td>N10732 N25792 N7563 N21087 N41087 N5445 N60384...</td>\n",
       "      <td>N50014-0 N23877-0 N35389-0 N49712-0 N16844-0 N...</td>\n",
       "    </tr>\n",
       "    <tr>\n",
       "      <th>3</th>\n",
       "      <td>4</td>\n",
       "      <td>U34670</td>\n",
       "      <td>11/11/2019 5:28:05 AM</td>\n",
       "      <td>N45729 N2203 N871 N53880 N41375 N43142 N33013 ...</td>\n",
       "      <td>N35729-0 N33632-0 N49685-1 N27581-0</td>\n",
       "    </tr>\n",
       "    <tr>\n",
       "      <th>4</th>\n",
       "      <td>5</td>\n",
       "      <td>U8125</td>\n",
       "      <td>11/12/2019 4:11:21 PM</td>\n",
       "      <td>N10078 N56514 N14904 N33740</td>\n",
       "      <td>N39985-0 N36050-0 N16096-0 N8400-1 N22407-0 N6...</td>\n",
       "    </tr>\n",
       "  </tbody>\n",
       "</table>\n",
       "</div>"
      ],
      "text/plain": [
       "   ImpressionID  UserID                   Time  \\\n",
       "0             1  U13740  11/11/2019 9:05:58 AM   \n",
       "1             2  U91836  11/12/2019 6:11:30 PM   \n",
       "2             3  U73700  11/14/2019 7:01:48 AM   \n",
       "3             4  U34670  11/11/2019 5:28:05 AM   \n",
       "4             5   U8125  11/12/2019 4:11:21 PM   \n",
       "\n",
       "                                             History  \\\n",
       "0  N55189 N42782 N34694 N45794 N18445 N63302 N104...   \n",
       "1  N31739 N6072 N63045 N23979 N35656 N43353 N8129...   \n",
       "2  N10732 N25792 N7563 N21087 N41087 N5445 N60384...   \n",
       "3  N45729 N2203 N871 N53880 N41375 N43142 N33013 ...   \n",
       "4                        N10078 N56514 N14904 N33740   \n",
       "\n",
       "                                         Impressions  \n",
       "0                                  N55689-1 N35729-0  \n",
       "1  N20678-0 N39317-0 N58114-0 N20495-0 N42977-0 N...  \n",
       "2  N50014-0 N23877-0 N35389-0 N49712-0 N16844-0 N...  \n",
       "3                N35729-0 N33632-0 N49685-1 N27581-0  \n",
       "4  N39985-0 N36050-0 N16096-0 N8400-1 N22407-0 N6...  "
      ]
     },
     "execution_count": 46,
     "metadata": {},
     "output_type": "execute_result"
    }
   ],
   "source": [
    "file_name = \"MINDsmall_train/behaviors.tsv\"\n",
    "file_path =  os.path.join(cwd, file_name)\n",
    "behavior_df = pd.read_csv(file_path, sep='\\t',header=None, names=['ImpressionID', 'UserID', 'Time', 'History' , 'Impressions' ])\n",
    "behavior_df.head()"
   ]
  },
  {
   "cell_type": "code",
   "execution_count": 47,
   "metadata": {},
   "outputs": [
    {
     "data": {
      "text/html": [
       "<div>\n",
       "<style scoped>\n",
       "    .dataframe tbody tr th:only-of-type {\n",
       "        vertical-align: middle;\n",
       "    }\n",
       "\n",
       "    .dataframe tbody tr th {\n",
       "        vertical-align: top;\n",
       "    }\n",
       "\n",
       "    .dataframe thead th {\n",
       "        text-align: right;\n",
       "    }\n",
       "</style>\n",
       "<table border=\"1\" class=\"dataframe\">\n",
       "  <thead>\n",
       "    <tr style=\"text-align: right;\">\n",
       "      <th></th>\n",
       "      <th>ImpressionID</th>\n",
       "      <th>UserID</th>\n",
       "      <th>Time</th>\n",
       "      <th>History</th>\n",
       "      <th>Impressions</th>\n",
       "    </tr>\n",
       "  </thead>\n",
       "  <tbody>\n",
       "    <tr>\n",
       "      <th>28</th>\n",
       "      <td>29</td>\n",
       "      <td>U33207</td>\n",
       "      <td>11/11/2019 11:09:14 AM</td>\n",
       "      <td>NaN</td>\n",
       "      <td>N62212-0 N27521-0 N28983-0 N12028-0 N25437-0 N...</td>\n",
       "    </tr>\n",
       "    <tr>\n",
       "      <th>96</th>\n",
       "      <td>97</td>\n",
       "      <td>U89839</td>\n",
       "      <td>11/11/2019 4:57:51 AM</td>\n",
       "      <td>NaN</td>\n",
       "      <td>N12042-0 N35729-0 N49685-0 N62729-1</td>\n",
       "    </tr>\n",
       "    <tr>\n",
       "      <th>155</th>\n",
       "      <td>156</td>\n",
       "      <td>U5598</td>\n",
       "      <td>11/13/2019 2:01:40 PM</td>\n",
       "      <td>NaN</td>\n",
       "      <td>N7121-0 N37437-0 N53861-0 N45891-0 N21141-0 N5...</td>\n",
       "    </tr>\n",
       "    <tr>\n",
       "      <th>194</th>\n",
       "      <td>195</td>\n",
       "      <td>U19208</td>\n",
       "      <td>11/11/2019 3:57:34 PM</td>\n",
       "      <td>NaN</td>\n",
       "      <td>N23414-1 N52474-0 N6099-0 N5980-0 N1914-0</td>\n",
       "    </tr>\n",
       "    <tr>\n",
       "      <th>257</th>\n",
       "      <td>258</td>\n",
       "      <td>U6879</td>\n",
       "      <td>11/14/2019 5:33:52 PM</td>\n",
       "      <td>NaN</td>\n",
       "      <td>N9284-0 N23391-0 N42849-0 N33828-0 N57081-0 N2...</td>\n",
       "    </tr>\n",
       "    <tr>\n",
       "      <th>...</th>\n",
       "      <td>...</td>\n",
       "      <td>...</td>\n",
       "      <td>...</td>\n",
       "      <td>...</td>\n",
       "      <td>...</td>\n",
       "    </tr>\n",
       "    <tr>\n",
       "      <th>156850</th>\n",
       "      <td>156851</td>\n",
       "      <td>U85936</td>\n",
       "      <td>11/10/2019 8:52:02 AM</td>\n",
       "      <td>NaN</td>\n",
       "      <td>N41140-1 N4148-0</td>\n",
       "    </tr>\n",
       "    <tr>\n",
       "      <th>156890</th>\n",
       "      <td>156891</td>\n",
       "      <td>U4828</td>\n",
       "      <td>11/11/2019 9:41:21 AM</td>\n",
       "      <td>NaN</td>\n",
       "      <td>N8957-0 N60162-0 N16804-0 N24180-0 N31370-0 N2...</td>\n",
       "    </tr>\n",
       "    <tr>\n",
       "      <th>156897</th>\n",
       "      <td>156898</td>\n",
       "      <td>U38290</td>\n",
       "      <td>11/14/2019 3:50:07 PM</td>\n",
       "      <td>NaN</td>\n",
       "      <td>N59267-0 N12446-0 N53031-0 N3380-0 N56211-0 N5...</td>\n",
       "    </tr>\n",
       "    <tr>\n",
       "      <th>156921</th>\n",
       "      <td>156922</td>\n",
       "      <td>U64209</td>\n",
       "      <td>11/11/2019 7:11:07 AM</td>\n",
       "      <td>NaN</td>\n",
       "      <td>N35729-0 N15830-0 N48759-0 N21519-1 N27581-0 N...</td>\n",
       "    </tr>\n",
       "    <tr>\n",
       "      <th>156935</th>\n",
       "      <td>156936</td>\n",
       "      <td>U35188</td>\n",
       "      <td>11/11/2019 1:39:46 PM</td>\n",
       "      <td>NaN</td>\n",
       "      <td>N13930-0 N55204-0 N38662-0 N53585-1 N55689-0</td>\n",
       "    </tr>\n",
       "  </tbody>\n",
       "</table>\n",
       "<p>3238 rows × 5 columns</p>\n",
       "</div>"
      ],
      "text/plain": [
       "        ImpressionID  UserID                    Time History  \\\n",
       "28                29  U33207  11/11/2019 11:09:14 AM     NaN   \n",
       "96                97  U89839   11/11/2019 4:57:51 AM     NaN   \n",
       "155              156   U5598   11/13/2019 2:01:40 PM     NaN   \n",
       "194              195  U19208   11/11/2019 3:57:34 PM     NaN   \n",
       "257              258   U6879   11/14/2019 5:33:52 PM     NaN   \n",
       "...              ...     ...                     ...     ...   \n",
       "156850        156851  U85936   11/10/2019 8:52:02 AM     NaN   \n",
       "156890        156891   U4828   11/11/2019 9:41:21 AM     NaN   \n",
       "156897        156898  U38290   11/14/2019 3:50:07 PM     NaN   \n",
       "156921        156922  U64209   11/11/2019 7:11:07 AM     NaN   \n",
       "156935        156936  U35188   11/11/2019 1:39:46 PM     NaN   \n",
       "\n",
       "                                              Impressions  \n",
       "28      N62212-0 N27521-0 N28983-0 N12028-0 N25437-0 N...  \n",
       "96                    N12042-0 N35729-0 N49685-0 N62729-1  \n",
       "155     N7121-0 N37437-0 N53861-0 N45891-0 N21141-0 N5...  \n",
       "194             N23414-1 N52474-0 N6099-0 N5980-0 N1914-0  \n",
       "257     N9284-0 N23391-0 N42849-0 N33828-0 N57081-0 N2...  \n",
       "...                                                   ...  \n",
       "156850                                   N41140-1 N4148-0  \n",
       "156890  N8957-0 N60162-0 N16804-0 N24180-0 N31370-0 N2...  \n",
       "156897  N59267-0 N12446-0 N53031-0 N3380-0 N56211-0 N5...  \n",
       "156921  N35729-0 N15830-0 N48759-0 N21519-1 N27581-0 N...  \n",
       "156935       N13930-0 N55204-0 N38662-0 N53585-1 N55689-0  \n",
       "\n",
       "[3238 rows x 5 columns]"
      ]
     },
     "execution_count": 47,
     "metadata": {},
     "output_type": "execute_result"
    }
   ],
   "source": [
    "behavior_df[behavior_df['History'].isna()]"
   ]
  },
  {
   "cell_type": "code",
   "execution_count": 48,
   "metadata": {},
   "outputs": [
    {
     "data": {
      "text/plain": [
       "156965"
      ]
     },
     "execution_count": 48,
     "metadata": {},
     "output_type": "execute_result"
    }
   ],
   "source": [
    "len(behavior_df)"
   ]
  },
  {
   "cell_type": "code",
   "execution_count": 49,
   "metadata": {},
   "outputs": [
    {
     "data": {
      "text/html": [
       "<div>\n",
       "<style scoped>\n",
       "    .dataframe tbody tr th:only-of-type {\n",
       "        vertical-align: middle;\n",
       "    }\n",
       "\n",
       "    .dataframe tbody tr th {\n",
       "        vertical-align: top;\n",
       "    }\n",
       "\n",
       "    .dataframe thead th {\n",
       "        text-align: right;\n",
       "    }\n",
       "</style>\n",
       "<table border=\"1\" class=\"dataframe\">\n",
       "  <thead>\n",
       "    <tr style=\"text-align: right;\">\n",
       "      <th></th>\n",
       "      <th>ImpressionID</th>\n",
       "      <th>UserID</th>\n",
       "      <th>Time</th>\n",
       "      <th>History</th>\n",
       "      <th>Impressions</th>\n",
       "    </tr>\n",
       "  </thead>\n",
       "  <tbody>\n",
       "    <tr>\n",
       "      <th>46639</th>\n",
       "      <td>46640</td>\n",
       "      <td>U1000</td>\n",
       "      <td>11/14/2019 1:00:56 AM</td>\n",
       "      <td>N29641 N1789 N41244</td>\n",
       "      <td>N16148-0 N43628-0 N13094-0 N32774-0 N57034-0 N...</td>\n",
       "    </tr>\n",
       "    <tr>\n",
       "      <th>74344</th>\n",
       "      <td>74345</td>\n",
       "      <td>U1000</td>\n",
       "      <td>11/14/2019 10:37:21 PM</td>\n",
       "      <td>N29641 N1789 N41244</td>\n",
       "      <td>N14478-0 N58264-0 N7494-0 N46917-0 N22257-0 N1...</td>\n",
       "    </tr>\n",
       "    <tr>\n",
       "      <th>86766</th>\n",
       "      <td>86767</td>\n",
       "      <td>U1000</td>\n",
       "      <td>11/13/2019 11:16:18 PM</td>\n",
       "      <td>N29641 N1789 N41244</td>\n",
       "      <td>N35273-0 N7618-0 N55281-0 N4021-0 N16148-0 N38...</td>\n",
       "    </tr>\n",
       "    <tr>\n",
       "      <th>60202</th>\n",
       "      <td>60203</td>\n",
       "      <td>U10001</td>\n",
       "      <td>11/14/2019 5:46:54 AM</td>\n",
       "      <td>N47937 N51706 N56447 N61319 N27644 N18030 N272...</td>\n",
       "      <td>N42860-0 N62750-0 N33025-0 N3167-0 N51975-0 N4...</td>\n",
       "    </tr>\n",
       "    <tr>\n",
       "      <th>155922</th>\n",
       "      <td>155923</td>\n",
       "      <td>U10001</td>\n",
       "      <td>11/11/2019 5:30:21 AM</td>\n",
       "      <td>N47937 N51706 N56447 N61319 N27644 N18030 N272...</td>\n",
       "      <td>N35729-0 N56598-0 N48759-0 N49685-0 N33632-0 N...</td>\n",
       "    </tr>\n",
       "    <tr>\n",
       "      <th>...</th>\n",
       "      <td>...</td>\n",
       "      <td>...</td>\n",
       "      <td>...</td>\n",
       "      <td>...</td>\n",
       "      <td>...</td>\n",
       "    </tr>\n",
       "    <tr>\n",
       "      <th>76920</th>\n",
       "      <td>76921</td>\n",
       "      <td>U9996</td>\n",
       "      <td>11/13/2019 10:07:24 AM</td>\n",
       "      <td>N28296 N4719 N60340 N31165 N8448</td>\n",
       "      <td>N287-1 N64094-0 N51048-0 N39010-0</td>\n",
       "    </tr>\n",
       "    <tr>\n",
       "      <th>120621</th>\n",
       "      <td>120622</td>\n",
       "      <td>U9996</td>\n",
       "      <td>11/14/2019 8:41:12 AM</td>\n",
       "      <td>N28296 N4719 N60340 N31165 N8448</td>\n",
       "      <td>N38779-0 N1539-0 N45523-0 N40109-0 N50872-0 N2...</td>\n",
       "    </tr>\n",
       "    <tr>\n",
       "      <th>154397</th>\n",
       "      <td>154398</td>\n",
       "      <td>U9996</td>\n",
       "      <td>11/14/2019 8:40:37 AM</td>\n",
       "      <td>N28296 N4719 N60340 N31165 N8448</td>\n",
       "      <td>N40109-0 N6477-0 N23877-0 N23446-1 N50872-0 N3...</td>\n",
       "    </tr>\n",
       "    <tr>\n",
       "      <th>62952</th>\n",
       "      <td>62953</td>\n",
       "      <td>U9997</td>\n",
       "      <td>11/13/2019 2:41:42 PM</td>\n",
       "      <td>N46759 N46990 N9072 N11727 N50744 N38367 N3333...</td>\n",
       "      <td>N35273-0 N4510-0 N48410-1 N29170-0 N26262-0 N5...</td>\n",
       "    </tr>\n",
       "    <tr>\n",
       "      <th>106163</th>\n",
       "      <td>106164</td>\n",
       "      <td>U9997</td>\n",
       "      <td>11/13/2019 10:06:28 AM</td>\n",
       "      <td>N46759 N46990 N9072 N11727 N50744 N38367 N3333...</td>\n",
       "      <td>N5370-0 N39461-0 N17843-0 N22880-0 N29715-0 N2...</td>\n",
       "    </tr>\n",
       "  </tbody>\n",
       "</table>\n",
       "<p>140582 rows × 5 columns</p>\n",
       "</div>"
      ],
      "text/plain": [
       "        ImpressionID  UserID                    Time  \\\n",
       "46639          46640   U1000   11/14/2019 1:00:56 AM   \n",
       "74344          74345   U1000  11/14/2019 10:37:21 PM   \n",
       "86766          86767   U1000  11/13/2019 11:16:18 PM   \n",
       "60202          60203  U10001   11/14/2019 5:46:54 AM   \n",
       "155922        155923  U10001   11/11/2019 5:30:21 AM   \n",
       "...              ...     ...                     ...   \n",
       "76920          76921   U9996  11/13/2019 10:07:24 AM   \n",
       "120621        120622   U9996   11/14/2019 8:41:12 AM   \n",
       "154397        154398   U9996   11/14/2019 8:40:37 AM   \n",
       "62952          62953   U9997   11/13/2019 2:41:42 PM   \n",
       "106163        106164   U9997  11/13/2019 10:06:28 AM   \n",
       "\n",
       "                                                  History  \\\n",
       "46639                                 N29641 N1789 N41244   \n",
       "74344                                 N29641 N1789 N41244   \n",
       "86766                                 N29641 N1789 N41244   \n",
       "60202   N47937 N51706 N56447 N61319 N27644 N18030 N272...   \n",
       "155922  N47937 N51706 N56447 N61319 N27644 N18030 N272...   \n",
       "...                                                   ...   \n",
       "76920                    N28296 N4719 N60340 N31165 N8448   \n",
       "120621                   N28296 N4719 N60340 N31165 N8448   \n",
       "154397                   N28296 N4719 N60340 N31165 N8448   \n",
       "62952   N46759 N46990 N9072 N11727 N50744 N38367 N3333...   \n",
       "106163  N46759 N46990 N9072 N11727 N50744 N38367 N3333...   \n",
       "\n",
       "                                              Impressions  \n",
       "46639   N16148-0 N43628-0 N13094-0 N32774-0 N57034-0 N...  \n",
       "74344   N14478-0 N58264-0 N7494-0 N46917-0 N22257-0 N1...  \n",
       "86766   N35273-0 N7618-0 N55281-0 N4021-0 N16148-0 N38...  \n",
       "60202   N42860-0 N62750-0 N33025-0 N3167-0 N51975-0 N4...  \n",
       "155922  N35729-0 N56598-0 N48759-0 N49685-0 N33632-0 N...  \n",
       "...                                                   ...  \n",
       "76920                   N287-1 N64094-0 N51048-0 N39010-0  \n",
       "120621  N38779-0 N1539-0 N45523-0 N40109-0 N50872-0 N2...  \n",
       "154397  N40109-0 N6477-0 N23877-0 N23446-1 N50872-0 N3...  \n",
       "62952   N35273-0 N4510-0 N48410-1 N29170-0 N26262-0 N5...  \n",
       "106163  N5370-0 N39461-0 N17843-0 N22880-0 N29715-0 N2...  \n",
       "\n",
       "[140582 rows x 5 columns]"
      ]
     },
     "execution_count": 49,
     "metadata": {},
     "output_type": "execute_result"
    }
   ],
   "source": [
    "behavior_df[behavior_df['UserID'].map(behavior_df['UserID'].value_counts()) >1].sort_values(by = ['UserID','ImpressionID'])"
   ]
  },
  {
   "cell_type": "code",
   "execution_count": 50,
   "metadata": {},
   "outputs": [],
   "source": [
    "behavior_df = behavior_df.dropna(subset=['History'])"
   ]
  },
  {
   "cell_type": "code",
   "execution_count": 51,
   "metadata": {},
   "outputs": [
    {
     "data": {
      "text/plain": [
       "0"
      ]
     },
     "execution_count": 51,
     "metadata": {},
     "output_type": "execute_result"
    }
   ],
   "source": [
    "behavior_df['History'].isna().sum()"
   ]
  },
  {
   "cell_type": "code",
   "execution_count": 52,
   "metadata": {},
   "outputs": [
    {
     "data": {
      "text/plain": [
       "153727"
      ]
     },
     "execution_count": 52,
     "metadata": {},
     "output_type": "execute_result"
    }
   ],
   "source": [
    "len(behavior_df)"
   ]
  },
  {
   "cell_type": "code",
   "execution_count": 53,
   "metadata": {},
   "outputs": [],
   "source": [
    "#split NewsID in history into separate rows :\n",
    "split_history_df = behavior_df['History'].str.split(' ', expand=True).stack().reset_index(level=1, drop=True).reset_index(name='NewsID')"
   ]
  },
  {
   "cell_type": "code",
   "execution_count": 140,
   "metadata": {},
   "outputs": [
    {
     "data": {
      "text/html": [
       "<div>\n",
       "<style scoped>\n",
       "    .dataframe tbody tr th:only-of-type {\n",
       "        vertical-align: middle;\n",
       "    }\n",
       "\n",
       "    .dataframe tbody tr th {\n",
       "        vertical-align: top;\n",
       "    }\n",
       "\n",
       "    .dataframe thead th {\n",
       "        text-align: right;\n",
       "    }\n",
       "</style>\n",
       "<table border=\"1\" class=\"dataframe\">\n",
       "  <thead>\n",
       "    <tr style=\"text-align: right;\">\n",
       "      <th></th>\n",
       "      <th>index</th>\n",
       "      <th>NewsID</th>\n",
       "    </tr>\n",
       "  </thead>\n",
       "  <tbody>\n",
       "    <tr>\n",
       "      <th>0</th>\n",
       "      <td>0</td>\n",
       "      <td>N55189</td>\n",
       "    </tr>\n",
       "    <tr>\n",
       "      <th>1</th>\n",
       "      <td>0</td>\n",
       "      <td>N42782</td>\n",
       "    </tr>\n",
       "    <tr>\n",
       "      <th>2</th>\n",
       "      <td>0</td>\n",
       "      <td>N34694</td>\n",
       "    </tr>\n",
       "    <tr>\n",
       "      <th>3</th>\n",
       "      <td>0</td>\n",
       "      <td>N45794</td>\n",
       "    </tr>\n",
       "    <tr>\n",
       "      <th>4</th>\n",
       "      <td>0</td>\n",
       "      <td>N18445</td>\n",
       "    </tr>\n",
       "  </tbody>\n",
       "</table>\n",
       "</div>"
      ],
      "text/plain": [
       "   index  NewsID\n",
       "0      0  N55189\n",
       "1      0  N42782\n",
       "2      0  N34694\n",
       "3      0  N45794\n",
       "4      0  N18445"
      ]
     },
     "execution_count": 140,
     "metadata": {},
     "output_type": "execute_result"
    }
   ],
   "source": [
    "split_history_df.head()"
   ]
  },
  {
   "cell_type": "code",
   "execution_count": 74,
   "metadata": {},
   "outputs": [
    {
     "data": {
      "text/html": [
       "<div>\n",
       "<style scoped>\n",
       "    .dataframe tbody tr th:only-of-type {\n",
       "        vertical-align: middle;\n",
       "    }\n",
       "\n",
       "    .dataframe tbody tr th {\n",
       "        vertical-align: top;\n",
       "    }\n",
       "\n",
       "    .dataframe thead th {\n",
       "        text-align: right;\n",
       "    }\n",
       "</style>\n",
       "<table border=\"1\" class=\"dataframe\">\n",
       "  <thead>\n",
       "    <tr style=\"text-align: right;\">\n",
       "      <th></th>\n",
       "      <th>ImpressionID</th>\n",
       "      <th>UserID</th>\n",
       "      <th>Time</th>\n",
       "      <th>History</th>\n",
       "      <th>Impressions</th>\n",
       "      <th>NewsID</th>\n",
       "    </tr>\n",
       "  </thead>\n",
       "  <tbody>\n",
       "    <tr>\n",
       "      <th>0</th>\n",
       "      <td>1</td>\n",
       "      <td>U13740</td>\n",
       "      <td>11/11/2019 9:05:58 AM</td>\n",
       "      <td>N55189 N42782 N34694 N45794 N18445 N63302 N104...</td>\n",
       "      <td>N55689-1 N35729-0</td>\n",
       "      <td>N55189</td>\n",
       "    </tr>\n",
       "    <tr>\n",
       "      <th>1</th>\n",
       "      <td>1</td>\n",
       "      <td>U13740</td>\n",
       "      <td>11/11/2019 9:05:58 AM</td>\n",
       "      <td>N55189 N42782 N34694 N45794 N18445 N63302 N104...</td>\n",
       "      <td>N55689-1 N35729-0</td>\n",
       "      <td>N42782</td>\n",
       "    </tr>\n",
       "    <tr>\n",
       "      <th>2</th>\n",
       "      <td>1</td>\n",
       "      <td>U13740</td>\n",
       "      <td>11/11/2019 9:05:58 AM</td>\n",
       "      <td>N55189 N42782 N34694 N45794 N18445 N63302 N104...</td>\n",
       "      <td>N55689-1 N35729-0</td>\n",
       "      <td>N34694</td>\n",
       "    </tr>\n",
       "    <tr>\n",
       "      <th>3</th>\n",
       "      <td>1</td>\n",
       "      <td>U13740</td>\n",
       "      <td>11/11/2019 9:05:58 AM</td>\n",
       "      <td>N55189 N42782 N34694 N45794 N18445 N63302 N104...</td>\n",
       "      <td>N55689-1 N35729-0</td>\n",
       "      <td>N45794</td>\n",
       "    </tr>\n",
       "    <tr>\n",
       "      <th>4</th>\n",
       "      <td>1</td>\n",
       "      <td>U13740</td>\n",
       "      <td>11/11/2019 9:05:58 AM</td>\n",
       "      <td>N55189 N42782 N34694 N45794 N18445 N63302 N104...</td>\n",
       "      <td>N55689-1 N35729-0</td>\n",
       "      <td>N18445</td>\n",
       "    </tr>\n",
       "    <tr>\n",
       "      <th>5</th>\n",
       "      <td>1</td>\n",
       "      <td>U13740</td>\n",
       "      <td>11/11/2019 9:05:58 AM</td>\n",
       "      <td>N55189 N42782 N34694 N45794 N18445 N63302 N104...</td>\n",
       "      <td>N55689-1 N35729-0</td>\n",
       "      <td>N63302</td>\n",
       "    </tr>\n",
       "    <tr>\n",
       "      <th>6</th>\n",
       "      <td>1</td>\n",
       "      <td>U13740</td>\n",
       "      <td>11/11/2019 9:05:58 AM</td>\n",
       "      <td>N55189 N42782 N34694 N45794 N18445 N63302 N104...</td>\n",
       "      <td>N55689-1 N35729-0</td>\n",
       "      <td>N10414</td>\n",
       "    </tr>\n",
       "    <tr>\n",
       "      <th>7</th>\n",
       "      <td>1</td>\n",
       "      <td>U13740</td>\n",
       "      <td>11/11/2019 9:05:58 AM</td>\n",
       "      <td>N55189 N42782 N34694 N45794 N18445 N63302 N104...</td>\n",
       "      <td>N55689-1 N35729-0</td>\n",
       "      <td>N19347</td>\n",
       "    </tr>\n",
       "    <tr>\n",
       "      <th>8</th>\n",
       "      <td>1</td>\n",
       "      <td>U13740</td>\n",
       "      <td>11/11/2019 9:05:58 AM</td>\n",
       "      <td>N55189 N42782 N34694 N45794 N18445 N63302 N104...</td>\n",
       "      <td>N55689-1 N35729-0</td>\n",
       "      <td>N31801</td>\n",
       "    </tr>\n",
       "    <tr>\n",
       "      <th>9</th>\n",
       "      <td>2</td>\n",
       "      <td>U91836</td>\n",
       "      <td>11/12/2019 6:11:30 PM</td>\n",
       "      <td>N31739 N6072 N63045 N23979 N35656 N43353 N8129...</td>\n",
       "      <td>N20678-0 N39317-0 N58114-0 N20495-0 N42977-0 N...</td>\n",
       "      <td>N31739</td>\n",
       "    </tr>\n",
       "  </tbody>\n",
       "</table>\n",
       "</div>"
      ],
      "text/plain": [
       "   ImpressionID  UserID                   Time  \\\n",
       "0             1  U13740  11/11/2019 9:05:58 AM   \n",
       "1             1  U13740  11/11/2019 9:05:58 AM   \n",
       "2             1  U13740  11/11/2019 9:05:58 AM   \n",
       "3             1  U13740  11/11/2019 9:05:58 AM   \n",
       "4             1  U13740  11/11/2019 9:05:58 AM   \n",
       "5             1  U13740  11/11/2019 9:05:58 AM   \n",
       "6             1  U13740  11/11/2019 9:05:58 AM   \n",
       "7             1  U13740  11/11/2019 9:05:58 AM   \n",
       "8             1  U13740  11/11/2019 9:05:58 AM   \n",
       "9             2  U91836  11/12/2019 6:11:30 PM   \n",
       "\n",
       "                                             History  \\\n",
       "0  N55189 N42782 N34694 N45794 N18445 N63302 N104...   \n",
       "1  N55189 N42782 N34694 N45794 N18445 N63302 N104...   \n",
       "2  N55189 N42782 N34694 N45794 N18445 N63302 N104...   \n",
       "3  N55189 N42782 N34694 N45794 N18445 N63302 N104...   \n",
       "4  N55189 N42782 N34694 N45794 N18445 N63302 N104...   \n",
       "5  N55189 N42782 N34694 N45794 N18445 N63302 N104...   \n",
       "6  N55189 N42782 N34694 N45794 N18445 N63302 N104...   \n",
       "7  N55189 N42782 N34694 N45794 N18445 N63302 N104...   \n",
       "8  N55189 N42782 N34694 N45794 N18445 N63302 N104...   \n",
       "9  N31739 N6072 N63045 N23979 N35656 N43353 N8129...   \n",
       "\n",
       "                                         Impressions  NewsID  \n",
       "0                                  N55689-1 N35729-0  N55189  \n",
       "1                                  N55689-1 N35729-0  N42782  \n",
       "2                                  N55689-1 N35729-0  N34694  \n",
       "3                                  N55689-1 N35729-0  N45794  \n",
       "4                                  N55689-1 N35729-0  N18445  \n",
       "5                                  N55689-1 N35729-0  N63302  \n",
       "6                                  N55689-1 N35729-0  N10414  \n",
       "7                                  N55689-1 N35729-0  N19347  \n",
       "8                                  N55689-1 N35729-0  N31801  \n",
       "9  N20678-0 N39317-0 N58114-0 N20495-0 N42977-0 N...  N31739  "
      ]
     },
     "execution_count": 74,
     "metadata": {},
     "output_type": "execute_result"
    }
   ],
   "source": [
    "expanded_df = behavior_df.merge(split_history_df, left_index=True, right_on='index').drop(columns=['index'])\n",
    "expanded_df.head(10)\n"
   ]
  },
  {
   "cell_type": "code",
   "execution_count": 75,
   "metadata": {},
   "outputs": [
    {
     "data": {
      "text/plain": [
       "5107639"
      ]
     },
     "execution_count": 75,
     "metadata": {},
     "output_type": "execute_result"
    }
   ],
   "source": [
    "len(expanded_df)"
   ]
  },
  {
   "cell_type": "code",
   "execution_count": 76,
   "metadata": {},
   "outputs": [
    {
     "data": {
      "text/plain": [
       "0"
      ]
     },
     "execution_count": 76,
     "metadata": {},
     "output_type": "execute_result"
    }
   ],
   "source": [
    "expanded_df['History'].isna().sum()"
   ]
  },
  {
   "cell_type": "code",
   "execution_count": 77,
   "metadata": {},
   "outputs": [
    {
     "data": {
      "text/html": [
       "<div>\n",
       "<style scoped>\n",
       "    .dataframe tbody tr th:only-of-type {\n",
       "        vertical-align: middle;\n",
       "    }\n",
       "\n",
       "    .dataframe tbody tr th {\n",
       "        vertical-align: top;\n",
       "    }\n",
       "\n",
       "    .dataframe thead th {\n",
       "        text-align: right;\n",
       "    }\n",
       "</style>\n",
       "<table border=\"1\" class=\"dataframe\">\n",
       "  <thead>\n",
       "    <tr style=\"text-align: right;\">\n",
       "      <th></th>\n",
       "      <th>ImpressionID</th>\n",
       "      <th>UserID</th>\n",
       "      <th>Time</th>\n",
       "      <th>History</th>\n",
       "      <th>Impressions</th>\n",
       "      <th>NewsID</th>\n",
       "      <th>Category</th>\n",
       "      <th>SubCategory</th>\n",
       "      <th>Title</th>\n",
       "      <th>Abstract</th>\n",
       "    </tr>\n",
       "  </thead>\n",
       "  <tbody>\n",
       "    <tr>\n",
       "      <th>0</th>\n",
       "      <td>1</td>\n",
       "      <td>U13740</td>\n",
       "      <td>11/11/2019 9:05:58 AM</td>\n",
       "      <td>N55189 N42782 N34694 N45794 N18445 N63302 N104...</td>\n",
       "      <td>N55689-1 N35729-0</td>\n",
       "      <td>N55189</td>\n",
       "      <td>tv</td>\n",
       "      <td>tvnews</td>\n",
       "      <td>'Wheel Of Fortune' Guest Delivers Hilarious, O...</td>\n",
       "      <td>We'd like to solve the puzzle, Pat: Blair Davi...</td>\n",
       "    </tr>\n",
       "    <tr>\n",
       "      <th>1</th>\n",
       "      <td>1</td>\n",
       "      <td>U13740</td>\n",
       "      <td>11/11/2019 9:05:58 AM</td>\n",
       "      <td>N55189 N42782 N34694 N45794 N18445 N63302 N104...</td>\n",
       "      <td>N55689-1 N35729-0</td>\n",
       "      <td>N42782</td>\n",
       "      <td>sports</td>\n",
       "      <td>baseball_mlb</td>\n",
       "      <td>Three takeaways from Yankees' ALCS Game 5 vict...</td>\n",
       "      <td>The Yankees kept hope alive thanks to some imp...</td>\n",
       "    </tr>\n",
       "    <tr>\n",
       "      <th>2</th>\n",
       "      <td>1</td>\n",
       "      <td>U13740</td>\n",
       "      <td>11/11/2019 9:05:58 AM</td>\n",
       "      <td>N55189 N42782 N34694 N45794 N18445 N63302 N104...</td>\n",
       "      <td>N55689-1 N35729-0</td>\n",
       "      <td>N34694</td>\n",
       "      <td>tv</td>\n",
       "      <td>tvnews</td>\n",
       "      <td>Rosie O'Donnell: Barbara Walters Isn't 'Up to ...</td>\n",
       "      <td>Rosie O'Donnell: Barbara Walters Isn't 'Up to ...</td>\n",
       "    </tr>\n",
       "    <tr>\n",
       "      <th>3</th>\n",
       "      <td>1</td>\n",
       "      <td>U13740</td>\n",
       "      <td>11/11/2019 9:05:58 AM</td>\n",
       "      <td>N55189 N42782 N34694 N45794 N18445 N63302 N104...</td>\n",
       "      <td>N55689-1 N35729-0</td>\n",
       "      <td>N45794</td>\n",
       "      <td>news</td>\n",
       "      <td>newscrime</td>\n",
       "      <td>Four flight attendants were arrested in Miami'...</td>\n",
       "      <td>Four American Airlines flight attendants were ...</td>\n",
       "    </tr>\n",
       "    <tr>\n",
       "      <th>4</th>\n",
       "      <td>1</td>\n",
       "      <td>U13740</td>\n",
       "      <td>11/11/2019 9:05:58 AM</td>\n",
       "      <td>N55189 N42782 N34694 N45794 N18445 N63302 N104...</td>\n",
       "      <td>N55689-1 N35729-0</td>\n",
       "      <td>N18445</td>\n",
       "      <td>sports</td>\n",
       "      <td>football_ncaa</td>\n",
       "      <td>Michigan sends breakup tweet to Notre Dame as ...</td>\n",
       "      <td>Parting is such sweet sorrow, say the Wolverines.</td>\n",
       "    </tr>\n",
       "    <tr>\n",
       "      <th>5</th>\n",
       "      <td>1</td>\n",
       "      <td>U13740</td>\n",
       "      <td>11/11/2019 9:05:58 AM</td>\n",
       "      <td>N55189 N42782 N34694 N45794 N18445 N63302 N104...</td>\n",
       "      <td>N55689-1 N35729-0</td>\n",
       "      <td>N63302</td>\n",
       "      <td>lifestyle</td>\n",
       "      <td>lifestylebuzz</td>\n",
       "      <td>This Wedding Photo of a Canine Best Man Captur...</td>\n",
       "      <td>When Mark Doublet made his dog, Marley, the be...</td>\n",
       "    </tr>\n",
       "    <tr>\n",
       "      <th>6</th>\n",
       "      <td>1</td>\n",
       "      <td>U13740</td>\n",
       "      <td>11/11/2019 9:05:58 AM</td>\n",
       "      <td>N55189 N42782 N34694 N45794 N18445 N63302 N104...</td>\n",
       "      <td>N55689-1 N35729-0</td>\n",
       "      <td>N10414</td>\n",
       "      <td>movies</td>\n",
       "      <td>movienews</td>\n",
       "      <td>Robert Evans, 'Chinatown' Producer and Paramou...</td>\n",
       "      <td>Robert Evans, the Paramount executive who prod...</td>\n",
       "    </tr>\n",
       "    <tr>\n",
       "      <th>7</th>\n",
       "      <td>1</td>\n",
       "      <td>U13740</td>\n",
       "      <td>11/11/2019 9:05:58 AM</td>\n",
       "      <td>N55189 N42782 N34694 N45794 N18445 N63302 N104...</td>\n",
       "      <td>N55689-1 N35729-0</td>\n",
       "      <td>N19347</td>\n",
       "      <td>news</td>\n",
       "      <td>newspolitics</td>\n",
       "      <td>Former US Senator Kay Hagan dead at 66</td>\n",
       "      <td>Former U.S. Sen. Kay Hagan, a one-time Capitol...</td>\n",
       "    </tr>\n",
       "    <tr>\n",
       "      <th>8</th>\n",
       "      <td>1</td>\n",
       "      <td>U13740</td>\n",
       "      <td>11/11/2019 9:05:58 AM</td>\n",
       "      <td>N55189 N42782 N34694 N45794 N18445 N63302 N104...</td>\n",
       "      <td>N55689-1 N35729-0</td>\n",
       "      <td>N31801</td>\n",
       "      <td>news</td>\n",
       "      <td>newspolitics</td>\n",
       "      <td>Joe Biden reportedly denied Communion at a Sou...</td>\n",
       "      <td>Joe Biden has a complicated history with the C...</td>\n",
       "    </tr>\n",
       "    <tr>\n",
       "      <th>9</th>\n",
       "      <td>2</td>\n",
       "      <td>U91836</td>\n",
       "      <td>11/12/2019 6:11:30 PM</td>\n",
       "      <td>N31739 N6072 N63045 N23979 N35656 N43353 N8129...</td>\n",
       "      <td>N20678-0 N39317-0 N58114-0 N20495-0 N42977-0 N...</td>\n",
       "      <td>N31739</td>\n",
       "      <td>news</td>\n",
       "      <td>newscrime</td>\n",
       "      <td>'Habitual stowaway' arrested again at O'Hare, ...</td>\n",
       "      <td>A woman arrested at O'Hare International Airpo...</td>\n",
       "    </tr>\n",
       "  </tbody>\n",
       "</table>\n",
       "</div>"
      ],
      "text/plain": [
       "   ImpressionID  UserID                   Time  \\\n",
       "0             1  U13740  11/11/2019 9:05:58 AM   \n",
       "1             1  U13740  11/11/2019 9:05:58 AM   \n",
       "2             1  U13740  11/11/2019 9:05:58 AM   \n",
       "3             1  U13740  11/11/2019 9:05:58 AM   \n",
       "4             1  U13740  11/11/2019 9:05:58 AM   \n",
       "5             1  U13740  11/11/2019 9:05:58 AM   \n",
       "6             1  U13740  11/11/2019 9:05:58 AM   \n",
       "7             1  U13740  11/11/2019 9:05:58 AM   \n",
       "8             1  U13740  11/11/2019 9:05:58 AM   \n",
       "9             2  U91836  11/12/2019 6:11:30 PM   \n",
       "\n",
       "                                             History  \\\n",
       "0  N55189 N42782 N34694 N45794 N18445 N63302 N104...   \n",
       "1  N55189 N42782 N34694 N45794 N18445 N63302 N104...   \n",
       "2  N55189 N42782 N34694 N45794 N18445 N63302 N104...   \n",
       "3  N55189 N42782 N34694 N45794 N18445 N63302 N104...   \n",
       "4  N55189 N42782 N34694 N45794 N18445 N63302 N104...   \n",
       "5  N55189 N42782 N34694 N45794 N18445 N63302 N104...   \n",
       "6  N55189 N42782 N34694 N45794 N18445 N63302 N104...   \n",
       "7  N55189 N42782 N34694 N45794 N18445 N63302 N104...   \n",
       "8  N55189 N42782 N34694 N45794 N18445 N63302 N104...   \n",
       "9  N31739 N6072 N63045 N23979 N35656 N43353 N8129...   \n",
       "\n",
       "                                         Impressions  NewsID   Category  \\\n",
       "0                                  N55689-1 N35729-0  N55189         tv   \n",
       "1                                  N55689-1 N35729-0  N42782     sports   \n",
       "2                                  N55689-1 N35729-0  N34694         tv   \n",
       "3                                  N55689-1 N35729-0  N45794       news   \n",
       "4                                  N55689-1 N35729-0  N18445     sports   \n",
       "5                                  N55689-1 N35729-0  N63302  lifestyle   \n",
       "6                                  N55689-1 N35729-0  N10414     movies   \n",
       "7                                  N55689-1 N35729-0  N19347       news   \n",
       "8                                  N55689-1 N35729-0  N31801       news   \n",
       "9  N20678-0 N39317-0 N58114-0 N20495-0 N42977-0 N...  N31739       news   \n",
       "\n",
       "     SubCategory                                              Title  \\\n",
       "0         tvnews  'Wheel Of Fortune' Guest Delivers Hilarious, O...   \n",
       "1   baseball_mlb  Three takeaways from Yankees' ALCS Game 5 vict...   \n",
       "2         tvnews  Rosie O'Donnell: Barbara Walters Isn't 'Up to ...   \n",
       "3      newscrime  Four flight attendants were arrested in Miami'...   \n",
       "4  football_ncaa  Michigan sends breakup tweet to Notre Dame as ...   \n",
       "5  lifestylebuzz  This Wedding Photo of a Canine Best Man Captur...   \n",
       "6      movienews  Robert Evans, 'Chinatown' Producer and Paramou...   \n",
       "7   newspolitics             Former US Senator Kay Hagan dead at 66   \n",
       "8   newspolitics  Joe Biden reportedly denied Communion at a Sou...   \n",
       "9      newscrime  'Habitual stowaway' arrested again at O'Hare, ...   \n",
       "\n",
       "                                            Abstract  \n",
       "0  We'd like to solve the puzzle, Pat: Blair Davi...  \n",
       "1  The Yankees kept hope alive thanks to some imp...  \n",
       "2  Rosie O'Donnell: Barbara Walters Isn't 'Up to ...  \n",
       "3  Four American Airlines flight attendants were ...  \n",
       "4  Parting is such sweet sorrow, say the Wolverines.  \n",
       "5  When Mark Doublet made his dog, Marley, the be...  \n",
       "6  Robert Evans, the Paramount executive who prod...  \n",
       "7  Former U.S. Sen. Kay Hagan, a one-time Capitol...  \n",
       "8  Joe Biden has a complicated history with the C...  \n",
       "9  A woman arrested at O'Hare International Airpo...  "
      ]
     },
     "execution_count": 77,
     "metadata": {},
     "output_type": "execute_result"
    }
   ],
   "source": [
    "df_merged = pd.merge(expanded_df, news_df, on='NewsID', how='left')\n",
    "df_merged.head(10)"
   ]
  },
  {
   "cell_type": "code",
   "execution_count": 78,
   "metadata": {},
   "outputs": [
    {
     "data": {
      "text/plain": [
       "5107639"
      ]
     },
     "execution_count": 78,
     "metadata": {},
     "output_type": "execute_result"
    }
   ],
   "source": [
    "len(df_merged)"
   ]
  },
  {
   "cell_type": "code",
   "execution_count": 79,
   "metadata": {},
   "outputs": [
    {
     "data": {
      "text/html": [
       "<div>\n",
       "<style scoped>\n",
       "    .dataframe tbody tr th:only-of-type {\n",
       "        vertical-align: middle;\n",
       "    }\n",
       "\n",
       "    .dataframe tbody tr th {\n",
       "        vertical-align: top;\n",
       "    }\n",
       "\n",
       "    .dataframe thead th {\n",
       "        text-align: right;\n",
       "    }\n",
       "</style>\n",
       "<table border=\"1\" class=\"dataframe\">\n",
       "  <thead>\n",
       "    <tr style=\"text-align: right;\">\n",
       "      <th></th>\n",
       "      <th>ImpressionID</th>\n",
       "      <th>Titles</th>\n",
       "    </tr>\n",
       "  </thead>\n",
       "  <tbody>\n",
       "    <tr>\n",
       "      <th>0</th>\n",
       "      <td>1</td>\n",
       "      <td>'Wheel Of Fortune' Guest Delivers Hilarious, Off The Rails Introduction;Three takeaways from Yankees' ALCS Game 5 victory over the Astros;Rosie O'Donnell: Barbara Walters Isn't 'Up to Speaking to People' Right Now;Four flight attendants were arrested in Miami's airport after bringing in thousands in cash, police say;Michigan sends breakup tweet to Notre Dame as series goes on hold;This Wedding Photo of a Canine Best Man Captures Just How Deep a Dog's Love Truly Is;Robert Evans, 'Chinatown' Producer and Paramount Chief, Dies at 89;Former US Senator Kay Hagan dead at 66;Joe Biden reportedly denied Communion at a South Carolina church because of his stance on abortion</td>\n",
       "    </tr>\n",
       "    <tr>\n",
       "      <th>1</th>\n",
       "      <td>2</td>\n",
       "      <td>'Habitual stowaway' arrested again at O'Hare, Chicago police say;Search resumes for worker missing in New Orleans Hard Rock Hotel building site collapse that killed 2;Coroner IDs man found dead in Klondike neighborhood;China already snapping up U.S. farm goods, Trump claims;Motorcyclist killed in crash on New Cut Road identified;Wedding shooter may have been avenging late stepfather's murder, authorities say;Elderly Japan woman rescued from Typhoon Hagibis dies after falling from helicopter; storm kills at least 33;Officer who shot naked man found not guilty of murder;Suspect in Henry County murder, kidnapping arraigned;Harley-Davidson halts production of new electric motorcycles;A 'one in a million' yellow cardinal, dubbed 'Sunny,' seen in Florida;Boxer Patrick Day dies after suffering traumatic brain injury in super welterweight fight;Security camera spots SOS from woman lost for three days in Australia;Ex-Maverick to pay for funeral of woman fatally shot in home by police;Former Florida cop won't serve jail time after accidentally killing woman, 73, in training exercise;Florida police tell man to quit calling about stolen marijuana;Police arrest suspect in Bashford Manor double shooting;Missouri man missing for a week found alive in car that crashed into ravine;Suspect Alfredo Vazquez pleads guilty in Clark County judges' shooting case;Suspect in crossbow murder of his father arraigned;Officer placed on leave after threatening teen skaters at gunpoint;Three gunmen killed in Brazil airport raid, kidnapping: police;After being pushed close to extinction, this humpback whale population is making a comeback;Man shot in the chest on Floyd Street;UPDATE: Coroner reveals identity of victim in Beechmont neighborhood shooting;Archaeologists open ancient coffins in Egypt;30 killed in DR Congo bus accident;Arrest made in connection to stabbing in South Louisville;Cincinnati school board candidate accused of 'pretending to be black' in his ads;Group clears plastic drums, tires from Falls of the Ohio State Park;The size of a bus, rare and endangered whale shark spotted off Florida coast;Road built by biblical villain uncovered in Jerusalem;Teen given 8 years in prison for gang-related hate crime of student caught on tape;The Best Seafood Restaurant in All 50 States;Snoop Dogg bringing 'I Wanna Thank Me' tour to Louisville Palace;Chris, the famously woolly sheep, has died;Missing West Point cadet found dead, officials say;16-year-old injured in shooting near Churchill Downs;16 sentenced to death for burning alive Bangladesh teen;Coast Guard searches for man who fell from cruise off Texas;U.S. bans all flights to Cuba outside Havana in latest crackdown;Homeowner says a mystery object damaged his house. It didn't fall from a plane, FAA says;Police: 4 charged with attempted murder month after shooting in SW Louisville;Judge: Brad Pitt, others can be sued over New Orleans homes;Police Arrest Motorcyclist Who Led High-Speed Chase And Went Home Thinking He Escaped;He grew a 910-pound pumpkin and then used it as a boat;Cranes remove bus partially swallowed by Pittsburgh sinkhole;Grandfather charged in death of toddler who fell on cruise ship in Puerto Rico;Multiple Houses on Fire After Plane Crashes in NJ;Nearly $400M worth of cocaine and marijuana intercepted by US Coast Guard;Oldham County man charged, injuring victim during shooting practice;Former Fox News hosts want out of non-disclosure agreements;Teen wins science competition with liquid bandage invention;A lawyer reveals a legal nightmare you can face on a cruise ship;Barneys Is Sold for Scrap, Ending an Era;Louisville man who shot at LMPD officer sentenced to 10 more years in prison;A White Woman Searches for Her Black Family;Florida air show crash: Pilot killed when plane crashes;Suspects identified following hours-long SWAT standoff on South 34th Street;Niagara Falls: Boat stuck on rocks 101 years dislodged;The News In Cartoons;Family says 16-year-old was victim hit, killed on I-64;Woman stabbed in 2015 home invasion suing 911 dispatch company;National Sandwich Day: Where to score free subs and meal deals Sunday;Resident recalls moments leading up to fatal shooting in Russell neighborhood;Niagara Falls: Boat stuck on rocks 101 years dislodged;A secretive family landing a $4 billion haul has everyone guessing;Pope Lick Legend: Loved ones of those who died on trestle push for change;2 Murder suspects escape from Monterey County, California, Jail;Pirates kidnap nine crew members from cargo ship off coast of Benin;The Sante Fe High School massacre suspect isn't fit to stand trial and will get psychiatric treatment, attorney says;Krispy Kreme orders Minnesota student who bought, resold doughnuts to 'shut down operations';First round of auctions begin for Joe Ley Antiques;13-year-old charged with two murders escapes custody in North Carolina;Before his execution, a death row inmate told his victim's family he forgives them;Brazil oil auction a 'total disaster' as bidders stay away;Former Jewish Hospital nurse to be arraigned on sexual abuse of patient charge;A man dies in Hawaii after falling into a lava tube in his yard;Lumber spilled on I-71 following rollover crash; Lanes shut down;For the first time, a man has been sentenced for sexual slavery by the International Criminal Court. He got 30 years.;Kroger shooting: Suspect coming out of store fires at officers before they shoot him dead;OJ Simpson suing Vegas hotel for defamation over 2017 TMZ story claiming 'belligerence'</td>\n",
       "    </tr>\n",
       "    <tr>\n",
       "      <th>2</th>\n",
       "      <td>3</td>\n",
       "      <td>Couple Didn't Know Why Car Was Running Strangely   Then They Popped The Hood;100 Outrageous Things Homeowners Have Done to Their Houses;Iowa family discovers horrifying basement filled with blood;Report: Three-time Super Bowl-winning RB LeGarrette Blount works out for Raiders;'The Masked Singer': Find Out Who the Eagle Was!;Wild fall freeze: Utah falls close to minus-35 as West shivers, while bitter cold oozes east;Beer-holding Nationals fan explained why he used his chest to block HR ball;The best sandwich shop in every US state and DC;Walmart's Pre-Holiday Deals Are Live Right Now;100 famous NFL players who played for teams you forgot about;A Los Angeles mansion once listed for $250 million has finally sold for 62% off after 3 years. Take a look inside what was once America's most expensive home.;The world's skinniest skyscraper is almost completed. I toured its first luxury condo   take a look inside the NYC tower that's 24 times taller than it is wide.;What Tom Brady, Lamar Jackson Told Each Other After Patriots-Ravens;Man Pulled From Path Of Oncoming BART Train;Woman Finds A Giant Wild Snake Just Chilling In Her Bed;Here Are the Biggest Deals We're Anticipating for Black Friday</td>\n",
       "    </tr>\n",
       "    <tr>\n",
       "      <th>3</th>\n",
       "      <td>4</td>\n",
       "      <td>Former Deadliest Catch Star Jerod Sechrist Arrested, Charged with Heroin Possession;Off to the World Series, these Nationals have proved everyone wrong;Woman, suspect dead at 'Tarzan' actor Ron Ely's California residence;The megaprojects that changed countries forever;The world's largest nuclear power producer is melting down;Former NBA first-round pick Jim Farmer arrested in sex sting operation;Couple Cancels Wedding, Keeps $30K as \"Donation\" for Honeymoon Instead;Clippers set bad precedent resting Kawhi Leonard against Bucks;A sneak peek at Hudson Yards' Edge to open March 2020;7 biggest takeaways from the opening College Football Playoff rankings</td>\n",
       "    </tr>\n",
       "    <tr>\n",
       "      <th>4</th>\n",
       "      <td>5</td>\n",
       "      <td>The Difference Between Green and Orange Antifreeze;Road built by biblical villain uncovered in Jerusalem;Boat inches closer to Niagara Falls edge after being grounded for century;24 Ways to Shrink Your Belly in 24 Hours</td>\n",
       "    </tr>\n",
       "    <tr>\n",
       "      <th>5</th>\n",
       "      <td>6</td>\n",
       "      <td>Eliud Kipchoge runs 1:59 marathon, first to break 2 hours;Tens of thousands of Hong Kong protesters plead for U.S. help;Murder warrant for Fort Worth officer says woman he killed was holding gun in her home;Trooper pulls over to save flag on highway;Trump appears to confirm U.S. nukes are in Turkey, an admission that would break with longstanding protocol;Angels Hire Joe Maddon As New Manager;Cat Sees Rain For The First Time And Loses Her Mind;Giuliani Mixes His Business With Role as Trump's Lawyer;ALCS Game 6 Highlights: Yankees vs. Astros;Kate Upton Shares Rare Pic of Daughter Cheering Daddy On!;ALCS Game 6 Highlights: Yankees vs. Astros;Astros beat Yankees, will face Nationals in World Series;30 killed in DR Congo bus accident;Rachael Ray finally opens restaurant with no physical location;'He fought them,' father says of son killed on birthday defending his family in home;84-Year-Old Army Veteran Challenges TSA Agent to Push-Up Contest Before Her Flight;16 transgender celebrities who are changing television;Watch this Missouri bridge be demolished after 90 years;A man in Brazil accidentally blew up his yard while trying to kill some cockroaches;Does Tire Rotation Include Tightening Lug Nuts? Michigan Court Thinks About It For Awhile, Concludes 'No';Four American Airlines flight attendants arrested at Miami airport, accused of money laundering;Why did the Phillies hire new manager Joe Girardi?;Deer fatally attacks hunter who shot him;Drone video shows the devastated compound where al-Baghdadi died;Nationals navigating through the postseason using just six pitchers;New details emerge on raid that led to the death of ISIS leader;Father makes Halloween costumes for his son with cerebral palsy;Islamic State defector inside Baghdadi's hideout critical to success of raid, officials say;Nationals win first World Series title, storming back on Astros in Game 7, 6-2;ISIS names successor to slain leader al-Baghdadi;The News In Cartoons;Young trick-or-treater refills stranger's empty candy bowl with his own;Missing New Hampshire couple's bodies found buried on a Texas beach;The News In Cartoons;Pregnant Florida woman uses AR-15 to fatally shoot armed intruder;Britney Spears' Abs Are on Full Display In Her Newest Workout Video</td>\n",
       "    </tr>\n",
       "    <tr>\n",
       "      <th>6</th>\n",
       "      <td>7</td>\n",
       "      <td>Man charged with 5 counts of first-degree murder in shooting rampage at Chicago condo;The Holy Grail Of Jeep Grand Cherokees Sits On An Old Wisconsin Dairy Farm, But It May Be Doomed;Four charged with repeatedly escaping prison, returning with booze and phones;Report: Angels could be fined up to $2M for not reporting Skaggs' opioid use;Coast Guard offloads $92 million worth of smuggled cocaine in San Diego;Why is Giancarlo Stanton on the Yankees' playoff roster?;Rihanna Slays in Sexy Black Bikini in Slow-Motion Video -- Watch!;Scarlett Johansson Says She Was 'Surprised' by Colin Jost's Proposal: 'He Killed It';Illegal vapes traced to California woman who was CBD pioneer;30 Funny Dog Photos You Need to See;Joey 'the Clown' Lombardo, infamous Chicago mobster, dead at 90, reports say;Florida man arrested in beating death of peeping Tom;Burger King's new 'Ghost Whopper' is here to haunt your Halloween order;'Go back to work': Outcry over deaths on Amazon's warehouse floor;Rob Kardashian Appears Thinner at Kim Kardashian's Birthday Party in Rare Video;Can You Find the Ghost Hidden Among the Skeletons in This Tricky Brainteaser?;Video allegedly shows police officer roughing up 11-year-old girl;Soto, Nationals edge Astros in World Series opener;California sheriff's deputy shot dead, ride-along injured in 'active shooter incident,' officials say;16 transgender celebrities who are changing television;Man threatened school to distract from robbery, police say;We Hope the Ford Bronco Has Taken Notes on the Suzuki Jimny;Nationals still uncertain on Scherzer status after injection;Hyundai fuel cell semi concept makes the Tesla Semi look boring;How did the Nats respond to a controversial call? By leaving absolutely no doubt.;Kevin Spacey Won't Be Charged in Sexual Assault Case After Accuser Dies;How To Open a Can Without a Can Opener;Tent Spent: We Try Luxury Camping in a $100,000 Airstream;TSA Agents Stop Passenger With Loaded Gun Before Boarding Plane;Couple Accused of Injecting Childhood Friend With Meth and Filming Her As She Died;ISIS Leader Paid Rival for Protection but Was Betrayed by His Own;Hennessey Maximus Is a 1000-HP Jeep Gladiator from Hell;She fought for human rights on a tiny island that banned guns. Then she was shot dead.;Bears' Khalil Mack calls out Eagles C Jason Kelce's controversial tactics in offsides penalties;One of FBI's Most Wanted fugitives offers surrender</td>\n",
       "    </tr>\n",
       "    <tr>\n",
       "      <th>7</th>\n",
       "      <td>8</td>\n",
       "      <td>UFC Tampa results: Jedrzejczyk dominates Waterson;Franklin upset players wore Sutherland T-shirts without permission;New Mexico DE Nahje Flowers dies at 21;Evander Kane sued by hotel for gambling debt built during playoffs</td>\n",
       "    </tr>\n",
       "    <tr>\n",
       "      <th>8</th>\n",
       "      <td>9</td>\n",
       "      <td>Police warn against THC-laced Halloween candy;Serial stowaway arrested at Chicago airport for 2nd time;California governor signs measure banning 'lunch shaming';Uh-Oh! Carrie Ann Inaba Falls on 'Dancing With the Stars';Wisconsin jury awards $450,000 in Sandy Hook defamation case;Bill Macy, Bea Arthur's Husband on 'Maude,' Dies at 97;Hillary Clinton backs out of DC event also set to include Tulsi Gabbard, Kirstjen Nielsen: report;Rosie O'Donnell: Barbara Walters Isn't 'Up to Speaking to People' Right Now;Singer stands up to heckler who told her to take shirt off;Bed, Bath and Beyond Pulls 'Blackface Pumpkins From the Shelves;Coast Guard searches for man who fell from cruise off Texas;Woman stabbed to death by son in Plainville, police say;'Potentially historic wind event' over weekend could inflame California wildfires;17 Hallmark Movies That Are Totally Worth Watching;Tourist in Venice kidnaps local woman in row over exchange rate;Police: Off-Duty Dallas Officer Mistakenly Shoots, Injures Adult Son Thinking He Was An Intruder;Joe Biden reportedly denied Communion at a South Carolina church because of his stance on abortion;Former NBA first-round pick Jim Farmer arrested in sex sting operation;Niagara Falls: Boat stuck on rocks 101 years dislodged</td>\n",
       "    </tr>\n",
       "    <tr>\n",
       "      <th>9</th>\n",
       "      <td>10</td>\n",
       "      <td>Beloved grandfather's body pulled from collapsed Hard Rock hotel;Saddleridge fire calms down, heavy rains on East Coast;JetBlue Plane Makes Emergency Landing at JFK Airport;Iran alleges foreign government behind 'treacherous' ship attack;Why are most aircraft painted predominantly white?;Harley-Davidson halts production of new electric motorcycles;Cracks found on 38 of 810 Boeing 737 NG jets inspected globally;McConnell tees off on Democrats over impeachment;Nevada gambling bosses move to bar Wynn from casino industry;Health warning lifted over fire at California oil facility;'I'm 73 and fed up with California and want a gun-friendly, affordable city with good weather   so where should I retire?';Southwest Airlines evacuates Chicago flight after blown tires: reports;23 Foods That Help Lower High Blood Pressure;25 Cars No One Wanted to Buy;Why it's so hard for planes to land on water;After Soldiers Surrender El Chapo's Son, a Shocked Mexican City Sighs With Relief;Four flight attendants were arrested in Miami's airport after bringing in thousands in cash, police say;Mitch McConnell snubbed by Elijah Cummings' pallbearer in handshake line at U.S. Capitol ceremony;Explosive new wildfire drives thousands from homes near Los Angeles;DOJ sues Walmart for allegedly discriminating against a Navy reserve officer;Firefighting Plane Battles Maria Fire Near Santa Paula;Illegal drones ground water-dropping helicopters at critical moment in Maria fire battle;Chinese pilot suspended after woman poses in cockpit with drinks;Inside the Sheikh of Dubai's 800-acre Kentucky horse farm;Keanu Reeves holds hands with Alexandra Grant as the Internet swoons, plus more news;Lucky Texas Storm Chaser Sees Hailstones Whizz Past Him During Tornado;Joe Alwyn on Buzz Around Taylor Swift Romance: 'I'll Just Turn it Off';40 Fun Facts About Jennifer Aniston</td>\n",
       "    </tr>\n",
       "  </tbody>\n",
       "</table>\n",
       "</div>"
      ],
      "text/plain": [
       "   ImpressionID  \\\n",
       "0             1   \n",
       "1             2   \n",
       "2             3   \n",
       "3             4   \n",
       "4             5   \n",
       "5             6   \n",
       "6             7   \n",
       "7             8   \n",
       "8             9   \n",
       "9            10   \n",
       "\n",
       "                                                                                                                                                                                                                                                                                                                                                                                                                                                                                                                                                                                                                                                                                                                                                                                                                                                                                                                                                                                                                                                                                                                                                                                                                                                                                                                                                                                                                                                                                                                                                                                                                                                                                                                                                                                                                                                                                                                                                                                                                                                                                                                                                                                                                                                                                                                                                                                                                                                                                                                                                                                                                                                                                                                                                                                                                                                                                                                                                                                                                                                                                                                                                                                                                                                                                                                                                                                                                                                                                                                                                                                                                                                                                                                                                                                                                                                                                                                                                                                                                                                                                                                                                                                                                                                                                                                                                                                                                                                                                                                                                                                                                                                                                                                                                                                                                                                                                                                                                                                                                                                                                                                                                                                                                                                                                                                                                                                                                                                                                                                                                                                                                                                                                                                                        Titles  \n",
       "0                                                                                                                                                                                                                                                                                                                                                                                                                                                                                                                                                                                                                                                                                                                                                                                                                                                                                                                                                                                                                                                                                                                                                                                                                                                                                                                                                                                                                                                                                                                                                                                                                                                                                                                                                                                                                                                                                                                                                                                                                                                                                                                                                                                                                                                                                                                                                                                                                                                                                                                                                                                                                                                                                                                                                                                                                                                                                                                                                                                                                                                                                                                                                                                                                                                                                                                                                                                                                                                                                                                                                                                                                                                                                                                                                                                                                                                                                                                                                                                                                                                                                                                                                                                                                                                                                                                                                                                                                                                                                                                                                                                                                                                                                                                                                                                                                                                                                                                                                                                                                                            'Wheel Of Fortune' Guest Delivers Hilarious, Off The Rails Introduction;Three takeaways from Yankees' ALCS Game 5 victory over the Astros;Rosie O'Donnell: Barbara Walters Isn't 'Up to Speaking to People' Right Now;Four flight attendants were arrested in Miami's airport after bringing in thousands in cash, police say;Michigan sends breakup tweet to Notre Dame as series goes on hold;This Wedding Photo of a Canine Best Man Captures Just How Deep a Dog's Love Truly Is;Robert Evans, 'Chinatown' Producer and Paramount Chief, Dies at 89;Former US Senator Kay Hagan dead at 66;Joe Biden reportedly denied Communion at a South Carolina church because of his stance on abortion  \n",
       "1  'Habitual stowaway' arrested again at O'Hare, Chicago police say;Search resumes for worker missing in New Orleans Hard Rock Hotel building site collapse that killed 2;Coroner IDs man found dead in Klondike neighborhood;China already snapping up U.S. farm goods, Trump claims;Motorcyclist killed in crash on New Cut Road identified;Wedding shooter may have been avenging late stepfather's murder, authorities say;Elderly Japan woman rescued from Typhoon Hagibis dies after falling from helicopter; storm kills at least 33;Officer who shot naked man found not guilty of murder;Suspect in Henry County murder, kidnapping arraigned;Harley-Davidson halts production of new electric motorcycles;A 'one in a million' yellow cardinal, dubbed 'Sunny,' seen in Florida;Boxer Patrick Day dies after suffering traumatic brain injury in super welterweight fight;Security camera spots SOS from woman lost for three days in Australia;Ex-Maverick to pay for funeral of woman fatally shot in home by police;Former Florida cop won't serve jail time after accidentally killing woman, 73, in training exercise;Florida police tell man to quit calling about stolen marijuana;Police arrest suspect in Bashford Manor double shooting;Missouri man missing for a week found alive in car that crashed into ravine;Suspect Alfredo Vazquez pleads guilty in Clark County judges' shooting case;Suspect in crossbow murder of his father arraigned;Officer placed on leave after threatening teen skaters at gunpoint;Three gunmen killed in Brazil airport raid, kidnapping: police;After being pushed close to extinction, this humpback whale population is making a comeback;Man shot in the chest on Floyd Street;UPDATE: Coroner reveals identity of victim in Beechmont neighborhood shooting;Archaeologists open ancient coffins in Egypt;30 killed in DR Congo bus accident;Arrest made in connection to stabbing in South Louisville;Cincinnati school board candidate accused of 'pretending to be black' in his ads;Group clears plastic drums, tires from Falls of the Ohio State Park;The size of a bus, rare and endangered whale shark spotted off Florida coast;Road built by biblical villain uncovered in Jerusalem;Teen given 8 years in prison for gang-related hate crime of student caught on tape;The Best Seafood Restaurant in All 50 States;Snoop Dogg bringing 'I Wanna Thank Me' tour to Louisville Palace;Chris, the famously woolly sheep, has died;Missing West Point cadet found dead, officials say;16-year-old injured in shooting near Churchill Downs;16 sentenced to death for burning alive Bangladesh teen;Coast Guard searches for man who fell from cruise off Texas;U.S. bans all flights to Cuba outside Havana in latest crackdown;Homeowner says a mystery object damaged his house. It didn't fall from a plane, FAA says;Police: 4 charged with attempted murder month after shooting in SW Louisville;Judge: Brad Pitt, others can be sued over New Orleans homes;Police Arrest Motorcyclist Who Led High-Speed Chase And Went Home Thinking He Escaped;He grew a 910-pound pumpkin and then used it as a boat;Cranes remove bus partially swallowed by Pittsburgh sinkhole;Grandfather charged in death of toddler who fell on cruise ship in Puerto Rico;Multiple Houses on Fire After Plane Crashes in NJ;Nearly $400M worth of cocaine and marijuana intercepted by US Coast Guard;Oldham County man charged, injuring victim during shooting practice;Former Fox News hosts want out of non-disclosure agreements;Teen wins science competition with liquid bandage invention;A lawyer reveals a legal nightmare you can face on a cruise ship;Barneys Is Sold for Scrap, Ending an Era;Louisville man who shot at LMPD officer sentenced to 10 more years in prison;A White Woman Searches for Her Black Family;Florida air show crash: Pilot killed when plane crashes;Suspects identified following hours-long SWAT standoff on South 34th Street;Niagara Falls: Boat stuck on rocks 101 years dislodged;The News In Cartoons;Family says 16-year-old was victim hit, killed on I-64;Woman stabbed in 2015 home invasion suing 911 dispatch company;National Sandwich Day: Where to score free subs and meal deals Sunday;Resident recalls moments leading up to fatal shooting in Russell neighborhood;Niagara Falls: Boat stuck on rocks 101 years dislodged;A secretive family landing a $4 billion haul has everyone guessing;Pope Lick Legend: Loved ones of those who died on trestle push for change;2 Murder suspects escape from Monterey County, California, Jail;Pirates kidnap nine crew members from cargo ship off coast of Benin;The Sante Fe High School massacre suspect isn't fit to stand trial and will get psychiatric treatment, attorney says;Krispy Kreme orders Minnesota student who bought, resold doughnuts to 'shut down operations';First round of auctions begin for Joe Ley Antiques;13-year-old charged with two murders escapes custody in North Carolina;Before his execution, a death row inmate told his victim's family he forgives them;Brazil oil auction a 'total disaster' as bidders stay away;Former Jewish Hospital nurse to be arraigned on sexual abuse of patient charge;A man dies in Hawaii after falling into a lava tube in his yard;Lumber spilled on I-71 following rollover crash; Lanes shut down;For the first time, a man has been sentenced for sexual slavery by the International Criminal Court. He got 30 years.;Kroger shooting: Suspect coming out of store fires at officers before they shoot him dead;OJ Simpson suing Vegas hotel for defamation over 2017 TMZ story claiming 'belligerence'  \n",
       "2                                                                                                                                                                                                                                                                                                                                                                                                                                                                                                                                                                                                                                                                                                                                                                                                                                                                                                                                                                                                                                                                                                                                                                                                                                                                                                                                                                                                                                                                                                                                                                                                                                                                                                                                                                                                                                                                                                                                                                                                                                                                                                                                                                                                                                                                                                                                                                                                                                                                                                                                                                                                                                                                                                                                                                                                                                                                                                                                                                                                                                                                                                                                                                                                                                                                                                                                                                                                                                                                                                                                                                                                                                                                                                                                                                                                                                                                                                                                                                                                                                                                                                                                                                                                                                                                                                                                                                                                                                                                                            Couple Didn't Know Why Car Was Running Strangely   Then They Popped The Hood;100 Outrageous Things Homeowners Have Done to Their Houses;Iowa family discovers horrifying basement filled with blood;Report: Three-time Super Bowl-winning RB LeGarrette Blount works out for Raiders;'The Masked Singer': Find Out Who the Eagle Was!;Wild fall freeze: Utah falls close to minus-35 as West shivers, while bitter cold oozes east;Beer-holding Nationals fan explained why he used his chest to block HR ball;The best sandwich shop in every US state and DC;Walmart's Pre-Holiday Deals Are Live Right Now;100 famous NFL players who played for teams you forgot about;A Los Angeles mansion once listed for $250 million has finally sold for 62% off after 3 years. Take a look inside what was once America's most expensive home.;The world's skinniest skyscraper is almost completed. I toured its first luxury condo   take a look inside the NYC tower that's 24 times taller than it is wide.;What Tom Brady, Lamar Jackson Told Each Other After Patriots-Ravens;Man Pulled From Path Of Oncoming BART Train;Woman Finds A Giant Wild Snake Just Chilling In Her Bed;Here Are the Biggest Deals We're Anticipating for Black Friday  \n",
       "3                                                                                                                                                                                                                                                                                                                                                                                                                                                                                                                                                                                                                                                                                                                                                                                                                                                                                                                                                                                                                                                                                                                                                                                                                                                                                                                                                                                                                                                                                                                                                                                                                                                                                                                                                                                                                                                                                                                                                                                                                                                                                                                                                                                                                                                                                                                                                                                                                                                                                                                                                                                                                                                                                                                                                                                                                                                                                                                                                                                                                                                                                                                                                                                                                                                                                                                                                                                                                                                                                                                                                                                                                                                                                                                                                                                                                                                                                                                                                                                                                                                                                                                                                                                                                                                                                                                                                                                                                                                                                                                                                                                                                                                                                                                                                                                                                                                                                                                                                                                                                                                            Former Deadliest Catch Star Jerod Sechrist Arrested, Charged with Heroin Possession;Off to the World Series, these Nationals have proved everyone wrong;Woman, suspect dead at 'Tarzan' actor Ron Ely's California residence;The megaprojects that changed countries forever;The world's largest nuclear power producer is melting down;Former NBA first-round pick Jim Farmer arrested in sex sting operation;Couple Cancels Wedding, Keeps $30K as \"Donation\" for Honeymoon Instead;Clippers set bad precedent resting Kawhi Leonard against Bucks;A sneak peek at Hudson Yards' Edge to open March 2020;7 biggest takeaways from the opening College Football Playoff rankings  \n",
       "4                                                                                                                                                                                                                                                                                                                                                                                                                                                                                                                                                                                                                                                                                                                                                                                                                                                                                                                                                                                                                                                                                                                                                                                                                                                                                                                                                                                                                                                                                                                                                                                                                                                                                                                                                                                                                                                                                                                                                                                                                                                                                                                                                                                                                                                                                                                                                                                                                                                                                                                                                                                                                                                                                                                                                                                                                                                                                                                                                                                                                                                                                                                                                                                                                                                                                                                                                                                                                                                                                                                                                                                                                                                                                                                                                                                                                                                                                                                                                                                                                                                                                                                                                                                                                                                                                                                                                                                                                                                                                                                                                                                                                                                                                                                                                                                                                                                                                                                                                                                                                                                                                                                                                                                                                                                                                                                                                                                                                                                                                                                  The Difference Between Green and Orange Antifreeze;Road built by biblical villain uncovered in Jerusalem;Boat inches closer to Niagara Falls edge after being grounded for century;24 Ways to Shrink Your Belly in 24 Hours  \n",
       "5                                                                                                                                                                                                                                                                                                                                                                                                                                                                                                                                                                                                                                                                                                                                                                                                                                                                                                                                                                                                                                                                                                                                                                                                                                                                                                                                                                                                                                                                                                                                                                                                                                                                                                                                                                                                                                                                                                                                                                                                                                                                                                                                                                                                                                                                                                                                                                                                                                                                                                                                                                                                                                                                                                                                                                                                                                                                                                                                                                                                                                                                                                                                                                                                                                                                                                                                                                                             Eliud Kipchoge runs 1:59 marathon, first to break 2 hours;Tens of thousands of Hong Kong protesters plead for U.S. help;Murder warrant for Fort Worth officer says woman he killed was holding gun in her home;Trooper pulls over to save flag on highway;Trump appears to confirm U.S. nukes are in Turkey, an admission that would break with longstanding protocol;Angels Hire Joe Maddon As New Manager;Cat Sees Rain For The First Time And Loses Her Mind;Giuliani Mixes His Business With Role as Trump's Lawyer;ALCS Game 6 Highlights: Yankees vs. Astros;Kate Upton Shares Rare Pic of Daughter Cheering Daddy On!;ALCS Game 6 Highlights: Yankees vs. Astros;Astros beat Yankees, will face Nationals in World Series;30 killed in DR Congo bus accident;Rachael Ray finally opens restaurant with no physical location;'He fought them,' father says of son killed on birthday defending his family in home;84-Year-Old Army Veteran Challenges TSA Agent to Push-Up Contest Before Her Flight;16 transgender celebrities who are changing television;Watch this Missouri bridge be demolished after 90 years;A man in Brazil accidentally blew up his yard while trying to kill some cockroaches;Does Tire Rotation Include Tightening Lug Nuts? Michigan Court Thinks About It For Awhile, Concludes 'No';Four American Airlines flight attendants arrested at Miami airport, accused of money laundering;Why did the Phillies hire new manager Joe Girardi?;Deer fatally attacks hunter who shot him;Drone video shows the devastated compound where al-Baghdadi died;Nationals navigating through the postseason using just six pitchers;New details emerge on raid that led to the death of ISIS leader;Father makes Halloween costumes for his son with cerebral palsy;Islamic State defector inside Baghdadi's hideout critical to success of raid, officials say;Nationals win first World Series title, storming back on Astros in Game 7, 6-2;ISIS names successor to slain leader al-Baghdadi;The News In Cartoons;Young trick-or-treater refills stranger's empty candy bowl with his own;Missing New Hampshire couple's bodies found buried on a Texas beach;The News In Cartoons;Pregnant Florida woman uses AR-15 to fatally shoot armed intruder;Britney Spears' Abs Are on Full Display In Her Newest Workout Video  \n",
       "6                                                                                                                                                                                                                                                                                                                                                                                                                                                                                                                                                                                                                                                                                                                                                                                                                                                                                                                                                                                                                                                                                                                                                                                                                                                                                                                                                                                                                                                                                                                                                                                                                                                                                                                                                                                                                                                                                                                                                                                                                                                                                                                                                                                                                                                                                                                                                                                                                                                                                                                                                                                                                                                                                                                                                                                                                                                                                                                                                                                                                                                                                                                                                                                                                                Man charged with 5 counts of first-degree murder in shooting rampage at Chicago condo;The Holy Grail Of Jeep Grand Cherokees Sits On An Old Wisconsin Dairy Farm, But It May Be Doomed;Four charged with repeatedly escaping prison, returning with booze and phones;Report: Angels could be fined up to $2M for not reporting Skaggs' opioid use;Coast Guard offloads $92 million worth of smuggled cocaine in San Diego;Why is Giancarlo Stanton on the Yankees' playoff roster?;Rihanna Slays in Sexy Black Bikini in Slow-Motion Video -- Watch!;Scarlett Johansson Says She Was 'Surprised' by Colin Jost's Proposal: 'He Killed It';Illegal vapes traced to California woman who was CBD pioneer;30 Funny Dog Photos You Need to See;Joey 'the Clown' Lombardo, infamous Chicago mobster, dead at 90, reports say;Florida man arrested in beating death of peeping Tom;Burger King's new 'Ghost Whopper' is here to haunt your Halloween order;'Go back to work': Outcry over deaths on Amazon's warehouse floor;Rob Kardashian Appears Thinner at Kim Kardashian's Birthday Party in Rare Video;Can You Find the Ghost Hidden Among the Skeletons in This Tricky Brainteaser?;Video allegedly shows police officer roughing up 11-year-old girl;Soto, Nationals edge Astros in World Series opener;California sheriff's deputy shot dead, ride-along injured in 'active shooter incident,' officials say;16 transgender celebrities who are changing television;Man threatened school to distract from robbery, police say;We Hope the Ford Bronco Has Taken Notes on the Suzuki Jimny;Nationals still uncertain on Scherzer status after injection;Hyundai fuel cell semi concept makes the Tesla Semi look boring;How did the Nats respond to a controversial call? By leaving absolutely no doubt.;Kevin Spacey Won't Be Charged in Sexual Assault Case After Accuser Dies;How To Open a Can Without a Can Opener;Tent Spent: We Try Luxury Camping in a $100,000 Airstream;TSA Agents Stop Passenger With Loaded Gun Before Boarding Plane;Couple Accused of Injecting Childhood Friend With Meth and Filming Her As She Died;ISIS Leader Paid Rival for Protection but Was Betrayed by His Own;Hennessey Maximus Is a 1000-HP Jeep Gladiator from Hell;She fought for human rights on a tiny island that banned guns. Then she was shot dead.;Bears' Khalil Mack calls out Eagles C Jason Kelce's controversial tactics in offsides penalties;One of FBI's Most Wanted fugitives offers surrender  \n",
       "7                                                                                                                                                                                                                                                                                                                                                                                                                                                                                                                                                                                                                                                                                                                                                                                                                                                                                                                                                                                                                                                                                                                                                                                                                                                                                                                                                                                                                                                                                                                                                                                                                                                                                                                                                                                                                                                                                                                                                                                                                                                                                                                                                                                                                                                                                                                                                                                                                                                                                                                                                                                                                                                                                                                                                                                                                                                                                                                                                                                                                                                                                                                                                                                                                                                                                                                                                                                                                                                                                                                                                                                                                                                                                                                                                                                                                                                                                                                                                                                                                                                                                                                                                                                                                                                                                                                                                                                                                                                                                                                                                                                                                                                                                                                                                                                                                                                                                                                                                                                                                                                                                                                                                                                                                                                                                                                                                                                                                                                                                                               UFC Tampa results: Jedrzejczyk dominates Waterson;Franklin upset players wore Sutherland T-shirts without permission;New Mexico DE Nahje Flowers dies at 21;Evander Kane sued by hotel for gambling debt built during playoffs  \n",
       "8                                                                                                                                                                                                                                                                                                                                                                                                                                                                                                                                                                                                                                                                                                                                                                                                                                                                                                                                                                                                                                                                                                                                                                                                                                                                                                                                                                                                                                                                                                                                                                                                                                                                                                                                                                                                                                                                                                                                                                                                                                                                                                                                                                                                                                                                                                                                                                                                                                                                                                                                                                                                                                                                                                                                                                                                                                                                                                                                                                                                                                                                                                                                                                                                                                                                                                                                                                                                                                                                                                                                                                                                                                                                                                                                                                                                                                                                                                                                                                                                                                                                                                                                                                                                                                                                                                                                                                                                                           Police warn against THC-laced Halloween candy;Serial stowaway arrested at Chicago airport for 2nd time;California governor signs measure banning 'lunch shaming';Uh-Oh! Carrie Ann Inaba Falls on 'Dancing With the Stars';Wisconsin jury awards $450,000 in Sandy Hook defamation case;Bill Macy, Bea Arthur's Husband on 'Maude,' Dies at 97;Hillary Clinton backs out of DC event also set to include Tulsi Gabbard, Kirstjen Nielsen: report;Rosie O'Donnell: Barbara Walters Isn't 'Up to Speaking to People' Right Now;Singer stands up to heckler who told her to take shirt off;Bed, Bath and Beyond Pulls 'Blackface Pumpkins From the Shelves;Coast Guard searches for man who fell from cruise off Texas;Woman stabbed to death by son in Plainville, police say;'Potentially historic wind event' over weekend could inflame California wildfires;17 Hallmark Movies That Are Totally Worth Watching;Tourist in Venice kidnaps local woman in row over exchange rate;Police: Off-Duty Dallas Officer Mistakenly Shoots, Injures Adult Son Thinking He Was An Intruder;Joe Biden reportedly denied Communion at a South Carolina church because of his stance on abortion;Former NBA first-round pick Jim Farmer arrested in sex sting operation;Niagara Falls: Boat stuck on rocks 101 years dislodged  \n",
       "9                                                                                                                                                                                                                                                                                                                                                                                                                                                                                                                                                                                                                                                                                                                                                                                                                                                                                                                                                                                                                                                                                                                                                                                                                                                                                                                                                                                                                                                                                                                                                                                                                                                                                                                                                                                                                                                                                                                                                                                                                                                                                                                                                                                                                                                                                                                                                                                                                                                                                                                                                                                                                                                                                                                                                                                                                                                                                                                                                                                                                                                                                                                                                                                                                                                                                                                                                                                                                                                                                                                                                                                                                                                                                                                                                                                                               Beloved grandfather's body pulled from collapsed Hard Rock hotel;Saddleridge fire calms down, heavy rains on East Coast;JetBlue Plane Makes Emergency Landing at JFK Airport;Iran alleges foreign government behind 'treacherous' ship attack;Why are most aircraft painted predominantly white?;Harley-Davidson halts production of new electric motorcycles;Cracks found on 38 of 810 Boeing 737 NG jets inspected globally;McConnell tees off on Democrats over impeachment;Nevada gambling bosses move to bar Wynn from casino industry;Health warning lifted over fire at California oil facility;'I'm 73 and fed up with California and want a gun-friendly, affordable city with good weather   so where should I retire?';Southwest Airlines evacuates Chicago flight after blown tires: reports;23 Foods That Help Lower High Blood Pressure;25 Cars No One Wanted to Buy;Why it's so hard for planes to land on water;After Soldiers Surrender El Chapo's Son, a Shocked Mexican City Sighs With Relief;Four flight attendants were arrested in Miami's airport after bringing in thousands in cash, police say;Mitch McConnell snubbed by Elijah Cummings' pallbearer in handshake line at U.S. Capitol ceremony;Explosive new wildfire drives thousands from homes near Los Angeles;DOJ sues Walmart for allegedly discriminating against a Navy reserve officer;Firefighting Plane Battles Maria Fire Near Santa Paula;Illegal drones ground water-dropping helicopters at critical moment in Maria fire battle;Chinese pilot suspended after woman poses in cockpit with drinks;Inside the Sheikh of Dubai's 800-acre Kentucky horse farm;Keanu Reeves holds hands with Alexandra Grant as the Internet swoons, plus more news;Lucky Texas Storm Chaser Sees Hailstones Whizz Past Him During Tornado;Joe Alwyn on Buzz Around Taylor Swift Romance: 'I'll Just Turn it Off';40 Fun Facts About Jennifer Aniston  "
      ]
     },
     "execution_count": 79,
     "metadata": {},
     "output_type": "execute_result"
    }
   ],
   "source": [
    "pd.set_option('display.max_colwidth', None)\n",
    "df_concat = df_merged.groupby('ImpressionID')['Title'].apply(lambda x: ';'.join(x)).reset_index()\n",
    "df_concat = df_concat.rename(columns={'Title': 'Titles'})\n",
    "df_concat.head(10)"
   ]
  },
  {
   "cell_type": "code",
   "execution_count": 80,
   "metadata": {},
   "outputs": [
    {
     "data": {
      "text/plain": [
       "153727"
      ]
     },
     "execution_count": 80,
     "metadata": {},
     "output_type": "execute_result"
    }
   ],
   "source": [
    "len(df_concat)"
   ]
  },
  {
   "cell_type": "code",
   "execution_count": 81,
   "metadata": {},
   "outputs": [
    {
     "data": {
      "text/html": [
       "<div>\n",
       "<style scoped>\n",
       "    .dataframe tbody tr th:only-of-type {\n",
       "        vertical-align: middle;\n",
       "    }\n",
       "\n",
       "    .dataframe tbody tr th {\n",
       "        vertical-align: top;\n",
       "    }\n",
       "\n",
       "    .dataframe thead th {\n",
       "        text-align: right;\n",
       "    }\n",
       "</style>\n",
       "<table border=\"1\" class=\"dataframe\">\n",
       "  <thead>\n",
       "    <tr style=\"text-align: right;\">\n",
       "      <th></th>\n",
       "      <th>ImpressionID</th>\n",
       "      <th>UserID</th>\n",
       "      <th>Time</th>\n",
       "      <th>History</th>\n",
       "      <th>Impressions</th>\n",
       "      <th>Titles</th>\n",
       "    </tr>\n",
       "  </thead>\n",
       "  <tbody>\n",
       "    <tr>\n",
       "      <th>0</th>\n",
       "      <td>1</td>\n",
       "      <td>U13740</td>\n",
       "      <td>11/11/2019 9:05:58 AM</td>\n",
       "      <td>N55189 N42782 N34694 N45794 N18445 N63302 N10414 N19347 N31801</td>\n",
       "      <td>N55689-1 N35729-0</td>\n",
       "      <td>'Wheel Of Fortune' Guest Delivers Hilarious, Off The Rails Introduction;Three takeaways from Yankees' ALCS Game 5 victory over the Astros;Rosie O'Donnell: Barbara Walters Isn't 'Up to Speaking to People' Right Now;Four flight attendants were arrested in Miami's airport after bringing in thousands in cash, police say;Michigan sends breakup tweet to Notre Dame as series goes on hold;This Wedding Photo of a Canine Best Man Captures Just How Deep a Dog's Love Truly Is;Robert Evans, 'Chinatown' Producer and Paramount Chief, Dies at 89;Former US Senator Kay Hagan dead at 66;Joe Biden reportedly denied Communion at a South Carolina church because of his stance on abortion</td>\n",
       "    </tr>\n",
       "    <tr>\n",
       "      <th>1</th>\n",
       "      <td>2</td>\n",
       "      <td>U91836</td>\n",
       "      <td>11/12/2019 6:11:30 PM</td>\n",
       "      <td>N31739 N6072 N63045 N23979 N35656 N43353 N8129 N1569 N17686 N13008 N21623 N6233 N14340 N48031 N62285 N44383 N23061 N16290 N6244 N45099 N58715 N59049 N7023 N50528 N42704 N46082 N8275 N15710 N59026 N8429 N30867 N56514 N19709 N31402 N31741 N54889 N9798 N62612 N2663 N16617 N6087 N13231 N63317 N61388 N59359 N51163 N30698 N34567 N54225 N32852 N55833 N64467 N3142 N13912 N29802 N44462 N29948 N4486 N5398 N14761 N47020 N65112 N31699 N37159 N61101 N14761 N3433 N10438 N61355 N21164 N22976 N2511 N48390 N58224 N48742 N35458 N24611 N37509 N21773 N41011 N19041 N25785</td>\n",
       "      <td>N20678-0 N39317-0 N58114-0 N20495-0 N42977-0 N22407-0 N14592-0 N17059-1 N33677-0 N7821-0 N6890-0</td>\n",
       "      <td>'Habitual stowaway' arrested again at O'Hare, Chicago police say;Search resumes for worker missing in New Orleans Hard Rock Hotel building site collapse that killed 2;Coroner IDs man found dead in Klondike neighborhood;China already snapping up U.S. farm goods, Trump claims;Motorcyclist killed in crash on New Cut Road identified;Wedding shooter may have been avenging late stepfather's murder, authorities say;Elderly Japan woman rescued from Typhoon Hagibis dies after falling from helicopter; storm kills at least 33;Officer who shot naked man found not guilty of murder;Suspect in Henry County murder, kidnapping arraigned;Harley-Davidson halts production of new electric motorcycles;A 'one in a million' yellow cardinal, dubbed 'Sunny,' seen in Florida;Boxer Patrick Day dies after suffering traumatic brain injury in super welterweight fight;Security camera spots SOS from woman lost for three days in Australia;Ex-Maverick to pay for funeral of woman fatally shot in home by police;Former Florida cop won't serve jail time after accidentally killing woman, 73, in training exercise;Florida police tell man to quit calling about stolen marijuana;Police arrest suspect in Bashford Manor double shooting;Missouri man missing for a week found alive in car that crashed into ravine;Suspect Alfredo Vazquez pleads guilty in Clark County judges' shooting case;Suspect in crossbow murder of his father arraigned;Officer placed on leave after threatening teen skaters at gunpoint;Three gunmen killed in Brazil airport raid, kidnapping: police;After being pushed close to extinction, this humpback whale population is making a comeback;Man shot in the chest on Floyd Street;UPDATE: Coroner reveals identity of victim in Beechmont neighborhood shooting;Archaeologists open ancient coffins in Egypt;30 killed in DR Congo bus accident;Arrest made in connection to stabbing in South Louisville;Cincinnati school board candidate accused of 'pretending to be black' in his ads;Group clears plastic drums, tires from Falls of the Ohio State Park;The size of a bus, rare and endangered whale shark spotted off Florida coast;Road built by biblical villain uncovered in Jerusalem;Teen given 8 years in prison for gang-related hate crime of student caught on tape;The Best Seafood Restaurant in All 50 States;Snoop Dogg bringing 'I Wanna Thank Me' tour to Louisville Palace;Chris, the famously woolly sheep, has died;Missing West Point cadet found dead, officials say;16-year-old injured in shooting near Churchill Downs;16 sentenced to death for burning alive Bangladesh teen;Coast Guard searches for man who fell from cruise off Texas;U.S. bans all flights to Cuba outside Havana in latest crackdown;Homeowner says a mystery object damaged his house. It didn't fall from a plane, FAA says;Police: 4 charged with attempted murder month after shooting in SW Louisville;Judge: Brad Pitt, others can be sued over New Orleans homes;Police Arrest Motorcyclist Who Led High-Speed Chase And Went Home Thinking He Escaped;He grew a 910-pound pumpkin and then used it as a boat;Cranes remove bus partially swallowed by Pittsburgh sinkhole;Grandfather charged in death of toddler who fell on cruise ship in Puerto Rico;Multiple Houses on Fire After Plane Crashes in NJ;Nearly $400M worth of cocaine and marijuana intercepted by US Coast Guard;Oldham County man charged, injuring victim during shooting practice;Former Fox News hosts want out of non-disclosure agreements;Teen wins science competition with liquid bandage invention;A lawyer reveals a legal nightmare you can face on a cruise ship;Barneys Is Sold for Scrap, Ending an Era;Louisville man who shot at LMPD officer sentenced to 10 more years in prison;A White Woman Searches for Her Black Family;Florida air show crash: Pilot killed when plane crashes;Suspects identified following hours-long SWAT standoff on South 34th Street;Niagara Falls: Boat stuck on rocks 101 years dislodged;The News In Cartoons;Family says 16-year-old was victim hit, killed on I-64;Woman stabbed in 2015 home invasion suing 911 dispatch company;National Sandwich Day: Where to score free subs and meal deals Sunday;Resident recalls moments leading up to fatal shooting in Russell neighborhood;Niagara Falls: Boat stuck on rocks 101 years dislodged;A secretive family landing a $4 billion haul has everyone guessing;Pope Lick Legend: Loved ones of those who died on trestle push for change;2 Murder suspects escape from Monterey County, California, Jail;Pirates kidnap nine crew members from cargo ship off coast of Benin;The Sante Fe High School massacre suspect isn't fit to stand trial and will get psychiatric treatment, attorney says;Krispy Kreme orders Minnesota student who bought, resold doughnuts to 'shut down operations';First round of auctions begin for Joe Ley Antiques;13-year-old charged with two murders escapes custody in North Carolina;Before his execution, a death row inmate told his victim's family he forgives them;Brazil oil auction a 'total disaster' as bidders stay away;Former Jewish Hospital nurse to be arraigned on sexual abuse of patient charge;A man dies in Hawaii after falling into a lava tube in his yard;Lumber spilled on I-71 following rollover crash; Lanes shut down;For the first time, a man has been sentenced for sexual slavery by the International Criminal Court. He got 30 years.;Kroger shooting: Suspect coming out of store fires at officers before they shoot him dead;OJ Simpson suing Vegas hotel for defamation over 2017 TMZ story claiming 'belligerence'</td>\n",
       "    </tr>\n",
       "    <tr>\n",
       "      <th>2</th>\n",
       "      <td>3</td>\n",
       "      <td>U73700</td>\n",
       "      <td>11/14/2019 7:01:48 AM</td>\n",
       "      <td>N10732 N25792 N7563 N21087 N41087 N5445 N60384 N46616 N52500 N33164 N47289 N24233 N62058 N26378 N49475 N18870</td>\n",
       "      <td>N50014-0 N23877-0 N35389-0 N49712-0 N16844-0 N59685-0 N23814-1 N23446-0 N64174-0 N11817-0 N60550-0 N48225-0 N45509-0 N56711-0 N46821-0 N48017-0 N8015-0 N5364-0 N48722-0 N55555-0 N37348-0 N40109-0 N59495-0 N36226-0 N38779-0 N47346-0 N48875-0 N10960-0 N29739-0 N50872-0 N50592-0 N13131-0 N3839-0 N12330-0 N47098-0 N51570-0</td>\n",
       "      <td>Couple Didn't Know Why Car Was Running Strangely   Then They Popped The Hood;100 Outrageous Things Homeowners Have Done to Their Houses;Iowa family discovers horrifying basement filled with blood;Report: Three-time Super Bowl-winning RB LeGarrette Blount works out for Raiders;'The Masked Singer': Find Out Who the Eagle Was!;Wild fall freeze: Utah falls close to minus-35 as West shivers, while bitter cold oozes east;Beer-holding Nationals fan explained why he used his chest to block HR ball;The best sandwich shop in every US state and DC;Walmart's Pre-Holiday Deals Are Live Right Now;100 famous NFL players who played for teams you forgot about;A Los Angeles mansion once listed for $250 million has finally sold for 62% off after 3 years. Take a look inside what was once America's most expensive home.;The world's skinniest skyscraper is almost completed. I toured its first luxury condo   take a look inside the NYC tower that's 24 times taller than it is wide.;What Tom Brady, Lamar Jackson Told Each Other After Patriots-Ravens;Man Pulled From Path Of Oncoming BART Train;Woman Finds A Giant Wild Snake Just Chilling In Her Bed;Here Are the Biggest Deals We're Anticipating for Black Friday</td>\n",
       "    </tr>\n",
       "    <tr>\n",
       "      <th>3</th>\n",
       "      <td>4</td>\n",
       "      <td>U34670</td>\n",
       "      <td>11/11/2019 5:28:05 AM</td>\n",
       "      <td>N45729 N2203 N871 N53880 N41375 N43142 N33013 N29757 N31825 N51891</td>\n",
       "      <td>N35729-0 N33632-0 N49685-1 N27581-0</td>\n",
       "      <td>Former Deadliest Catch Star Jerod Sechrist Arrested, Charged with Heroin Possession;Off to the World Series, these Nationals have proved everyone wrong;Woman, suspect dead at 'Tarzan' actor Ron Ely's California residence;The megaprojects that changed countries forever;The world's largest nuclear power producer is melting down;Former NBA first-round pick Jim Farmer arrested in sex sting operation;Couple Cancels Wedding, Keeps $30K as \"Donation\" for Honeymoon Instead;Clippers set bad precedent resting Kawhi Leonard against Bucks;A sneak peek at Hudson Yards' Edge to open March 2020;7 biggest takeaways from the opening College Football Playoff rankings</td>\n",
       "    </tr>\n",
       "    <tr>\n",
       "      <th>4</th>\n",
       "      <td>5</td>\n",
       "      <td>U8125</td>\n",
       "      <td>11/12/2019 4:11:21 PM</td>\n",
       "      <td>N10078 N56514 N14904 N33740</td>\n",
       "      <td>N39985-0 N36050-0 N16096-0 N8400-1 N22407-0 N60408-0 N61497-0 N47412-0 N41220-0 N1940-0 N724-0 N11363-0 N261-0 N33883-0 N36807-0 N11967-0 N17896-0 N13486-0 N10413-0 N54274-0 N4247-0 N27497-0 N38512-0 N30253-0 N45389-0 N20015-0 N20678-0 N54003-0 N35850-0 N33261-0 N32010-0 N57426-0 N7419-0 N50023-0 N36446-0 N26940-0 N28495-0 N19318-0 N4936-0 N28414-0 N25108-0 N32791-0 N23563-0 N39317-0 N16166-0 N37058-0 N64851-0 N46992-0 N57327-0 N12995-0 N58363-0 N53084-0 N11094-0 N36436-0 N305-0 N58241-0 N33212-0 N6975-0 N58114-0 N3344-0 N25406-0 N4741-0 N33885-0 N20915-0 N44941-0 N57319-0 N36532-0 N61822-0 N20527-0</td>\n",
       "      <td>The Difference Between Green and Orange Antifreeze;Road built by biblical villain uncovered in Jerusalem;Boat inches closer to Niagara Falls edge after being grounded for century;24 Ways to Shrink Your Belly in 24 Hours</td>\n",
       "    </tr>\n",
       "  </tbody>\n",
       "</table>\n",
       "</div>"
      ],
      "text/plain": [
       "   ImpressionID  UserID                   Time  \\\n",
       "0             1  U13740  11/11/2019 9:05:58 AM   \n",
       "1             2  U91836  11/12/2019 6:11:30 PM   \n",
       "2             3  U73700  11/14/2019 7:01:48 AM   \n",
       "3             4  U34670  11/11/2019 5:28:05 AM   \n",
       "4             5   U8125  11/12/2019 4:11:21 PM   \n",
       "\n",
       "                                                                                                                                                                                                                                                                                                                                                                                                                                                                                                                                                                         History  \\\n",
       "0                                                                                                                                                                                                                                                                                                                                                                                                                                                                                                                 N55189 N42782 N34694 N45794 N18445 N63302 N10414 N19347 N31801   \n",
       "1  N31739 N6072 N63045 N23979 N35656 N43353 N8129 N1569 N17686 N13008 N21623 N6233 N14340 N48031 N62285 N44383 N23061 N16290 N6244 N45099 N58715 N59049 N7023 N50528 N42704 N46082 N8275 N15710 N59026 N8429 N30867 N56514 N19709 N31402 N31741 N54889 N9798 N62612 N2663 N16617 N6087 N13231 N63317 N61388 N59359 N51163 N30698 N34567 N54225 N32852 N55833 N64467 N3142 N13912 N29802 N44462 N29948 N4486 N5398 N14761 N47020 N65112 N31699 N37159 N61101 N14761 N3433 N10438 N61355 N21164 N22976 N2511 N48390 N58224 N48742 N35458 N24611 N37509 N21773 N41011 N19041 N25785   \n",
       "2                                                                                                                                                                                                                                                                                                                                                                                                                                                                  N10732 N25792 N7563 N21087 N41087 N5445 N60384 N46616 N52500 N33164 N47289 N24233 N62058 N26378 N49475 N18870   \n",
       "3                                                                                                                                                                                                                                                                                                                                                                                                                                                                                                             N45729 N2203 N871 N53880 N41375 N43142 N33013 N29757 N31825 N51891   \n",
       "4                                                                                                                                                                                                                                                                                                                                                                                                                                                                                                                                                    N10078 N56514 N14904 N33740   \n",
       "\n",
       "                                                                                                                                                                                                                                                                                                                                                                                                                                                                                                                                                                                                                      Impressions  \\\n",
       "0                                                                                                                                                                                                                                                                                                                                                                                                                                                                                                                                                                                                               N55689-1 N35729-0   \n",
       "1                                                                                                                                                                                                                                                                                                                                                                                                                                                                                                                                N20678-0 N39317-0 N58114-0 N20495-0 N42977-0 N22407-0 N14592-0 N17059-1 N33677-0 N7821-0 N6890-0   \n",
       "2                                                                                                                                                                                                                                                                                                N50014-0 N23877-0 N35389-0 N49712-0 N16844-0 N59685-0 N23814-1 N23446-0 N64174-0 N11817-0 N60550-0 N48225-0 N45509-0 N56711-0 N46821-0 N48017-0 N8015-0 N5364-0 N48722-0 N55555-0 N37348-0 N40109-0 N59495-0 N36226-0 N38779-0 N47346-0 N48875-0 N10960-0 N29739-0 N50872-0 N50592-0 N13131-0 N3839-0 N12330-0 N47098-0 N51570-0   \n",
       "3                                                                                                                                                                                                                                                                                                                                                                                                                                                                                                                                                                                             N35729-0 N33632-0 N49685-1 N27581-0   \n",
       "4  N39985-0 N36050-0 N16096-0 N8400-1 N22407-0 N60408-0 N61497-0 N47412-0 N41220-0 N1940-0 N724-0 N11363-0 N261-0 N33883-0 N36807-0 N11967-0 N17896-0 N13486-0 N10413-0 N54274-0 N4247-0 N27497-0 N38512-0 N30253-0 N45389-0 N20015-0 N20678-0 N54003-0 N35850-0 N33261-0 N32010-0 N57426-0 N7419-0 N50023-0 N36446-0 N26940-0 N28495-0 N19318-0 N4936-0 N28414-0 N25108-0 N32791-0 N23563-0 N39317-0 N16166-0 N37058-0 N64851-0 N46992-0 N57327-0 N12995-0 N58363-0 N53084-0 N11094-0 N36436-0 N305-0 N58241-0 N33212-0 N6975-0 N58114-0 N3344-0 N25406-0 N4741-0 N33885-0 N20915-0 N44941-0 N57319-0 N36532-0 N61822-0 N20527-0   \n",
       "\n",
       "                                                                                                                                                                                                                                                                                                                                                                                                                                                                                                                                                                                                                                                                                                                                                                                                                                                                                                                                                                                                                                                                                                                                                                                                                                                                                                                                                                                                                                                                                                                                                                                                                                                                                                                                                                                                                                                                                                                                                                                                                                                                                                                                                                                                                                                                                                                                                                                                                                                                                                                                                                                                                                                                                                                                                                                                                                                                                                                                                                                                                                                                                                                                                                                                                                                                                                                                                                                                                                                                                                                                                                                                                                                                                                                                                                                                                                                                                                                                                                                                                                                                                                                                                                                                                                                                                                                                                                                                                                                                                                                                                                                                                                                                                                                                                                                                                                                                                                                                                                                                                                                                                                                                                                                                                                                                                                                                                                                                                                                                                                                                                                                                                                                                                                                                        Titles  \n",
       "0                                                                                                                                                                                                                                                                                                                                                                                                                                                                                                                                                                                                                                                                                                                                                                                                                                                                                                                                                                                                                                                                                                                                                                                                                                                                                                                                                                                                                                                                                                                                                                                                                                                                                                                                                                                                                                                                                                                                                                                                                                                                                                                                                                                                                                                                                                                                                                                                                                                                                                                                                                                                                                                                                                                                                                                                                                                                                                                                                                                                                                                                                                                                                                                                                                                                                                                                                                                                                                                                                                                                                                                                                                                                                                                                                                                                                                                                                                                                                                                                                                                                                                                                                                                                                                                                                                                                                                                                                                                                                                                                                                                                                                                                                                                                                                                                                                                                                                                                                                                                                                            'Wheel Of Fortune' Guest Delivers Hilarious, Off The Rails Introduction;Three takeaways from Yankees' ALCS Game 5 victory over the Astros;Rosie O'Donnell: Barbara Walters Isn't 'Up to Speaking to People' Right Now;Four flight attendants were arrested in Miami's airport after bringing in thousands in cash, police say;Michigan sends breakup tweet to Notre Dame as series goes on hold;This Wedding Photo of a Canine Best Man Captures Just How Deep a Dog's Love Truly Is;Robert Evans, 'Chinatown' Producer and Paramount Chief, Dies at 89;Former US Senator Kay Hagan dead at 66;Joe Biden reportedly denied Communion at a South Carolina church because of his stance on abortion  \n",
       "1  'Habitual stowaway' arrested again at O'Hare, Chicago police say;Search resumes for worker missing in New Orleans Hard Rock Hotel building site collapse that killed 2;Coroner IDs man found dead in Klondike neighborhood;China already snapping up U.S. farm goods, Trump claims;Motorcyclist killed in crash on New Cut Road identified;Wedding shooter may have been avenging late stepfather's murder, authorities say;Elderly Japan woman rescued from Typhoon Hagibis dies after falling from helicopter; storm kills at least 33;Officer who shot naked man found not guilty of murder;Suspect in Henry County murder, kidnapping arraigned;Harley-Davidson halts production of new electric motorcycles;A 'one in a million' yellow cardinal, dubbed 'Sunny,' seen in Florida;Boxer Patrick Day dies after suffering traumatic brain injury in super welterweight fight;Security camera spots SOS from woman lost for three days in Australia;Ex-Maverick to pay for funeral of woman fatally shot in home by police;Former Florida cop won't serve jail time after accidentally killing woman, 73, in training exercise;Florida police tell man to quit calling about stolen marijuana;Police arrest suspect in Bashford Manor double shooting;Missouri man missing for a week found alive in car that crashed into ravine;Suspect Alfredo Vazquez pleads guilty in Clark County judges' shooting case;Suspect in crossbow murder of his father arraigned;Officer placed on leave after threatening teen skaters at gunpoint;Three gunmen killed in Brazil airport raid, kidnapping: police;After being pushed close to extinction, this humpback whale population is making a comeback;Man shot in the chest on Floyd Street;UPDATE: Coroner reveals identity of victim in Beechmont neighborhood shooting;Archaeologists open ancient coffins in Egypt;30 killed in DR Congo bus accident;Arrest made in connection to stabbing in South Louisville;Cincinnati school board candidate accused of 'pretending to be black' in his ads;Group clears plastic drums, tires from Falls of the Ohio State Park;The size of a bus, rare and endangered whale shark spotted off Florida coast;Road built by biblical villain uncovered in Jerusalem;Teen given 8 years in prison for gang-related hate crime of student caught on tape;The Best Seafood Restaurant in All 50 States;Snoop Dogg bringing 'I Wanna Thank Me' tour to Louisville Palace;Chris, the famously woolly sheep, has died;Missing West Point cadet found dead, officials say;16-year-old injured in shooting near Churchill Downs;16 sentenced to death for burning alive Bangladesh teen;Coast Guard searches for man who fell from cruise off Texas;U.S. bans all flights to Cuba outside Havana in latest crackdown;Homeowner says a mystery object damaged his house. It didn't fall from a plane, FAA says;Police: 4 charged with attempted murder month after shooting in SW Louisville;Judge: Brad Pitt, others can be sued over New Orleans homes;Police Arrest Motorcyclist Who Led High-Speed Chase And Went Home Thinking He Escaped;He grew a 910-pound pumpkin and then used it as a boat;Cranes remove bus partially swallowed by Pittsburgh sinkhole;Grandfather charged in death of toddler who fell on cruise ship in Puerto Rico;Multiple Houses on Fire After Plane Crashes in NJ;Nearly $400M worth of cocaine and marijuana intercepted by US Coast Guard;Oldham County man charged, injuring victim during shooting practice;Former Fox News hosts want out of non-disclosure agreements;Teen wins science competition with liquid bandage invention;A lawyer reveals a legal nightmare you can face on a cruise ship;Barneys Is Sold for Scrap, Ending an Era;Louisville man who shot at LMPD officer sentenced to 10 more years in prison;A White Woman Searches for Her Black Family;Florida air show crash: Pilot killed when plane crashes;Suspects identified following hours-long SWAT standoff on South 34th Street;Niagara Falls: Boat stuck on rocks 101 years dislodged;The News In Cartoons;Family says 16-year-old was victim hit, killed on I-64;Woman stabbed in 2015 home invasion suing 911 dispatch company;National Sandwich Day: Where to score free subs and meal deals Sunday;Resident recalls moments leading up to fatal shooting in Russell neighborhood;Niagara Falls: Boat stuck on rocks 101 years dislodged;A secretive family landing a $4 billion haul has everyone guessing;Pope Lick Legend: Loved ones of those who died on trestle push for change;2 Murder suspects escape from Monterey County, California, Jail;Pirates kidnap nine crew members from cargo ship off coast of Benin;The Sante Fe High School massacre suspect isn't fit to stand trial and will get psychiatric treatment, attorney says;Krispy Kreme orders Minnesota student who bought, resold doughnuts to 'shut down operations';First round of auctions begin for Joe Ley Antiques;13-year-old charged with two murders escapes custody in North Carolina;Before his execution, a death row inmate told his victim's family he forgives them;Brazil oil auction a 'total disaster' as bidders stay away;Former Jewish Hospital nurse to be arraigned on sexual abuse of patient charge;A man dies in Hawaii after falling into a lava tube in his yard;Lumber spilled on I-71 following rollover crash; Lanes shut down;For the first time, a man has been sentenced for sexual slavery by the International Criminal Court. He got 30 years.;Kroger shooting: Suspect coming out of store fires at officers before they shoot him dead;OJ Simpson suing Vegas hotel for defamation over 2017 TMZ story claiming 'belligerence'  \n",
       "2                                                                                                                                                                                                                                                                                                                                                                                                                                                                                                                                                                                                                                                                                                                                                                                                                                                                                                                                                                                                                                                                                                                                                                                                                                                                                                                                                                                                                                                                                                                                                                                                                                                                                                                                                                                                                                                                                                                                                                                                                                                                                                                                                                                                                                                                                                                                                                                                                                                                                                                                                                                                                                                                                                                                                                                                                                                                                                                                                                                                                                                                                                                                                                                                                                                                                                                                                                                                                                                                                                                                                                                                                                                                                                                                                                                                                                                                                                                                                                                                                                                                                                                                                                                                                                                                                                                                                                                                                                                                                            Couple Didn't Know Why Car Was Running Strangely   Then They Popped The Hood;100 Outrageous Things Homeowners Have Done to Their Houses;Iowa family discovers horrifying basement filled with blood;Report: Three-time Super Bowl-winning RB LeGarrette Blount works out for Raiders;'The Masked Singer': Find Out Who the Eagle Was!;Wild fall freeze: Utah falls close to minus-35 as West shivers, while bitter cold oozes east;Beer-holding Nationals fan explained why he used his chest to block HR ball;The best sandwich shop in every US state and DC;Walmart's Pre-Holiday Deals Are Live Right Now;100 famous NFL players who played for teams you forgot about;A Los Angeles mansion once listed for $250 million has finally sold for 62% off after 3 years. Take a look inside what was once America's most expensive home.;The world's skinniest skyscraper is almost completed. I toured its first luxury condo   take a look inside the NYC tower that's 24 times taller than it is wide.;What Tom Brady, Lamar Jackson Told Each Other After Patriots-Ravens;Man Pulled From Path Of Oncoming BART Train;Woman Finds A Giant Wild Snake Just Chilling In Her Bed;Here Are the Biggest Deals We're Anticipating for Black Friday  \n",
       "3                                                                                                                                                                                                                                                                                                                                                                                                                                                                                                                                                                                                                                                                                                                                                                                                                                                                                                                                                                                                                                                                                                                                                                                                                                                                                                                                                                                                                                                                                                                                                                                                                                                                                                                                                                                                                                                                                                                                                                                                                                                                                                                                                                                                                                                                                                                                                                                                                                                                                                                                                                                                                                                                                                                                                                                                                                                                                                                                                                                                                                                                                                                                                                                                                                                                                                                                                                                                                                                                                                                                                                                                                                                                                                                                                                                                                                                                                                                                                                                                                                                                                                                                                                                                                                                                                                                                                                                                                                                                                                                                                                                                                                                                                                                                                                                                                                                                                                                                                                                                                                                            Former Deadliest Catch Star Jerod Sechrist Arrested, Charged with Heroin Possession;Off to the World Series, these Nationals have proved everyone wrong;Woman, suspect dead at 'Tarzan' actor Ron Ely's California residence;The megaprojects that changed countries forever;The world's largest nuclear power producer is melting down;Former NBA first-round pick Jim Farmer arrested in sex sting operation;Couple Cancels Wedding, Keeps $30K as \"Donation\" for Honeymoon Instead;Clippers set bad precedent resting Kawhi Leonard against Bucks;A sneak peek at Hudson Yards' Edge to open March 2020;7 biggest takeaways from the opening College Football Playoff rankings  \n",
       "4                                                                                                                                                                                                                                                                                                                                                                                                                                                                                                                                                                                                                                                                                                                                                                                                                                                                                                                                                                                                                                                                                                                                                                                                                                                                                                                                                                                                                                                                                                                                                                                                                                                                                                                                                                                                                                                                                                                                                                                                                                                                                                                                                                                                                                                                                                                                                                                                                                                                                                                                                                                                                                                                                                                                                                                                                                                                                                                                                                                                                                                                                                                                                                                                                                                                                                                                                                                                                                                                                                                                                                                                                                                                                                                                                                                                                                                                                                                                                                                                                                                                                                                                                                                                                                                                                                                                                                                                                                                                                                                                                                                                                                                                                                                                                                                                                                                                                                                                                                                                                                                                                                                                                                                                                                                                                                                                                                                                                                                                                                                  The Difference Between Green and Orange Antifreeze;Road built by biblical villain uncovered in Jerusalem;Boat inches closer to Niagara Falls edge after being grounded for century;24 Ways to Shrink Your Belly in 24 Hours  "
      ]
     },
     "execution_count": 81,
     "metadata": {},
     "output_type": "execute_result"
    }
   ],
   "source": [
    "final_user_df = pd.merge(behavior_df , df_concat, on=\"ImpressionID\", how='inner')\n",
    "final_user_df.head()"
   ]
  },
  {
   "cell_type": "code",
   "execution_count": 82,
   "metadata": {},
   "outputs": [
    {
     "data": {
      "text/plain": [
       "0"
      ]
     },
     "execution_count": 82,
     "metadata": {},
     "output_type": "execute_result"
    }
   ],
   "source": [
    "final_user_df['Titles'].isna().sum()"
   ]
  },
  {
   "cell_type": "markdown",
   "metadata": {},
   "source": []
  },
  {
   "cell_type": "code",
   "execution_count": 83,
   "metadata": {},
   "outputs": [
    {
     "data": {
      "text/plain": [
       "ImpressionID     int64\n",
       "UserID          object\n",
       "Time            object\n",
       "History         object\n",
       "Impressions     object\n",
       "Titles          object\n",
       "dtype: object"
      ]
     },
     "execution_count": 83,
     "metadata": {},
     "output_type": "execute_result"
    }
   ],
   "source": [
    "final_user_df.dtypes"
   ]
  },
  {
   "cell_type": "code",
   "execution_count": 85,
   "metadata": {},
   "outputs": [],
   "source": [
    "final_user_df['Titles'] = final_user_df['Titles'].astype('string')"
   ]
  },
  {
   "cell_type": "code",
   "execution_count": 88,
   "metadata": {},
   "outputs": [
    {
     "data": {
      "text/plain": [
       "153727"
      ]
     },
     "execution_count": 88,
     "metadata": {},
     "output_type": "execute_result"
    }
   ],
   "source": [
    "user_history_titles_df = final_user_df[['UserID' , 'Titles']]\n",
    "len(user_history_titles_df)"
   ]
  },
  {
   "cell_type": "code",
   "execution_count": 89,
   "metadata": {},
   "outputs": [
    {
     "data": {
      "text/plain": [
       "49108"
      ]
     },
     "execution_count": 89,
     "metadata": {},
     "output_type": "execute_result"
    }
   ],
   "source": [
    "user_history_titles_df = user_history_titles_df.drop_duplicates()\n",
    "len(user_history_titles_df)"
   ]
  },
  {
   "cell_type": "code",
   "execution_count": 90,
   "metadata": {},
   "outputs": [
    {
     "data": {
      "text/plain": [
       "49108"
      ]
     },
     "execution_count": 90,
     "metadata": {},
     "output_type": "execute_result"
    }
   ],
   "source": [
    "behavior_df['UserID'].nunique()"
   ]
  },
  {
   "cell_type": "code",
   "execution_count": 91,
   "metadata": {},
   "outputs": [
    {
     "name": "stderr",
     "output_type": "stream",
     "text": [
      "  0%|          | 0/1000 [27:52<?, ?it/s]\n",
      "100%|██████████| 1000/1000 [01:06<00:00, 15.03it/s]"
     ]
    }
   ],
   "source": [
    "CHUNK_SIZE = 200\n",
    "N_ROWS = 1000\n",
    "prepped = []\n",
    "progress_bar = tqdm(total= N_ROWS)\n",
    "namespace = 'UserHistory'\n",
    "\n",
    "def chunk_df(df ,CHUNK_SIZE ):\n",
    "    for i in range(0,N_ROWS, CHUNK_SIZE): #for i in range(0,len(df), CHUNK_SIZE)\n",
    "        yield df.iloc[i:i+CHUNK_SIZE]\n",
    "\n",
    "chunk_num = 0\n",
    "for chunk in chunk_df(user_history_titles_df , CHUNK_SIZE):\n",
    "    titles = chunk['Titles'].tolist()\n",
    "    embeddings = get_embeddings(titles)\n",
    "    prepped = [{'id':str(chunk_num*CHUNK_SIZE+i), 'values':embeddings[i],\n",
    "                'metadata':{'UserID':chunk['UserID'].iloc[i]}} for i in range(0,len(titles))]\n",
    "    chunk_num = chunk_num + 1\n",
    "    if len(prepped) >= 200:\n",
    "        try:\n",
    "            index.upsert(prepped , namespace= namespace )\n",
    "        except:\n",
    "            print(f\"Error upserting chunk {chunk_num}: {e}\")\n",
    "        prepped = []\n",
    "    progress_bar.update(len(chunk))\n",
    "\n",
    "#final\n",
    "if prepped:\n",
    "    try:\n",
    "        index.upsert(prepped , namespace= namespace)\n",
    "    except Exception as e:\n",
    "        print(f\"Error upserting final chunk: {e}\")\n"
   ]
  },
  {
   "cell_type": "code",
   "execution_count": 92,
   "metadata": {},
   "outputs": [
    {
     "data": {
      "text/plain": [
       "{'dimension': 384,\n",
       " 'index_fullness': 0.0,\n",
       " 'namespaces': {'NewsTitles': {'vector_count': 10000},\n",
       "                'UserHistory': {'vector_count': 1000}},\n",
       " 'total_vector_count': 11000}"
      ]
     },
     "execution_count": 92,
     "metadata": {},
     "output_type": "execute_result"
    }
   ],
   "source": [
    "index.describe_index_stats()"
   ]
  },
  {
   "cell_type": "code",
   "execution_count": 97,
   "metadata": {},
   "outputs": [
    {
     "data": {
      "text/html": [
       "<div>\n",
       "<style scoped>\n",
       "    .dataframe tbody tr th:only-of-type {\n",
       "        vertical-align: middle;\n",
       "    }\n",
       "\n",
       "    .dataframe tbody tr th {\n",
       "        vertical-align: top;\n",
       "    }\n",
       "\n",
       "    .dataframe thead th {\n",
       "        text-align: right;\n",
       "    }\n",
       "</style>\n",
       "<table border=\"1\" class=\"dataframe\">\n",
       "  <thead>\n",
       "    <tr style=\"text-align: right;\">\n",
       "      <th></th>\n",
       "      <th>ImpressionID</th>\n",
       "      <th>UserID</th>\n",
       "      <th>Time</th>\n",
       "      <th>History</th>\n",
       "      <th>Impressions</th>\n",
       "      <th>Titles</th>\n",
       "      <th>Impression_List</th>\n",
       "    </tr>\n",
       "  </thead>\n",
       "  <tbody>\n",
       "    <tr>\n",
       "      <th>0</th>\n",
       "      <td>1</td>\n",
       "      <td>U13740</td>\n",
       "      <td>11/11/2019 9:05:58 AM</td>\n",
       "      <td>N55189 N42782 N34694 N45794 N18445 N63302 N10414 N19347 N31801</td>\n",
       "      <td>N55689-1 N35729-0</td>\n",
       "      <td>'Wheel Of Fortune' Guest Delivers Hilarious, Off The Rails Introduction;Three takeaways from Yankees' ALCS Game 5 victory over the Astros;Rosie O'Donnell: Barbara Walters Isn't 'Up to Speaking to People' Right Now;Four flight attendants were arrested in Miami's airport after bringing in thousands in cash, police say;Michigan sends breakup tweet to Notre Dame as series goes on hold;This Wedding Photo of a Canine Best Man Captures Just How Deep a Dog's Love Truly Is;Robert Evans, 'Chinatown' Producer and Paramount Chief, Dies at 89;Former US Senator Kay Hagan dead at 66;Joe Biden reportedly denied Communion at a South Carolina church because of his stance on abortion</td>\n",
       "      <td>[N55689, N35729]</td>\n",
       "    </tr>\n",
       "    <tr>\n",
       "      <th>1</th>\n",
       "      <td>2</td>\n",
       "      <td>U91836</td>\n",
       "      <td>11/12/2019 6:11:30 PM</td>\n",
       "      <td>N31739 N6072 N63045 N23979 N35656 N43353 N8129 N1569 N17686 N13008 N21623 N6233 N14340 N48031 N62285 N44383 N23061 N16290 N6244 N45099 N58715 N59049 N7023 N50528 N42704 N46082 N8275 N15710 N59026 N8429 N30867 N56514 N19709 N31402 N31741 N54889 N9798 N62612 N2663 N16617 N6087 N13231 N63317 N61388 N59359 N51163 N30698 N34567 N54225 N32852 N55833 N64467 N3142 N13912 N29802 N44462 N29948 N4486 N5398 N14761 N47020 N65112 N31699 N37159 N61101 N14761 N3433 N10438 N61355 N21164 N22976 N2511 N48390 N58224 N48742 N35458 N24611 N37509 N21773 N41011 N19041 N25785</td>\n",
       "      <td>N20678-0 N39317-0 N58114-0 N20495-0 N42977-0 N22407-0 N14592-0 N17059-1 N33677-0 N7821-0 N6890-0</td>\n",
       "      <td>'Habitual stowaway' arrested again at O'Hare, Chicago police say;Search resumes for worker missing in New Orleans Hard Rock Hotel building site collapse that killed 2;Coroner IDs man found dead in Klondike neighborhood;China already snapping up U.S. farm goods, Trump claims;Motorcyclist killed in crash on New Cut Road identified;Wedding shooter may have been avenging late stepfather's murder, authorities say;Elderly Japan woman rescued from Typhoon Hagibis dies after falling from helicopter; storm kills at least 33;Officer who shot naked man found not guilty of murder;Suspect in Henry County murder, kidnapping arraigned;Harley-Davidson halts production of new electric motorcycles;A 'one in a million' yellow cardinal, dubbed 'Sunny,' seen in Florida;Boxer Patrick Day dies after suffering traumatic brain injury in super welterweight fight;Security camera spots SOS from woman lost for three days in Australia;Ex-Maverick to pay for funeral of woman fatally shot in home by police;Former Florida cop won't serve jail time after accidentally killing woman, 73, in training exercise;Florida police tell man to quit calling about stolen marijuana;Police arrest suspect in Bashford Manor double shooting;Missouri man missing for a week found alive in car that crashed into ravine;Suspect Alfredo Vazquez pleads guilty in Clark County judges' shooting case;Suspect in crossbow murder of his father arraigned;Officer placed on leave after threatening teen skaters at gunpoint;Three gunmen killed in Brazil airport raid, kidnapping: police;After being pushed close to extinction, this humpback whale population is making a comeback;Man shot in the chest on Floyd Street;UPDATE: Coroner reveals identity of victim in Beechmont neighborhood shooting;Archaeologists open ancient coffins in Egypt;30 killed in DR Congo bus accident;Arrest made in connection to stabbing in South Louisville;Cincinnati school board candidate accused of 'pretending to be black' in his ads;Group clears plastic drums, tires from Falls of the Ohio State Park;The size of a bus, rare and endangered whale shark spotted off Florida coast;Road built by biblical villain uncovered in Jerusalem;Teen given 8 years in prison for gang-related hate crime of student caught on tape;The Best Seafood Restaurant in All 50 States;Snoop Dogg bringing 'I Wanna Thank Me' tour to Louisville Palace;Chris, the famously woolly sheep, has died;Missing West Point cadet found dead, officials say;16-year-old injured in shooting near Churchill Downs;16 sentenced to death for burning alive Bangladesh teen;Coast Guard searches for man who fell from cruise off Texas;U.S. bans all flights to Cuba outside Havana in latest crackdown;Homeowner says a mystery object damaged his house. It didn't fall from a plane, FAA says;Police: 4 charged with attempted murder month after shooting in SW Louisville;Judge: Brad Pitt, others can be sued over New Orleans homes;Police Arrest Motorcyclist Who Led High-Speed Chase And Went Home Thinking He Escaped;He grew a 910-pound pumpkin and then used it as a boat;Cranes remove bus partially swallowed by Pittsburgh sinkhole;Grandfather charged in death of toddler who fell on cruise ship in Puerto Rico;Multiple Houses on Fire After Plane Crashes in NJ;Nearly $400M worth of cocaine and marijuana intercepted by US Coast Guard;Oldham County man charged, injuring victim during shooting practice;Former Fox News hosts want out of non-disclosure agreements;Teen wins science competition with liquid bandage invention;A lawyer reveals a legal nightmare you can face on a cruise ship;Barneys Is Sold for Scrap, Ending an Era;Louisville man who shot at LMPD officer sentenced to 10 more years in prison;A White Woman Searches for Her Black Family;Florida air show crash: Pilot killed when plane crashes;Suspects identified following hours-long SWAT standoff on South 34th Street;Niagara Falls: Boat stuck on rocks 101 years dislodged;The News In Cartoons;Family says 16-year-old was victim hit, killed on I-64;Woman stabbed in 2015 home invasion suing 911 dispatch company;National Sandwich Day: Where to score free subs and meal deals Sunday;Resident recalls moments leading up to fatal shooting in Russell neighborhood;Niagara Falls: Boat stuck on rocks 101 years dislodged;A secretive family landing a $4 billion haul has everyone guessing;Pope Lick Legend: Loved ones of those who died on trestle push for change;2 Murder suspects escape from Monterey County, California, Jail;Pirates kidnap nine crew members from cargo ship off coast of Benin;The Sante Fe High School massacre suspect isn't fit to stand trial and will get psychiatric treatment, attorney says;Krispy Kreme orders Minnesota student who bought, resold doughnuts to 'shut down operations';First round of auctions begin for Joe Ley Antiques;13-year-old charged with two murders escapes custody in North Carolina;Before his execution, a death row inmate told his victim's family he forgives them;Brazil oil auction a 'total disaster' as bidders stay away;Former Jewish Hospital nurse to be arraigned on sexual abuse of patient charge;A man dies in Hawaii after falling into a lava tube in his yard;Lumber spilled on I-71 following rollover crash; Lanes shut down;For the first time, a man has been sentenced for sexual slavery by the International Criminal Court. He got 30 years.;Kroger shooting: Suspect coming out of store fires at officers before they shoot him dead;OJ Simpson suing Vegas hotel for defamation over 2017 TMZ story claiming 'belligerence'</td>\n",
       "      <td>[N20678, N39317, N58114, N20495, N42977, N22407, N14592, N17059, N33677, N7821, N6890]</td>\n",
       "    </tr>\n",
       "    <tr>\n",
       "      <th>2</th>\n",
       "      <td>3</td>\n",
       "      <td>U73700</td>\n",
       "      <td>11/14/2019 7:01:48 AM</td>\n",
       "      <td>N10732 N25792 N7563 N21087 N41087 N5445 N60384 N46616 N52500 N33164 N47289 N24233 N62058 N26378 N49475 N18870</td>\n",
       "      <td>N50014-0 N23877-0 N35389-0 N49712-0 N16844-0 N59685-0 N23814-1 N23446-0 N64174-0 N11817-0 N60550-0 N48225-0 N45509-0 N56711-0 N46821-0 N48017-0 N8015-0 N5364-0 N48722-0 N55555-0 N37348-0 N40109-0 N59495-0 N36226-0 N38779-0 N47346-0 N48875-0 N10960-0 N29739-0 N50872-0 N50592-0 N13131-0 N3839-0 N12330-0 N47098-0 N51570-0</td>\n",
       "      <td>Couple Didn't Know Why Car Was Running Strangely   Then They Popped The Hood;100 Outrageous Things Homeowners Have Done to Their Houses;Iowa family discovers horrifying basement filled with blood;Report: Three-time Super Bowl-winning RB LeGarrette Blount works out for Raiders;'The Masked Singer': Find Out Who the Eagle Was!;Wild fall freeze: Utah falls close to minus-35 as West shivers, while bitter cold oozes east;Beer-holding Nationals fan explained why he used his chest to block HR ball;The best sandwich shop in every US state and DC;Walmart's Pre-Holiday Deals Are Live Right Now;100 famous NFL players who played for teams you forgot about;A Los Angeles mansion once listed for $250 million has finally sold for 62% off after 3 years. Take a look inside what was once America's most expensive home.;The world's skinniest skyscraper is almost completed. I toured its first luxury condo   take a look inside the NYC tower that's 24 times taller than it is wide.;What Tom Brady, Lamar Jackson Told Each Other After Patriots-Ravens;Man Pulled From Path Of Oncoming BART Train;Woman Finds A Giant Wild Snake Just Chilling In Her Bed;Here Are the Biggest Deals We're Anticipating for Black Friday</td>\n",
       "      <td>[N50014, N23877, N35389, N49712, N16844, N59685, N23814, N23446, N64174, N11817, N60550, N48225, N45509, N56711, N46821, N48017, N8015, N5364, N48722, N55555, N37348, N40109, N59495, N36226, N38779, N47346, N48875, N10960, N29739, N50872, N50592, N13131, N3839, N12330, N47098, N51570]</td>\n",
       "    </tr>\n",
       "    <tr>\n",
       "      <th>3</th>\n",
       "      <td>4</td>\n",
       "      <td>U34670</td>\n",
       "      <td>11/11/2019 5:28:05 AM</td>\n",
       "      <td>N45729 N2203 N871 N53880 N41375 N43142 N33013 N29757 N31825 N51891</td>\n",
       "      <td>N35729-0 N33632-0 N49685-1 N27581-0</td>\n",
       "      <td>Former Deadliest Catch Star Jerod Sechrist Arrested, Charged with Heroin Possession;Off to the World Series, these Nationals have proved everyone wrong;Woman, suspect dead at 'Tarzan' actor Ron Ely's California residence;The megaprojects that changed countries forever;The world's largest nuclear power producer is melting down;Former NBA first-round pick Jim Farmer arrested in sex sting operation;Couple Cancels Wedding, Keeps $30K as \"Donation\" for Honeymoon Instead;Clippers set bad precedent resting Kawhi Leonard against Bucks;A sneak peek at Hudson Yards' Edge to open March 2020;7 biggest takeaways from the opening College Football Playoff rankings</td>\n",
       "      <td>[N35729, N33632, N49685, N27581]</td>\n",
       "    </tr>\n",
       "    <tr>\n",
       "      <th>4</th>\n",
       "      <td>5</td>\n",
       "      <td>U8125</td>\n",
       "      <td>11/12/2019 4:11:21 PM</td>\n",
       "      <td>N10078 N56514 N14904 N33740</td>\n",
       "      <td>N39985-0 N36050-0 N16096-0 N8400-1 N22407-0 N60408-0 N61497-0 N47412-0 N41220-0 N1940-0 N724-0 N11363-0 N261-0 N33883-0 N36807-0 N11967-0 N17896-0 N13486-0 N10413-0 N54274-0 N4247-0 N27497-0 N38512-0 N30253-0 N45389-0 N20015-0 N20678-0 N54003-0 N35850-0 N33261-0 N32010-0 N57426-0 N7419-0 N50023-0 N36446-0 N26940-0 N28495-0 N19318-0 N4936-0 N28414-0 N25108-0 N32791-0 N23563-0 N39317-0 N16166-0 N37058-0 N64851-0 N46992-0 N57327-0 N12995-0 N58363-0 N53084-0 N11094-0 N36436-0 N305-0 N58241-0 N33212-0 N6975-0 N58114-0 N3344-0 N25406-0 N4741-0 N33885-0 N20915-0 N44941-0 N57319-0 N36532-0 N61822-0 N20527-0</td>\n",
       "      <td>The Difference Between Green and Orange Antifreeze;Road built by biblical villain uncovered in Jerusalem;Boat inches closer to Niagara Falls edge after being grounded for century;24 Ways to Shrink Your Belly in 24 Hours</td>\n",
       "      <td>[N39985, N36050, N16096, N8400, N22407, N60408, N61497, N47412, N41220, N1940, N724, N11363, N261, N33883, N36807, N11967, N17896, N13486, N10413, N54274, N4247, N27497, N38512, N30253, N45389, N20015, N20678, N54003, N35850, N33261, N32010, N57426, N7419, N50023, N36446, N26940, N28495, N19318, N4936, N28414, N25108, N32791, N23563, N39317, N16166, N37058, N64851, N46992, N57327, N12995, N58363, N53084, N11094, N36436, N305, N58241, N33212, N6975, N58114, N3344, N25406, N4741, N33885, N20915, N44941, N57319, N36532, N61822, N20527]</td>\n",
       "    </tr>\n",
       "  </tbody>\n",
       "</table>\n",
       "</div>"
      ],
      "text/plain": [
       "   ImpressionID  UserID                   Time  \\\n",
       "0             1  U13740  11/11/2019 9:05:58 AM   \n",
       "1             2  U91836  11/12/2019 6:11:30 PM   \n",
       "2             3  U73700  11/14/2019 7:01:48 AM   \n",
       "3             4  U34670  11/11/2019 5:28:05 AM   \n",
       "4             5   U8125  11/12/2019 4:11:21 PM   \n",
       "\n",
       "                                                                                                                                                                                                                                                                                                                                                                                                                                                                                                                                                                         History  \\\n",
       "0                                                                                                                                                                                                                                                                                                                                                                                                                                                                                                                 N55189 N42782 N34694 N45794 N18445 N63302 N10414 N19347 N31801   \n",
       "1  N31739 N6072 N63045 N23979 N35656 N43353 N8129 N1569 N17686 N13008 N21623 N6233 N14340 N48031 N62285 N44383 N23061 N16290 N6244 N45099 N58715 N59049 N7023 N50528 N42704 N46082 N8275 N15710 N59026 N8429 N30867 N56514 N19709 N31402 N31741 N54889 N9798 N62612 N2663 N16617 N6087 N13231 N63317 N61388 N59359 N51163 N30698 N34567 N54225 N32852 N55833 N64467 N3142 N13912 N29802 N44462 N29948 N4486 N5398 N14761 N47020 N65112 N31699 N37159 N61101 N14761 N3433 N10438 N61355 N21164 N22976 N2511 N48390 N58224 N48742 N35458 N24611 N37509 N21773 N41011 N19041 N25785   \n",
       "2                                                                                                                                                                                                                                                                                                                                                                                                                                                                  N10732 N25792 N7563 N21087 N41087 N5445 N60384 N46616 N52500 N33164 N47289 N24233 N62058 N26378 N49475 N18870   \n",
       "3                                                                                                                                                                                                                                                                                                                                                                                                                                                                                                             N45729 N2203 N871 N53880 N41375 N43142 N33013 N29757 N31825 N51891   \n",
       "4                                                                                                                                                                                                                                                                                                                                                                                                                                                                                                                                                    N10078 N56514 N14904 N33740   \n",
       "\n",
       "                                                                                                                                                                                                                                                                                                                                                                                                                                                                                                                                                                                                                      Impressions  \\\n",
       "0                                                                                                                                                                                                                                                                                                                                                                                                                                                                                                                                                                                                               N55689-1 N35729-0   \n",
       "1                                                                                                                                                                                                                                                                                                                                                                                                                                                                                                                                N20678-0 N39317-0 N58114-0 N20495-0 N42977-0 N22407-0 N14592-0 N17059-1 N33677-0 N7821-0 N6890-0   \n",
       "2                                                                                                                                                                                                                                                                                                N50014-0 N23877-0 N35389-0 N49712-0 N16844-0 N59685-0 N23814-1 N23446-0 N64174-0 N11817-0 N60550-0 N48225-0 N45509-0 N56711-0 N46821-0 N48017-0 N8015-0 N5364-0 N48722-0 N55555-0 N37348-0 N40109-0 N59495-0 N36226-0 N38779-0 N47346-0 N48875-0 N10960-0 N29739-0 N50872-0 N50592-0 N13131-0 N3839-0 N12330-0 N47098-0 N51570-0   \n",
       "3                                                                                                                                                                                                                                                                                                                                                                                                                                                                                                                                                                                             N35729-0 N33632-0 N49685-1 N27581-0   \n",
       "4  N39985-0 N36050-0 N16096-0 N8400-1 N22407-0 N60408-0 N61497-0 N47412-0 N41220-0 N1940-0 N724-0 N11363-0 N261-0 N33883-0 N36807-0 N11967-0 N17896-0 N13486-0 N10413-0 N54274-0 N4247-0 N27497-0 N38512-0 N30253-0 N45389-0 N20015-0 N20678-0 N54003-0 N35850-0 N33261-0 N32010-0 N57426-0 N7419-0 N50023-0 N36446-0 N26940-0 N28495-0 N19318-0 N4936-0 N28414-0 N25108-0 N32791-0 N23563-0 N39317-0 N16166-0 N37058-0 N64851-0 N46992-0 N57327-0 N12995-0 N58363-0 N53084-0 N11094-0 N36436-0 N305-0 N58241-0 N33212-0 N6975-0 N58114-0 N3344-0 N25406-0 N4741-0 N33885-0 N20915-0 N44941-0 N57319-0 N36532-0 N61822-0 N20527-0   \n",
       "\n",
       "                                                                                                                                                                                                                                                                                                                                                                                                                                                                                                                                                                                                                                                                                                                                                                                                                                                                                                                                                                                                                                                                                                                                                                                                                                                                                                                                                                                                                                                                                                                                                                                                                                                                                                                                                                                                                                                                                                                                                                                                                                                                                                                                                                                                                                                                                                                                                                                                                                                                                                                                                                                                                                                                                                                                                                                                                                                                                                                                                                                                                                                                                                                                                                                                                                                                                                                                                                                                                                                                                                                                                                                                                                                                                                                                                                                                                                                                                                                                                                                                                                                                                                                                                                                                                                                                                                                                                                                                                                                                                                                                                                                                                                                                                                                                                                                                                                                                                                                                                                                                                                                                                                                                                                                                                                                                                                                                                                                                                                                                                                                                                                                                                                                                                                                                        Titles  \\\n",
       "0                                                                                                                                                                                                                                                                                                                                                                                                                                                                                                                                                                                                                                                                                                                                                                                                                                                                                                                                                                                                                                                                                                                                                                                                                                                                                                                                                                                                                                                                                                                                                                                                                                                                                                                                                                                                                                                                                                                                                                                                                                                                                                                                                                                                                                                                                                                                                                                                                                                                                                                                                                                                                                                                                                                                                                                                                                                                                                                                                                                                                                                                                                                                                                                                                                                                                                                                                                                                                                                                                                                                                                                                                                                                                                                                                                                                                                                                                                                                                                                                                                                                                                                                                                                                                                                                                                                                                                                                                                                                                                                                                                                                                                                                                                                                                                                                                                                                                                                                                                                                                                            'Wheel Of Fortune' Guest Delivers Hilarious, Off The Rails Introduction;Three takeaways from Yankees' ALCS Game 5 victory over the Astros;Rosie O'Donnell: Barbara Walters Isn't 'Up to Speaking to People' Right Now;Four flight attendants were arrested in Miami's airport after bringing in thousands in cash, police say;Michigan sends breakup tweet to Notre Dame as series goes on hold;This Wedding Photo of a Canine Best Man Captures Just How Deep a Dog's Love Truly Is;Robert Evans, 'Chinatown' Producer and Paramount Chief, Dies at 89;Former US Senator Kay Hagan dead at 66;Joe Biden reportedly denied Communion at a South Carolina church because of his stance on abortion   \n",
       "1  'Habitual stowaway' arrested again at O'Hare, Chicago police say;Search resumes for worker missing in New Orleans Hard Rock Hotel building site collapse that killed 2;Coroner IDs man found dead in Klondike neighborhood;China already snapping up U.S. farm goods, Trump claims;Motorcyclist killed in crash on New Cut Road identified;Wedding shooter may have been avenging late stepfather's murder, authorities say;Elderly Japan woman rescued from Typhoon Hagibis dies after falling from helicopter; storm kills at least 33;Officer who shot naked man found not guilty of murder;Suspect in Henry County murder, kidnapping arraigned;Harley-Davidson halts production of new electric motorcycles;A 'one in a million' yellow cardinal, dubbed 'Sunny,' seen in Florida;Boxer Patrick Day dies after suffering traumatic brain injury in super welterweight fight;Security camera spots SOS from woman lost for three days in Australia;Ex-Maverick to pay for funeral of woman fatally shot in home by police;Former Florida cop won't serve jail time after accidentally killing woman, 73, in training exercise;Florida police tell man to quit calling about stolen marijuana;Police arrest suspect in Bashford Manor double shooting;Missouri man missing for a week found alive in car that crashed into ravine;Suspect Alfredo Vazquez pleads guilty in Clark County judges' shooting case;Suspect in crossbow murder of his father arraigned;Officer placed on leave after threatening teen skaters at gunpoint;Three gunmen killed in Brazil airport raid, kidnapping: police;After being pushed close to extinction, this humpback whale population is making a comeback;Man shot in the chest on Floyd Street;UPDATE: Coroner reveals identity of victim in Beechmont neighborhood shooting;Archaeologists open ancient coffins in Egypt;30 killed in DR Congo bus accident;Arrest made in connection to stabbing in South Louisville;Cincinnati school board candidate accused of 'pretending to be black' in his ads;Group clears plastic drums, tires from Falls of the Ohio State Park;The size of a bus, rare and endangered whale shark spotted off Florida coast;Road built by biblical villain uncovered in Jerusalem;Teen given 8 years in prison for gang-related hate crime of student caught on tape;The Best Seafood Restaurant in All 50 States;Snoop Dogg bringing 'I Wanna Thank Me' tour to Louisville Palace;Chris, the famously woolly sheep, has died;Missing West Point cadet found dead, officials say;16-year-old injured in shooting near Churchill Downs;16 sentenced to death for burning alive Bangladesh teen;Coast Guard searches for man who fell from cruise off Texas;U.S. bans all flights to Cuba outside Havana in latest crackdown;Homeowner says a mystery object damaged his house. It didn't fall from a plane, FAA says;Police: 4 charged with attempted murder month after shooting in SW Louisville;Judge: Brad Pitt, others can be sued over New Orleans homes;Police Arrest Motorcyclist Who Led High-Speed Chase And Went Home Thinking He Escaped;He grew a 910-pound pumpkin and then used it as a boat;Cranes remove bus partially swallowed by Pittsburgh sinkhole;Grandfather charged in death of toddler who fell on cruise ship in Puerto Rico;Multiple Houses on Fire After Plane Crashes in NJ;Nearly $400M worth of cocaine and marijuana intercepted by US Coast Guard;Oldham County man charged, injuring victim during shooting practice;Former Fox News hosts want out of non-disclosure agreements;Teen wins science competition with liquid bandage invention;A lawyer reveals a legal nightmare you can face on a cruise ship;Barneys Is Sold for Scrap, Ending an Era;Louisville man who shot at LMPD officer sentenced to 10 more years in prison;A White Woman Searches for Her Black Family;Florida air show crash: Pilot killed when plane crashes;Suspects identified following hours-long SWAT standoff on South 34th Street;Niagara Falls: Boat stuck on rocks 101 years dislodged;The News In Cartoons;Family says 16-year-old was victim hit, killed on I-64;Woman stabbed in 2015 home invasion suing 911 dispatch company;National Sandwich Day: Where to score free subs and meal deals Sunday;Resident recalls moments leading up to fatal shooting in Russell neighborhood;Niagara Falls: Boat stuck on rocks 101 years dislodged;A secretive family landing a $4 billion haul has everyone guessing;Pope Lick Legend: Loved ones of those who died on trestle push for change;2 Murder suspects escape from Monterey County, California, Jail;Pirates kidnap nine crew members from cargo ship off coast of Benin;The Sante Fe High School massacre suspect isn't fit to stand trial and will get psychiatric treatment, attorney says;Krispy Kreme orders Minnesota student who bought, resold doughnuts to 'shut down operations';First round of auctions begin for Joe Ley Antiques;13-year-old charged with two murders escapes custody in North Carolina;Before his execution, a death row inmate told his victim's family he forgives them;Brazil oil auction a 'total disaster' as bidders stay away;Former Jewish Hospital nurse to be arraigned on sexual abuse of patient charge;A man dies in Hawaii after falling into a lava tube in his yard;Lumber spilled on I-71 following rollover crash; Lanes shut down;For the first time, a man has been sentenced for sexual slavery by the International Criminal Court. He got 30 years.;Kroger shooting: Suspect coming out of store fires at officers before they shoot him dead;OJ Simpson suing Vegas hotel for defamation over 2017 TMZ story claiming 'belligerence'   \n",
       "2                                                                                                                                                                                                                                                                                                                                                                                                                                                                                                                                                                                                                                                                                                                                                                                                                                                                                                                                                                                                                                                                                                                                                                                                                                                                                                                                                                                                                                                                                                                                                                                                                                                                                                                                                                                                                                                                                                                                                                                                                                                                                                                                                                                                                                                                                                                                                                                                                                                                                                                                                                                                                                                                                                                                                                                                                                                                                                                                                                                                                                                                                                                                                                                                                                                                                                                                                                                                                                                                                                                                                                                                                                                                                                                                                                                                                                                                                                                                                                                                                                                                                                                                                                                                                                                                                                                                                                                                                                                                                            Couple Didn't Know Why Car Was Running Strangely   Then They Popped The Hood;100 Outrageous Things Homeowners Have Done to Their Houses;Iowa family discovers horrifying basement filled with blood;Report: Three-time Super Bowl-winning RB LeGarrette Blount works out for Raiders;'The Masked Singer': Find Out Who the Eagle Was!;Wild fall freeze: Utah falls close to minus-35 as West shivers, while bitter cold oozes east;Beer-holding Nationals fan explained why he used his chest to block HR ball;The best sandwich shop in every US state and DC;Walmart's Pre-Holiday Deals Are Live Right Now;100 famous NFL players who played for teams you forgot about;A Los Angeles mansion once listed for $250 million has finally sold for 62% off after 3 years. Take a look inside what was once America's most expensive home.;The world's skinniest skyscraper is almost completed. I toured its first luxury condo   take a look inside the NYC tower that's 24 times taller than it is wide.;What Tom Brady, Lamar Jackson Told Each Other After Patriots-Ravens;Man Pulled From Path Of Oncoming BART Train;Woman Finds A Giant Wild Snake Just Chilling In Her Bed;Here Are the Biggest Deals We're Anticipating for Black Friday   \n",
       "3                                                                                                                                                                                                                                                                                                                                                                                                                                                                                                                                                                                                                                                                                                                                                                                                                                                                                                                                                                                                                                                                                                                                                                                                                                                                                                                                                                                                                                                                                                                                                                                                                                                                                                                                                                                                                                                                                                                                                                                                                                                                                                                                                                                                                                                                                                                                                                                                                                                                                                                                                                                                                                                                                                                                                                                                                                                                                                                                                                                                                                                                                                                                                                                                                                                                                                                                                                                                                                                                                                                                                                                                                                                                                                                                                                                                                                                                                                                                                                                                                                                                                                                                                                                                                                                                                                                                                                                                                                                                                                                                                                                                                                                                                                                                                                                                                                                                                                                                                                                                                                                            Former Deadliest Catch Star Jerod Sechrist Arrested, Charged with Heroin Possession;Off to the World Series, these Nationals have proved everyone wrong;Woman, suspect dead at 'Tarzan' actor Ron Ely's California residence;The megaprojects that changed countries forever;The world's largest nuclear power producer is melting down;Former NBA first-round pick Jim Farmer arrested in sex sting operation;Couple Cancels Wedding, Keeps $30K as \"Donation\" for Honeymoon Instead;Clippers set bad precedent resting Kawhi Leonard against Bucks;A sneak peek at Hudson Yards' Edge to open March 2020;7 biggest takeaways from the opening College Football Playoff rankings   \n",
       "4                                                                                                                                                                                                                                                                                                                                                                                                                                                                                                                                                                                                                                                                                                                                                                                                                                                                                                                                                                                                                                                                                                                                                                                                                                                                                                                                                                                                                                                                                                                                                                                                                                                                                                                                                                                                                                                                                                                                                                                                                                                                                                                                                                                                                                                                                                                                                                                                                                                                                                                                                                                                                                                                                                                                                                                                                                                                                                                                                                                                                                                                                                                                                                                                                                                                                                                                                                                                                                                                                                                                                                                                                                                                                                                                                                                                                                                                                                                                                                                                                                                                                                                                                                                                                                                                                                                                                                                                                                                                                                                                                                                                                                                                                                                                                                                                                                                                                                                                                                                                                                                                                                                                                                                                                                                                                                                                                                                                                                                                                                                  The Difference Between Green and Orange Antifreeze;Road built by biblical villain uncovered in Jerusalem;Boat inches closer to Niagara Falls edge after being grounded for century;24 Ways to Shrink Your Belly in 24 Hours   \n",
       "\n",
       "                                                                                                                                                                                                                                                                                                                                                                                                                                                                                                                                              Impression_List  \n",
       "0                                                                                                                                                                                                                                                                                                                                                                                                                                                                                                                                            [N55689, N35729]  \n",
       "1                                                                                                                                                                                                                                                                                                                                                                                                                                                                      [N20678, N39317, N58114, N20495, N42977, N22407, N14592, N17059, N33677, N7821, N6890]  \n",
       "2                                                                                                                                                                                                                                                               [N50014, N23877, N35389, N49712, N16844, N59685, N23814, N23446, N64174, N11817, N60550, N48225, N45509, N56711, N46821, N48017, N8015, N5364, N48722, N55555, N37348, N40109, N59495, N36226, N38779, N47346, N48875, N10960, N29739, N50872, N50592, N13131, N3839, N12330, N47098, N51570]  \n",
       "3                                                                                                                                                                                                                                                                                                                                                                                                                                                                                                                            [N35729, N33632, N49685, N27581]  \n",
       "4  [N39985, N36050, N16096, N8400, N22407, N60408, N61497, N47412, N41220, N1940, N724, N11363, N261, N33883, N36807, N11967, N17896, N13486, N10413, N54274, N4247, N27497, N38512, N30253, N45389, N20015, N20678, N54003, N35850, N33261, N32010, N57426, N7419, N50023, N36446, N26940, N28495, N19318, N4936, N28414, N25108, N32791, N23563, N39317, N16166, N37058, N64851, N46992, N57327, N12995, N58363, N53084, N11094, N36436, N305, N58241, N33212, N6975, N58114, N3344, N25406, N4741, N33885, N20915, N44941, N57319, N36532, N61822, N20527]  "
      ]
     },
     "execution_count": 97,
     "metadata": {},
     "output_type": "execute_result"
    }
   ],
   "source": [
    "# Given user and list of NewsIDs, rank the IDs.\n",
    "final_user_df['Impression_List'] = final_user_df['Impressions'].str.replace(r'-(1|0)','',regex=True)\n",
    "final_user_df['Impression_List'] = final_user_df['Impression_List'].apply(lambda x: x.split())\n",
    "final_user_df.head()"
   ]
  },
  {
   "cell_type": "code",
   "execution_count": 100,
   "metadata": {},
   "outputs": [],
   "source": [
    "sample_Titles = \"\"\" 'Wheel Of Fortune' Guest Delivers Hilarious, Off The Rails Introduction;Three takeaways from Yankees' ALCS Game 5 victory over the Astros;Rosie O'Donnell: Barbara Walters Isn't 'Up to Speaking to People' Right Now;Four flight attendants were arrested in Miami's airport after bringing in thousands in cash, police say;Michigan sends breakup tweet to Notre Dame as series goes on hold;This Wedding Photo of a Canine Best Man Captures Just How Deep a Dog's Love Truly Is;Robert Evans, 'Chinatown' Producer and Paramount Chief, Dies at 89;Former US Senator Kay Hagan dead at 66;Joe Biden reportedly denied Communion at a South Carolina church because of his stance on abortion\n",
    "\"\"\""
   ]
  },
  {
   "cell_type": "code",
   "execution_count": 101,
   "metadata": {},
   "outputs": [
    {
     "data": {
      "text/plain": [
       "\" 'Wheel Of Fortune' Guest Delivers Hilarious, Off The Rails Introduction;Three takeaways from Yankees' ALCS Game 5 victory over the Astros;Rosie O'Donnell: Barbara Walters Isn't 'Up to Speaking to People' Right Now;Four flight attendants were arrested in Miami's airport after bringing in thousands in cash, police say;Michigan sends breakup tweet to Notre Dame as series goes on hold;This Wedding Photo of a Canine Best Man Captures Just How Deep a Dog's Love Truly Is;Robert Evans, 'Chinatown' Producer and Paramount Chief, Dies at 89;Former US Senator Kay Hagan dead at 66;Joe Biden reportedly denied Communion at a South Carolina church because of his stance on abortion\\n\""
      ]
     },
     "execution_count": 101,
     "metadata": {},
     "output_type": "execute_result"
    }
   ],
   "source": [
    "sample_Titles"
   ]
  },
  {
   "cell_type": "code",
   "execution_count": 103,
   "metadata": {},
   "outputs": [
    {
     "name": "stdout",
     "output_type": "stream",
     "text": [
      "0.459479809 : N63302-This Wedding Photo of a Canine Best Man Captures Just How Deep a Dog's Love Truly Is\n",
      "0.424786627 : N55189-'Wheel Of Fortune' Guest Delivers Hilarious, Off The Rails Introduction\n",
      "0.413145512 : N27341-These Brides Got Married in the Hawaiian Jungle, and There Was a Tiny Horse Involved - It Was Wild!\n",
      "0.409392208 : N651-Nine Celebrity Chef Restaurant Super Flops\n",
      "0.402621478 : N57739-Conan the hero dog holds a press conference on 'SNL'\n",
      "0.400774539 : N50899-Elizabeth Warren's golden retriever crashes CNN interview\n",
      "0.392070025 : N35834-Groom Misses Wedding to Undergo Emergency Brain Surgery\n",
      "0.382983 : N9209-'We were blindsided': NC vet and his wife deal with cancer -- and the VA\n",
      "0.379593253 : N63496-Biggest Late-Night Guests Now Bring a News Angle, Not a Movie Clip\n",
      "0.377434909 : N52059-The Jets are upset ESPN aired Sam Darnold's mic'd up quote about 'seeing ghosts'\n"
     ]
    }
   ],
   "source": [
    "reco = get_recommendations(index, sample_Titles, 'NewsTitles')\n",
    "for r in reco.matches:\n",
    "    print(f'{r.score} : {r.id}-{r.metadata[\"title\"]}')"
   ]
  },
  {
   "cell_type": "code",
   "execution_count": null,
   "metadata": {},
   "outputs": [],
   "source": [
    "def rank_impressions(pinecone_index, search_term, namespace = 'NewsTitles' ,filter = {\n",
    "  \"genre\": { \"$in\": [\"comedy\", \"documentary\", \"drama\"] }\n",
    "} ):\n",
    "  embed = get_embeddings(search_term)\n",
    "  res = pinecone_index.query(namespace = namespace ,vector=embed.tolist(), top_k=top_k, include_metadata=True )\n",
    "  return res"
   ]
  }
 ],
 "metadata": {
  "kernelspec": {
   "display_name": "tf_env",
   "language": "python",
   "name": "python3"
  },
  "language_info": {
   "codemirror_mode": {
    "name": "ipython",
    "version": 3
   },
   "file_extension": ".py",
   "mimetype": "text/x-python",
   "name": "python",
   "nbconvert_exporter": "python",
   "pygments_lexer": "ipython3",
   "version": "3.12.3"
  }
 },
 "nbformat": 4,
 "nbformat_minor": 2
}
